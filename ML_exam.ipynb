{
 "cells": [
  {
   "cell_type": "markdown",
   "id": "438acbf2",
   "metadata": {},
   "source": [
    "# Theory\n",
    "\n",
    "Before moving on to the actual coding, one thing that makes data scientists so in-demand is knowing when and why to use different algorithms. Because of this, let's check that you really understand what you're doing! :)"
   ]
  },
  {
   "cell_type": "markdown",
   "id": "59ce2274",
   "metadata": {},
   "source": [
    "1. What is the difference between supervised learning and unsupervised learning? In addition to your explanation, give two fictional examples for each (4 in total) that clearly explain the difference."
   ]
  },
  {
   "cell_type": "markdown",
   "id": "a7787fb0",
   "metadata": {},
   "source": [
    "(Insert answer here)  \n",
    "In supervised learning our model learns on a dataset containing the target variable (y), the variable we would like to predict. Using the features (all the other columns but y), it learns where the y values stand. y can be categorical. in that case we will use Classifiers. If y is continuous we will use a Regressor.  \n",
    "Example of classification problem: We want to predict whether a customer will churn or not. Based on available data where we have the outcomes (churn and not churn), our Classifier learns from it and will use this knowledge to predict whether a customer will churn or not.  \n",
    "Example of a regression problem: We want to predict the delivery time from a logisitc dataset. We have a set of data with many different features (such as location of the warehouse and of the point of delivery, date and time of pick-up and drop off etc.) and for each sample the delivery time. The Regressor will learn from this set of data and will approximate new delivery time based on what it learnt.  \n",
    "\n",
    "In unsupervised learning, the model doesn't have the target variable y. It only has the features. We have seen in class 2 different kind of unsupervised machine learning: Clustering and Dimension Reduction.  \n",
    "Clusters categorize the data into clusters. However, we need to tell them how many clusters we would like.  \n",
    "Dimension reduction is used when we have a lot of features. Here, a feature (or column) is defined as a dimension. In a multidimensional (>4) case it's impossible for the human eye to grasp any information. A DR will compact these dimensions to the desired number of dimensions. PCA (Principal Component Analysis) is a DR. If we run it without specifying the number of components we want to compact our dimensions to, we can use the explained_variance_ratio_ attribute to see the number of principal components that would explained the majority of the total variance. Then, we can use that to define the number of components we can compact our data to without loosing too many informations.  \n",
    "Example of a clustering model: KMeans. We can use KMeans when we want to divide our data into a determined number of clusters. For example, we have a set of data describing penguins features and we know there are three species but we do not know which penguin is what species.  \n",
    "Example for DR: We have a set of data with a tremendous number of features (dimensions) and we cannot therefore find easily the number of categories we can divide our data. We could then first use PCA (first without giving it the number of components) to find to how many principal components we can compact our data to. Once transformed, we can visualise in 2 or 3 (4 if we use time, hence video) dimensions our transformed data and see if we can visualise the categories. If we do, we can then run for example a KMeans and divide our data to the number of clusters we have visualised after reducing our dimensions. It is important to note that at that stage our features (or columns) have no human interpretation as they have been transformed by PCA."
   ]
  },
  {
   "cell_type": "markdown",
   "id": "d1f7daae",
   "metadata": {},
   "source": [
    "2. What is the difference between regression and classification? Similarly, give two examples of each (4 in total)."
   ]
  },
  {
   "cell_type": "markdown",
   "id": "bee3af63",
   "metadata": {},
   "source": [
    "(Insert answer here)  \n",
    "See above."
   ]
  },
  {
   "cell_type": "markdown",
   "id": "02ef841f",
   "metadata": {},
   "source": [
    "3. Could you explain the bias and variance tradeoff? What are some ways to counteract high bias and/or high variance?"
   ]
  },
  {
   "cell_type": "markdown",
   "id": "87350e00",
   "metadata": {},
   "source": [
    "(Insert answer here)  \n",
    "Bias and variance move in opposite direction.  \n",
    "The bias tells how much the model y (y^) is different from the real y.  \n",
    "The variance tells how much the model is incapable to predict. In the case of high variance, it trains so well that its prediction from a new set of data will be super different from the real data (high variance). We say then that the model is overfitting.  \n",
    "A model with a high bias doesn't train well. It will predict as poorly on both the training set and test set. We say that the model is underfitting. In that case we have a low score and low variance.\n",
    "A model with a high variance on the opposite will learn too well and won't be able to predict well on a new dataset. A model with a high variance is overfitting. We also say that the model is too complex (high complexity).\n",
    "The best model (and therefore the best complexity) will be a balance between low bias and low variance.  \n",
    "Ways to counteract high variance:  \n",
    "If our model is overfitting, we could reduce its complexity through feature engineering (for example, removing features that are not important and bring noise. A way to see if a feature is redundant is to look at the correlation between them.). If we know how we can regularize the model (for example for linear regression we can use Ridge (f + sum(coef²)*alpha) or Lasso (f + sum(|coef|))).  \n",
    "Ways tou counteract high bias:  \n",
    "We could increase our sample size. We could also increase the complexity by adding more features (if possible).\n",
    "\n"
   ]
  },
  {
   "cell_type": "markdown",
   "id": "05a18ec0",
   "metadata": {},
   "source": [
    "4. Why do you want to split your dataset into a training and testing split? (Hint: think about what the goal of using machine learning algorithms is in the first place). Is there a method out there that increases the generalizability of your results?"
   ]
  },
  {
   "cell_type": "markdown",
   "id": "63f59508",
   "metadata": {},
   "source": [
    "(Insert answer here)  \n",
    "We need to divide our dataset into training and test sets so we can test how well our model learns. \n",
    "However, only doing this won't help us determine if our model is overfitting. One way is to divide our train set to k folds and use each fold as a test set. By doing this, we have k scores and we can by this evaluate the variability. If we have a good or high score but also a high variability between scores, we can conclude that our model is overfitting (without it having seen our test set which is the final verification of the good functionality of our model).  \n",
    "Technically, we will use the class KFold (will divide our train set to k folds or subsets) and apply this on the cross_val_score method. cross_val_score returns k score values."
   ]
  },
  {
   "cell_type": "markdown",
   "id": "bf40ec1a",
   "metadata": {},
   "source": [
    "5. What are 2 metrics for classifcation? What are 2 metrics for regression? Particularly for the classification metrics, could you explain what these mean by potentially giving real examples?  \n",
    "\n",
    "The default for classification in scikit-learn is accuracy. accuracy = (TP + TN)/N  N=total number of samples, TP: True Positives, TN: True Negatives. We can notably use it when our classes are balanced (aprx same number of samples inside each class).  \n",
    "f1 (harmonic mean of recall and precision) is useful when we have a class imbalance and we give equal importance to both FN (for recall = TP/(TP+FN)) and FP (for precision=TP/(TP+FP)).  \n",
    "\n",
    "For regression we can cite the MAE (Mean Absolute Error). It can be used if we do not pay too much importance to the outliers. It is easy to interpret as it has the same unit as y (target variable).  \n",
    "MSE (Mean Square Error): However, in general we report the RMSE (Root Mean Squared Error) which is easier because it has the same unit as y. MSE is used when we pay attention to the outliers. Since we are squaring the residuals, outliers will have a higher weight. If the MSE (or rmse) is high, that suggests that our model has difficulty to predict accurately extreme y values. If they are important for the purpose of our project, then MSE is a good metric to use to evaluate the performance of our model."
   ]
  },
  {
   "cell_type": "code",
   "execution_count": 1,
   "id": "14f1ce77",
   "metadata": {},
   "outputs": [],
   "source": [
    "import pandas as pd\n",
    "import numpy as np"
   ]
  },
  {
   "cell_type": "markdown",
   "id": "cf96834d",
   "metadata": {},
   "source": [
    "# Classification\n",
    "Here, we're going to be trying to predict whether or not a student was placed or not placed within a particular campus based off several columns. To be specific, we will be trying to predict the column \"status\" based off of all other columns within the dataset.\n",
    "\n",
    "Note: This is an already slightly preproccessed dataset. If you're interested in the meaning of the columns, please go to https://www.kaggle.com/datasets/benroshan/factors-affecting-campus-placement"
   ]
  },
  {
   "cell_type": "code",
   "execution_count": 2,
   "id": "1bc5aff4",
   "metadata": {},
   "outputs": [
    {
     "data": {
      "text/html": [
       "<div>\n",
       "<style scoped>\n",
       "    .dataframe tbody tr th:only-of-type {\n",
       "        vertical-align: middle;\n",
       "    }\n",
       "\n",
       "    .dataframe tbody tr th {\n",
       "        vertical-align: top;\n",
       "    }\n",
       "\n",
       "    .dataframe thead th {\n",
       "        text-align: right;\n",
       "    }\n",
       "</style>\n",
       "<table border=\"1\" class=\"dataframe\">\n",
       "  <thead>\n",
       "    <tr style=\"text-align: right;\">\n",
       "      <th></th>\n",
       "      <th>sl_no</th>\n",
       "      <th>gender</th>\n",
       "      <th>ssc_p</th>\n",
       "      <th>ssc_b</th>\n",
       "      <th>hsc_p</th>\n",
       "      <th>hsc_b</th>\n",
       "      <th>hsc_s</th>\n",
       "      <th>degree_p</th>\n",
       "      <th>degree_t</th>\n",
       "      <th>workex</th>\n",
       "      <th>etest_p</th>\n",
       "      <th>specialisation</th>\n",
       "      <th>mba_p</th>\n",
       "      <th>status</th>\n",
       "      <th>salary</th>\n",
       "    </tr>\n",
       "  </thead>\n",
       "  <tbody>\n",
       "    <tr>\n",
       "      <th>0</th>\n",
       "      <td>1</td>\n",
       "      <td>M</td>\n",
       "      <td>67.00</td>\n",
       "      <td>Others</td>\n",
       "      <td>91.00</td>\n",
       "      <td>Others</td>\n",
       "      <td>Commerce</td>\n",
       "      <td>58.00</td>\n",
       "      <td>Sci&amp;Tech</td>\n",
       "      <td>No</td>\n",
       "      <td>55.0</td>\n",
       "      <td>Mkt&amp;HR</td>\n",
       "      <td>58.80</td>\n",
       "      <td>Placed</td>\n",
       "      <td>270000.0</td>\n",
       "    </tr>\n",
       "    <tr>\n",
       "      <th>1</th>\n",
       "      <td>2</td>\n",
       "      <td>M</td>\n",
       "      <td>79.33</td>\n",
       "      <td>Central</td>\n",
       "      <td>78.33</td>\n",
       "      <td>Others</td>\n",
       "      <td>Science</td>\n",
       "      <td>77.48</td>\n",
       "      <td>Sci&amp;Tech</td>\n",
       "      <td>Yes</td>\n",
       "      <td>86.5</td>\n",
       "      <td>Mkt&amp;Fin</td>\n",
       "      <td>66.28</td>\n",
       "      <td>Placed</td>\n",
       "      <td>200000.0</td>\n",
       "    </tr>\n",
       "    <tr>\n",
       "      <th>2</th>\n",
       "      <td>3</td>\n",
       "      <td>M</td>\n",
       "      <td>65.00</td>\n",
       "      <td>Central</td>\n",
       "      <td>68.00</td>\n",
       "      <td>Central</td>\n",
       "      <td>Arts</td>\n",
       "      <td>64.00</td>\n",
       "      <td>Comm&amp;Mgmt</td>\n",
       "      <td>No</td>\n",
       "      <td>75.0</td>\n",
       "      <td>Mkt&amp;Fin</td>\n",
       "      <td>57.80</td>\n",
       "      <td>Placed</td>\n",
       "      <td>250000.0</td>\n",
       "    </tr>\n",
       "    <tr>\n",
       "      <th>3</th>\n",
       "      <td>4</td>\n",
       "      <td>M</td>\n",
       "      <td>56.00</td>\n",
       "      <td>Central</td>\n",
       "      <td>52.00</td>\n",
       "      <td>Central</td>\n",
       "      <td>Science</td>\n",
       "      <td>52.00</td>\n",
       "      <td>Sci&amp;Tech</td>\n",
       "      <td>No</td>\n",
       "      <td>66.0</td>\n",
       "      <td>Mkt&amp;HR</td>\n",
       "      <td>59.43</td>\n",
       "      <td>Not Placed</td>\n",
       "      <td>NaN</td>\n",
       "    </tr>\n",
       "    <tr>\n",
       "      <th>4</th>\n",
       "      <td>5</td>\n",
       "      <td>M</td>\n",
       "      <td>85.80</td>\n",
       "      <td>Central</td>\n",
       "      <td>73.60</td>\n",
       "      <td>Central</td>\n",
       "      <td>Commerce</td>\n",
       "      <td>73.30</td>\n",
       "      <td>Comm&amp;Mgmt</td>\n",
       "      <td>No</td>\n",
       "      <td>96.8</td>\n",
       "      <td>Mkt&amp;Fin</td>\n",
       "      <td>55.50</td>\n",
       "      <td>Placed</td>\n",
       "      <td>425000.0</td>\n",
       "    </tr>\n",
       "  </tbody>\n",
       "</table>\n",
       "</div>"
      ],
      "text/plain": [
       "   sl_no gender  ssc_p    ssc_b  hsc_p    hsc_b     hsc_s  degree_p  \\\n",
       "0      1      M  67.00   Others  91.00   Others  Commerce     58.00   \n",
       "1      2      M  79.33  Central  78.33   Others   Science     77.48   \n",
       "2      3      M  65.00  Central  68.00  Central      Arts     64.00   \n",
       "3      4      M  56.00  Central  52.00  Central   Science     52.00   \n",
       "4      5      M  85.80  Central  73.60  Central  Commerce     73.30   \n",
       "\n",
       "    degree_t workex  etest_p specialisation  mba_p      status    salary  \n",
       "0   Sci&Tech     No     55.0         Mkt&HR  58.80      Placed  270000.0  \n",
       "1   Sci&Tech    Yes     86.5        Mkt&Fin  66.28      Placed  200000.0  \n",
       "2  Comm&Mgmt     No     75.0        Mkt&Fin  57.80      Placed  250000.0  \n",
       "3   Sci&Tech     No     66.0         Mkt&HR  59.43  Not Placed       NaN  \n",
       "4  Comm&Mgmt     No     96.8        Mkt&Fin  55.50      Placed  425000.0  "
      ]
     },
     "execution_count": 2,
     "metadata": {},
     "output_type": "execute_result"
    }
   ],
   "source": [
    "data = pd.read_csv(\"data/Placement_Data_Full_Class.csv\")\n",
    "data.head()"
   ]
  },
  {
   "cell_type": "code",
   "execution_count": 3,
   "id": "cc12db47",
   "metadata": {},
   "outputs": [
    {
     "name": "stdout",
     "output_type": "stream",
     "text": [
      "<class 'pandas.core.frame.DataFrame'>\n",
      "RangeIndex: 215 entries, 0 to 214\n",
      "Data columns (total 15 columns):\n",
      " #   Column          Non-Null Count  Dtype  \n",
      "---  ------          --------------  -----  \n",
      " 0   sl_no           215 non-null    int64  \n",
      " 1   gender          215 non-null    object \n",
      " 2   ssc_p           215 non-null    float64\n",
      " 3   ssc_b           215 non-null    object \n",
      " 4   hsc_p           215 non-null    float64\n",
      " 5   hsc_b           215 non-null    object \n",
      " 6   hsc_s           215 non-null    object \n",
      " 7   degree_p        215 non-null    float64\n",
      " 8   degree_t        215 non-null    object \n",
      " 9   workex          215 non-null    object \n",
      " 10  etest_p         215 non-null    float64\n",
      " 11  specialisation  215 non-null    object \n",
      " 12  mba_p           215 non-null    float64\n",
      " 13  status          215 non-null    object \n",
      " 14  salary          148 non-null    float64\n",
      "dtypes: float64(6), int64(1), object(8)\n",
      "memory usage: 25.3+ KB\n"
     ]
    }
   ],
   "source": [
    "data.info()"
   ]
  },
  {
   "cell_type": "code",
   "execution_count": 4,
   "id": "2f7fa29a",
   "metadata": {},
   "outputs": [],
   "source": [
    "# Delete the sl_no column and the salary column.\n",
    "data.drop([\"sl_no\",\"salary\"], axis=1, inplace=True)"
   ]
  },
  {
   "cell_type": "code",
   "execution_count": 5,
   "id": "84193198",
   "metadata": {},
   "outputs": [
    {
     "data": {
      "text/plain": [
       "gender\n",
       "M    139\n",
       "F     76\n",
       "Name: count, dtype: int64"
      ]
     },
     "execution_count": 5,
     "metadata": {},
     "output_type": "execute_result"
    }
   ],
   "source": [
    "data[\"gender\"].value_counts()"
   ]
  },
  {
   "cell_type": "code",
   "execution_count": 6,
   "id": "7fa3ba28",
   "metadata": {},
   "outputs": [
    {
     "data": {
      "text/plain": [
       "gender_bool\n",
       "0    139\n",
       "1     76\n",
       "Name: count, dtype: int64"
      ]
     },
     "execution_count": 6,
     "metadata": {},
     "output_type": "execute_result"
    }
   ],
   "source": [
    "# Transform the categorical columns into one-hot encoded columns.\n",
    "def my_bool_function(df, col_name,category):\n",
    "    \"\"\"Returns a bool 1s and 0s for categorical columns containing only 2 categories.\n",
    "    Args:\n",
    "        df (DataFrame): Table you want to work on.\n",
    "        col_name (string): name of the column you want to modify.\n",
    "        category (string): name of 1 of the 2 categories present in col_name.\n",
    "    Note:\n",
    "        category must be the category you want to impute the value 1 (or True).\n",
    "    \"\"\"\n",
    "    col = np.where(df[col_name] == category,1,0)\n",
    "    return col\n",
    "\n",
    "data[\"gender_bool\"] = my_bool_function(data,\"gender\",\"F\")\n",
    "data[\"gender_bool\"].value_counts()"
   ]
  },
  {
   "cell_type": "code",
   "execution_count": 7,
   "id": "abc4efd8",
   "metadata": {},
   "outputs": [
    {
     "data": {
      "text/plain": [
       "workex\n",
       "No     141\n",
       "Yes     74\n",
       "Name: count, dtype: int64"
      ]
     },
     "execution_count": 7,
     "metadata": {},
     "output_type": "execute_result"
    }
   ],
   "source": [
    "data[\"workex\"].value_counts()"
   ]
  },
  {
   "cell_type": "code",
   "execution_count": 8,
   "id": "75eb6135",
   "metadata": {},
   "outputs": [
    {
     "data": {
      "text/plain": [
       "workex_bool\n",
       "0    141\n",
       "1     74\n",
       "Name: count, dtype: int64"
      ]
     },
     "execution_count": 8,
     "metadata": {},
     "output_type": "execute_result"
    }
   ],
   "source": [
    "data[\"workex_bool\"] = my_bool_function(data,\"workex\",\"Yes\")\n",
    "data[\"workex_bool\"].value_counts()"
   ]
  },
  {
   "cell_type": "code",
   "execution_count": 9,
   "id": "3f101790",
   "metadata": {},
   "outputs": [
    {
     "data": {
      "text/plain": [
       "hsc_b\n",
       "Others     131\n",
       "Central     84\n",
       "Name: count, dtype: int64"
      ]
     },
     "execution_count": 9,
     "metadata": {},
     "output_type": "execute_result"
    }
   ],
   "source": [
    "data[\"hsc_b\"].value_counts()"
   ]
  },
  {
   "cell_type": "code",
   "execution_count": 10,
   "id": "400824f3",
   "metadata": {},
   "outputs": [],
   "source": [
    "data[\"hsc_b_bool\"] = my_bool_function(data,\"hsc_b\",\"Central\")"
   ]
  },
  {
   "cell_type": "code",
   "execution_count": 11,
   "id": "8899942b",
   "metadata": {},
   "outputs": [
    {
     "data": {
      "text/plain": [
       "ssc_b\n",
       "Central    116\n",
       "Others      99\n",
       "Name: count, dtype: int64"
      ]
     },
     "execution_count": 11,
     "metadata": {},
     "output_type": "execute_result"
    }
   ],
   "source": [
    "data[\"ssc_b\"].value_counts()"
   ]
  },
  {
   "cell_type": "code",
   "execution_count": 12,
   "id": "1e3a20e1",
   "metadata": {},
   "outputs": [],
   "source": [
    "data[\"ssc_b_bool\"] = my_bool_function(data,\"ssc_b\",\"Central\")"
   ]
  },
  {
   "cell_type": "code",
   "execution_count": 13,
   "id": "58753900",
   "metadata": {},
   "outputs": [
    {
     "name": "stdout",
     "output_type": "stream",
     "text": [
      "<class 'pandas.core.frame.DataFrame'>\n",
      "RangeIndex: 215 entries, 0 to 214\n",
      "Data columns (total 17 columns):\n",
      " #   Column          Non-Null Count  Dtype  \n",
      "---  ------          --------------  -----  \n",
      " 0   gender          215 non-null    object \n",
      " 1   ssc_p           215 non-null    float64\n",
      " 2   ssc_b           215 non-null    object \n",
      " 3   hsc_p           215 non-null    float64\n",
      " 4   hsc_b           215 non-null    object \n",
      " 5   hsc_s           215 non-null    object \n",
      " 6   degree_p        215 non-null    float64\n",
      " 7   degree_t        215 non-null    object \n",
      " 8   workex          215 non-null    object \n",
      " 9   etest_p         215 non-null    float64\n",
      " 10  specialisation  215 non-null    object \n",
      " 11  mba_p           215 non-null    float64\n",
      " 12  status          215 non-null    object \n",
      " 13  gender_bool     215 non-null    int32  \n",
      " 14  workex_bool     215 non-null    int32  \n",
      " 15  hsc_b_bool      215 non-null    int32  \n",
      " 16  ssc_b_bool      215 non-null    int32  \n",
      "dtypes: float64(5), int32(4), object(8)\n",
      "memory usage: 25.3+ KB\n"
     ]
    }
   ],
   "source": [
    "data.info()"
   ]
  },
  {
   "cell_type": "code",
   "execution_count": 14,
   "id": "6b541eb9",
   "metadata": {},
   "outputs": [
    {
     "name": "stdout",
     "output_type": "stream",
     "text": [
      "<class 'pandas.core.frame.DataFrame'>\n",
      "RangeIndex: 215 entries, 0 to 214\n",
      "Data columns (total 13 columns):\n",
      " #   Column          Non-Null Count  Dtype  \n",
      "---  ------          --------------  -----  \n",
      " 0   ssc_p           215 non-null    float64\n",
      " 1   hsc_p           215 non-null    float64\n",
      " 2   hsc_s           215 non-null    object \n",
      " 3   degree_p        215 non-null    float64\n",
      " 4   degree_t        215 non-null    object \n",
      " 5   etest_p         215 non-null    float64\n",
      " 6   specialisation  215 non-null    object \n",
      " 7   mba_p           215 non-null    float64\n",
      " 8   status          215 non-null    object \n",
      " 9   gender_bool     215 non-null    int32  \n",
      " 10  workex_bool     215 non-null    int32  \n",
      " 11  hsc_b_bool      215 non-null    int32  \n",
      " 12  ssc_b_bool      215 non-null    int32  \n",
      "dtypes: float64(5), int32(4), object(4)\n",
      "memory usage: 18.6+ KB\n"
     ]
    }
   ],
   "source": [
    "data.drop([\"gender\",\"workex\",\"hsc_b\",\"ssc_b\"], axis=1, inplace=True)\n",
    "data.info()"
   ]
  },
  {
   "cell_type": "code",
   "execution_count": 15,
   "id": "44a10000",
   "metadata": {},
   "outputs": [
    {
     "data": {
      "text/plain": [
       "hsc_s\n",
       "Commerce    113\n",
       "Science      91\n",
       "Arts         11\n",
       "Name: count, dtype: int64"
      ]
     },
     "execution_count": 15,
     "metadata": {},
     "output_type": "execute_result"
    }
   ],
   "source": [
    "data[\"hsc_s\"].value_counts()"
   ]
  },
  {
   "cell_type": "code",
   "execution_count": 16,
   "id": "48734bd5",
   "metadata": {},
   "outputs": [
    {
     "data": {
      "text/plain": [
       "specialisation\n",
       "Mkt&Fin    120\n",
       "Mkt&HR      95\n",
       "Name: count, dtype: int64"
      ]
     },
     "execution_count": 16,
     "metadata": {},
     "output_type": "execute_result"
    }
   ],
   "source": [
    "data[\"specialisation\"].value_counts()"
   ]
  },
  {
   "cell_type": "code",
   "execution_count": 17,
   "id": "2c7eee5e",
   "metadata": {},
   "outputs": [],
   "source": [
    "data[\"specialisation_bool\"] = my_bool_function(data,\"specialisation\",\"Mkt&Fin\")"
   ]
  },
  {
   "cell_type": "code",
   "execution_count": 18,
   "id": "42306ec8",
   "metadata": {},
   "outputs": [
    {
     "name": "stdout",
     "output_type": "stream",
     "text": [
      "<class 'pandas.core.frame.DataFrame'>\n",
      "RangeIndex: 215 entries, 0 to 214\n",
      "Data columns (total 13 columns):\n",
      " #   Column               Non-Null Count  Dtype  \n",
      "---  ------               --------------  -----  \n",
      " 0   ssc_p                215 non-null    float64\n",
      " 1   hsc_p                215 non-null    float64\n",
      " 2   hsc_s                215 non-null    object \n",
      " 3   degree_p             215 non-null    float64\n",
      " 4   degree_t             215 non-null    object \n",
      " 5   etest_p              215 non-null    float64\n",
      " 6   mba_p                215 non-null    float64\n",
      " 7   status               215 non-null    object \n",
      " 8   gender_bool          215 non-null    int32  \n",
      " 9   workex_bool          215 non-null    int32  \n",
      " 10  hsc_b_bool           215 non-null    int32  \n",
      " 11  ssc_b_bool           215 non-null    int32  \n",
      " 12  specialisation_bool  215 non-null    int32  \n",
      "dtypes: float64(5), int32(5), object(3)\n",
      "memory usage: 17.8+ KB\n"
     ]
    }
   ],
   "source": [
    "data.drop(\"specialisation\", axis=1, inplace=True)\n",
    "data.info()"
   ]
  },
  {
   "cell_type": "code",
   "execution_count": 19,
   "id": "4c068abf",
   "metadata": {},
   "outputs": [
    {
     "name": "stdout",
     "output_type": "stream",
     "text": [
      "       status  status_LabEncod\n",
      "0      Placed                1\n",
      "1      Placed                1\n",
      "2      Placed                1\n",
      "3  Not Placed                0\n",
      "4      Placed                1\n"
     ]
    }
   ],
   "source": [
    "# Transform the status into either 0 or 1.\n",
    "from sklearn.preprocessing import LabelEncoder\n",
    "\n",
    "le = LabelEncoder()\n",
    "data[\"status_LabEncod\"] = le.fit_transform(data[\"status\"])\n",
    "print(data[[\"status\",\"status_LabEncod\"]].head())"
   ]
  },
  {
   "cell_type": "code",
   "execution_count": 20,
   "id": "a3355f6a",
   "metadata": {},
   "outputs": [
    {
     "name": "stdout",
     "output_type": "stream",
     "text": [
      "<class 'pandas.core.frame.DataFrame'>\n",
      "RangeIndex: 215 entries, 0 to 214\n",
      "Data columns (total 15 columns):\n",
      " #   Column               Non-Null Count  Dtype  \n",
      "---  ------               --------------  -----  \n",
      " 0   ssc_p                215 non-null    float64\n",
      " 1   hsc_p                215 non-null    float64\n",
      " 2   degree_p             215 non-null    float64\n",
      " 3   etest_p              215 non-null    float64\n",
      " 4   mba_p                215 non-null    float64\n",
      " 5   gender_bool          215 non-null    int32  \n",
      " 6   workex_bool          215 non-null    int32  \n",
      " 7   hsc_b_bool           215 non-null    int32  \n",
      " 8   ssc_b_bool           215 non-null    int32  \n",
      " 9   specialisation_bool  215 non-null    int32  \n",
      " 10  status_LabEncod      215 non-null    int32  \n",
      " 11  hsc_s_Commerce       215 non-null    bool   \n",
      " 12  hsc_s_Science        215 non-null    bool   \n",
      " 13  degree_t_Others      215 non-null    bool   \n",
      " 14  degree_t_Sci&Tech    215 non-null    bool   \n",
      "dtypes: bool(4), float64(5), int32(6)\n",
      "memory usage: 14.4 KB\n"
     ]
    }
   ],
   "source": [
    "data.drop(\"status\", axis=1, inplace=True)\n",
    "dummies = pd.get_dummies(data, drop_first=True)\n",
    "dummies.info()"
   ]
  },
  {
   "cell_type": "code",
   "execution_count": 21,
   "id": "0b17dc96",
   "metadata": {},
   "outputs": [
    {
     "data": {
      "text/plain": [
       "status_LabEncod\n",
       "1    0.688372\n",
       "0    0.311628\n",
       "Name: proportion, dtype: float64"
      ]
     },
     "execution_count": 21,
     "metadata": {},
     "output_type": "execute_result"
    }
   ],
   "source": [
    "dummies[\"status_LabEncod\"].value_counts(normalize=True)"
   ]
  },
  {
   "cell_type": "code",
   "execution_count": 22,
   "id": "9c1c2295",
   "metadata": {},
   "outputs": [],
   "source": [
    "# Split your dataset into a training and testing set using an 80/20 split.\n",
    "    # NOTE: Please use a random_state of 42! This helps me reproduce your results!\n",
    "\n",
    "from sklearn.model_selection import train_test_split\n",
    "\n",
    "X = dummies.drop(\"status_LabEncod\", axis=1)\n",
    "y = dummies[\"status_LabEncod\"]\n",
    "\n",
    "X_train,X_test,y_train,y_test = train_test_split(X,y,test_size=0.2, stratify=y, random_state=42)"
   ]
  },
  {
   "cell_type": "code",
   "execution_count": 23,
   "id": "b629d065",
   "metadata": {},
   "outputs": [
    {
     "data": {
      "text/html": [
       "<style>#sk-container-id-1 {\n",
       "  /* Definition of color scheme common for light and dark mode */\n",
       "  --sklearn-color-text: black;\n",
       "  --sklearn-color-line: gray;\n",
       "  /* Definition of color scheme for unfitted estimators */\n",
       "  --sklearn-color-unfitted-level-0: #fff5e6;\n",
       "  --sklearn-color-unfitted-level-1: #f6e4d2;\n",
       "  --sklearn-color-unfitted-level-2: #ffe0b3;\n",
       "  --sklearn-color-unfitted-level-3: chocolate;\n",
       "  /* Definition of color scheme for fitted estimators */\n",
       "  --sklearn-color-fitted-level-0: #f0f8ff;\n",
       "  --sklearn-color-fitted-level-1: #d4ebff;\n",
       "  --sklearn-color-fitted-level-2: #b3dbfd;\n",
       "  --sklearn-color-fitted-level-3: cornflowerblue;\n",
       "\n",
       "  /* Specific color for light theme */\n",
       "  --sklearn-color-text-on-default-background: var(--sg-text-color, var(--theme-code-foreground, var(--jp-content-font-color1, black)));\n",
       "  --sklearn-color-background: var(--sg-background-color, var(--theme-background, var(--jp-layout-color0, white)));\n",
       "  --sklearn-color-border-box: var(--sg-text-color, var(--theme-code-foreground, var(--jp-content-font-color1, black)));\n",
       "  --sklearn-color-icon: #696969;\n",
       "\n",
       "  @media (prefers-color-scheme: dark) {\n",
       "    /* Redefinition of color scheme for dark theme */\n",
       "    --sklearn-color-text-on-default-background: var(--sg-text-color, var(--theme-code-foreground, var(--jp-content-font-color1, white)));\n",
       "    --sklearn-color-background: var(--sg-background-color, var(--theme-background, var(--jp-layout-color0, #111)));\n",
       "    --sklearn-color-border-box: var(--sg-text-color, var(--theme-code-foreground, var(--jp-content-font-color1, white)));\n",
       "    --sklearn-color-icon: #878787;\n",
       "  }\n",
       "}\n",
       "\n",
       "#sk-container-id-1 {\n",
       "  color: var(--sklearn-color-text);\n",
       "}\n",
       "\n",
       "#sk-container-id-1 pre {\n",
       "  padding: 0;\n",
       "}\n",
       "\n",
       "#sk-container-id-1 input.sk-hidden--visually {\n",
       "  border: 0;\n",
       "  clip: rect(1px 1px 1px 1px);\n",
       "  clip: rect(1px, 1px, 1px, 1px);\n",
       "  height: 1px;\n",
       "  margin: -1px;\n",
       "  overflow: hidden;\n",
       "  padding: 0;\n",
       "  position: absolute;\n",
       "  width: 1px;\n",
       "}\n",
       "\n",
       "#sk-container-id-1 div.sk-dashed-wrapped {\n",
       "  border: 1px dashed var(--sklearn-color-line);\n",
       "  margin: 0 0.4em 0.5em 0.4em;\n",
       "  box-sizing: border-box;\n",
       "  padding-bottom: 0.4em;\n",
       "  background-color: var(--sklearn-color-background);\n",
       "}\n",
       "\n",
       "#sk-container-id-1 div.sk-container {\n",
       "  /* jupyter's `normalize.less` sets `[hidden] { display: none; }`\n",
       "     but bootstrap.min.css set `[hidden] { display: none !important; }`\n",
       "     so we also need the `!important` here to be able to override the\n",
       "     default hidden behavior on the sphinx rendered scikit-learn.org.\n",
       "     See: https://github.com/scikit-learn/scikit-learn/issues/21755 */\n",
       "  display: inline-block !important;\n",
       "  position: relative;\n",
       "}\n",
       "\n",
       "#sk-container-id-1 div.sk-text-repr-fallback {\n",
       "  display: none;\n",
       "}\n",
       "\n",
       "div.sk-parallel-item,\n",
       "div.sk-serial,\n",
       "div.sk-item {\n",
       "  /* draw centered vertical line to link estimators */\n",
       "  background-image: linear-gradient(var(--sklearn-color-text-on-default-background), var(--sklearn-color-text-on-default-background));\n",
       "  background-size: 2px 100%;\n",
       "  background-repeat: no-repeat;\n",
       "  background-position: center center;\n",
       "}\n",
       "\n",
       "/* Parallel-specific style estimator block */\n",
       "\n",
       "#sk-container-id-1 div.sk-parallel-item::after {\n",
       "  content: \"\";\n",
       "  width: 100%;\n",
       "  border-bottom: 2px solid var(--sklearn-color-text-on-default-background);\n",
       "  flex-grow: 1;\n",
       "}\n",
       "\n",
       "#sk-container-id-1 div.sk-parallel {\n",
       "  display: flex;\n",
       "  align-items: stretch;\n",
       "  justify-content: center;\n",
       "  background-color: var(--sklearn-color-background);\n",
       "  position: relative;\n",
       "}\n",
       "\n",
       "#sk-container-id-1 div.sk-parallel-item {\n",
       "  display: flex;\n",
       "  flex-direction: column;\n",
       "}\n",
       "\n",
       "#sk-container-id-1 div.sk-parallel-item:first-child::after {\n",
       "  align-self: flex-end;\n",
       "  width: 50%;\n",
       "}\n",
       "\n",
       "#sk-container-id-1 div.sk-parallel-item:last-child::after {\n",
       "  align-self: flex-start;\n",
       "  width: 50%;\n",
       "}\n",
       "\n",
       "#sk-container-id-1 div.sk-parallel-item:only-child::after {\n",
       "  width: 0;\n",
       "}\n",
       "\n",
       "/* Serial-specific style estimator block */\n",
       "\n",
       "#sk-container-id-1 div.sk-serial {\n",
       "  display: flex;\n",
       "  flex-direction: column;\n",
       "  align-items: center;\n",
       "  background-color: var(--sklearn-color-background);\n",
       "  padding-right: 1em;\n",
       "  padding-left: 1em;\n",
       "}\n",
       "\n",
       "\n",
       "/* Toggleable style: style used for estimator/Pipeline/ColumnTransformer box that is\n",
       "clickable and can be expanded/collapsed.\n",
       "- Pipeline and ColumnTransformer use this feature and define the default style\n",
       "- Estimators will overwrite some part of the style using the `sk-estimator` class\n",
       "*/\n",
       "\n",
       "/* Pipeline and ColumnTransformer style (default) */\n",
       "\n",
       "#sk-container-id-1 div.sk-toggleable {\n",
       "  /* Default theme specific background. It is overwritten whether we have a\n",
       "  specific estimator or a Pipeline/ColumnTransformer */\n",
       "  background-color: var(--sklearn-color-background);\n",
       "}\n",
       "\n",
       "/* Toggleable label */\n",
       "#sk-container-id-1 label.sk-toggleable__label {\n",
       "  cursor: pointer;\n",
       "  display: block;\n",
       "  width: 100%;\n",
       "  margin-bottom: 0;\n",
       "  padding: 0.5em;\n",
       "  box-sizing: border-box;\n",
       "  text-align: center;\n",
       "}\n",
       "\n",
       "#sk-container-id-1 label.sk-toggleable__label-arrow:before {\n",
       "  /* Arrow on the left of the label */\n",
       "  content: \"▸\";\n",
       "  float: left;\n",
       "  margin-right: 0.25em;\n",
       "  color: var(--sklearn-color-icon);\n",
       "}\n",
       "\n",
       "#sk-container-id-1 label.sk-toggleable__label-arrow:hover:before {\n",
       "  color: var(--sklearn-color-text);\n",
       "}\n",
       "\n",
       "/* Toggleable content - dropdown */\n",
       "\n",
       "#sk-container-id-1 div.sk-toggleable__content {\n",
       "  max-height: 0;\n",
       "  max-width: 0;\n",
       "  overflow: hidden;\n",
       "  text-align: left;\n",
       "  /* unfitted */\n",
       "  background-color: var(--sklearn-color-unfitted-level-0);\n",
       "}\n",
       "\n",
       "#sk-container-id-1 div.sk-toggleable__content.fitted {\n",
       "  /* fitted */\n",
       "  background-color: var(--sklearn-color-fitted-level-0);\n",
       "}\n",
       "\n",
       "#sk-container-id-1 div.sk-toggleable__content pre {\n",
       "  margin: 0.2em;\n",
       "  border-radius: 0.25em;\n",
       "  color: var(--sklearn-color-text);\n",
       "  /* unfitted */\n",
       "  background-color: var(--sklearn-color-unfitted-level-0);\n",
       "}\n",
       "\n",
       "#sk-container-id-1 div.sk-toggleable__content.fitted pre {\n",
       "  /* unfitted */\n",
       "  background-color: var(--sklearn-color-fitted-level-0);\n",
       "}\n",
       "\n",
       "#sk-container-id-1 input.sk-toggleable__control:checked~div.sk-toggleable__content {\n",
       "  /* Expand drop-down */\n",
       "  max-height: 200px;\n",
       "  max-width: 100%;\n",
       "  overflow: auto;\n",
       "}\n",
       "\n",
       "#sk-container-id-1 input.sk-toggleable__control:checked~label.sk-toggleable__label-arrow:before {\n",
       "  content: \"▾\";\n",
       "}\n",
       "\n",
       "/* Pipeline/ColumnTransformer-specific style */\n",
       "\n",
       "#sk-container-id-1 div.sk-label input.sk-toggleable__control:checked~label.sk-toggleable__label {\n",
       "  color: var(--sklearn-color-text);\n",
       "  background-color: var(--sklearn-color-unfitted-level-2);\n",
       "}\n",
       "\n",
       "#sk-container-id-1 div.sk-label.fitted input.sk-toggleable__control:checked~label.sk-toggleable__label {\n",
       "  background-color: var(--sklearn-color-fitted-level-2);\n",
       "}\n",
       "\n",
       "/* Estimator-specific style */\n",
       "\n",
       "/* Colorize estimator box */\n",
       "#sk-container-id-1 div.sk-estimator input.sk-toggleable__control:checked~label.sk-toggleable__label {\n",
       "  /* unfitted */\n",
       "  background-color: var(--sklearn-color-unfitted-level-2);\n",
       "}\n",
       "\n",
       "#sk-container-id-1 div.sk-estimator.fitted input.sk-toggleable__control:checked~label.sk-toggleable__label {\n",
       "  /* fitted */\n",
       "  background-color: var(--sklearn-color-fitted-level-2);\n",
       "}\n",
       "\n",
       "#sk-container-id-1 div.sk-label label.sk-toggleable__label,\n",
       "#sk-container-id-1 div.sk-label label {\n",
       "  /* The background is the default theme color */\n",
       "  color: var(--sklearn-color-text-on-default-background);\n",
       "}\n",
       "\n",
       "/* On hover, darken the color of the background */\n",
       "#sk-container-id-1 div.sk-label:hover label.sk-toggleable__label {\n",
       "  color: var(--sklearn-color-text);\n",
       "  background-color: var(--sklearn-color-unfitted-level-2);\n",
       "}\n",
       "\n",
       "/* Label box, darken color on hover, fitted */\n",
       "#sk-container-id-1 div.sk-label.fitted:hover label.sk-toggleable__label.fitted {\n",
       "  color: var(--sklearn-color-text);\n",
       "  background-color: var(--sklearn-color-fitted-level-2);\n",
       "}\n",
       "\n",
       "/* Estimator label */\n",
       "\n",
       "#sk-container-id-1 div.sk-label label {\n",
       "  font-family: monospace;\n",
       "  font-weight: bold;\n",
       "  display: inline-block;\n",
       "  line-height: 1.2em;\n",
       "}\n",
       "\n",
       "#sk-container-id-1 div.sk-label-container {\n",
       "  text-align: center;\n",
       "}\n",
       "\n",
       "/* Estimator-specific */\n",
       "#sk-container-id-1 div.sk-estimator {\n",
       "  font-family: monospace;\n",
       "  border: 1px dotted var(--sklearn-color-border-box);\n",
       "  border-radius: 0.25em;\n",
       "  box-sizing: border-box;\n",
       "  margin-bottom: 0.5em;\n",
       "  /* unfitted */\n",
       "  background-color: var(--sklearn-color-unfitted-level-0);\n",
       "}\n",
       "\n",
       "#sk-container-id-1 div.sk-estimator.fitted {\n",
       "  /* fitted */\n",
       "  background-color: var(--sklearn-color-fitted-level-0);\n",
       "}\n",
       "\n",
       "/* on hover */\n",
       "#sk-container-id-1 div.sk-estimator:hover {\n",
       "  /* unfitted */\n",
       "  background-color: var(--sklearn-color-unfitted-level-2);\n",
       "}\n",
       "\n",
       "#sk-container-id-1 div.sk-estimator.fitted:hover {\n",
       "  /* fitted */\n",
       "  background-color: var(--sklearn-color-fitted-level-2);\n",
       "}\n",
       "\n",
       "/* Specification for estimator info (e.g. \"i\" and \"?\") */\n",
       "\n",
       "/* Common style for \"i\" and \"?\" */\n",
       "\n",
       ".sk-estimator-doc-link,\n",
       "a:link.sk-estimator-doc-link,\n",
       "a:visited.sk-estimator-doc-link {\n",
       "  float: right;\n",
       "  font-size: smaller;\n",
       "  line-height: 1em;\n",
       "  font-family: monospace;\n",
       "  background-color: var(--sklearn-color-background);\n",
       "  border-radius: 1em;\n",
       "  height: 1em;\n",
       "  width: 1em;\n",
       "  text-decoration: none !important;\n",
       "  margin-left: 1ex;\n",
       "  /* unfitted */\n",
       "  border: var(--sklearn-color-unfitted-level-1) 1pt solid;\n",
       "  color: var(--sklearn-color-unfitted-level-1);\n",
       "}\n",
       "\n",
       ".sk-estimator-doc-link.fitted,\n",
       "a:link.sk-estimator-doc-link.fitted,\n",
       "a:visited.sk-estimator-doc-link.fitted {\n",
       "  /* fitted */\n",
       "  border: var(--sklearn-color-fitted-level-1) 1pt solid;\n",
       "  color: var(--sklearn-color-fitted-level-1);\n",
       "}\n",
       "\n",
       "/* On hover */\n",
       "div.sk-estimator:hover .sk-estimator-doc-link:hover,\n",
       ".sk-estimator-doc-link:hover,\n",
       "div.sk-label-container:hover .sk-estimator-doc-link:hover,\n",
       ".sk-estimator-doc-link:hover {\n",
       "  /* unfitted */\n",
       "  background-color: var(--sklearn-color-unfitted-level-3);\n",
       "  color: var(--sklearn-color-background);\n",
       "  text-decoration: none;\n",
       "}\n",
       "\n",
       "div.sk-estimator.fitted:hover .sk-estimator-doc-link.fitted:hover,\n",
       ".sk-estimator-doc-link.fitted:hover,\n",
       "div.sk-label-container:hover .sk-estimator-doc-link.fitted:hover,\n",
       ".sk-estimator-doc-link.fitted:hover {\n",
       "  /* fitted */\n",
       "  background-color: var(--sklearn-color-fitted-level-3);\n",
       "  color: var(--sklearn-color-background);\n",
       "  text-decoration: none;\n",
       "}\n",
       "\n",
       "/* Span, style for the box shown on hovering the info icon */\n",
       ".sk-estimator-doc-link span {\n",
       "  display: none;\n",
       "  z-index: 9999;\n",
       "  position: relative;\n",
       "  font-weight: normal;\n",
       "  right: .2ex;\n",
       "  padding: .5ex;\n",
       "  margin: .5ex;\n",
       "  width: min-content;\n",
       "  min-width: 20ex;\n",
       "  max-width: 50ex;\n",
       "  color: var(--sklearn-color-text);\n",
       "  box-shadow: 2pt 2pt 4pt #999;\n",
       "  /* unfitted */\n",
       "  background: var(--sklearn-color-unfitted-level-0);\n",
       "  border: .5pt solid var(--sklearn-color-unfitted-level-3);\n",
       "}\n",
       "\n",
       ".sk-estimator-doc-link.fitted span {\n",
       "  /* fitted */\n",
       "  background: var(--sklearn-color-fitted-level-0);\n",
       "  border: var(--sklearn-color-fitted-level-3);\n",
       "}\n",
       "\n",
       ".sk-estimator-doc-link:hover span {\n",
       "  display: block;\n",
       "}\n",
       "\n",
       "/* \"?\"-specific style due to the `<a>` HTML tag */\n",
       "\n",
       "#sk-container-id-1 a.estimator_doc_link {\n",
       "  float: right;\n",
       "  font-size: 1rem;\n",
       "  line-height: 1em;\n",
       "  font-family: monospace;\n",
       "  background-color: var(--sklearn-color-background);\n",
       "  border-radius: 1rem;\n",
       "  height: 1rem;\n",
       "  width: 1rem;\n",
       "  text-decoration: none;\n",
       "  /* unfitted */\n",
       "  color: var(--sklearn-color-unfitted-level-1);\n",
       "  border: var(--sklearn-color-unfitted-level-1) 1pt solid;\n",
       "}\n",
       "\n",
       "#sk-container-id-1 a.estimator_doc_link.fitted {\n",
       "  /* fitted */\n",
       "  border: var(--sklearn-color-fitted-level-1) 1pt solid;\n",
       "  color: var(--sklearn-color-fitted-level-1);\n",
       "}\n",
       "\n",
       "/* On hover */\n",
       "#sk-container-id-1 a.estimator_doc_link:hover {\n",
       "  /* unfitted */\n",
       "  background-color: var(--sklearn-color-unfitted-level-3);\n",
       "  color: var(--sklearn-color-background);\n",
       "  text-decoration: none;\n",
       "}\n",
       "\n",
       "#sk-container-id-1 a.estimator_doc_link.fitted:hover {\n",
       "  /* fitted */\n",
       "  background-color: var(--sklearn-color-fitted-level-3);\n",
       "}\n",
       "</style><div id=\"sk-container-id-1\" class=\"sk-top-container\"><div class=\"sk-text-repr-fallback\"><pre>DecisionTreeClassifier()</pre><b>In a Jupyter environment, please rerun this cell to show the HTML representation or trust the notebook. <br />On GitHub, the HTML representation is unable to render, please try loading this page with nbviewer.org.</b></div><div class=\"sk-container\" hidden><div class=\"sk-item\"><div class=\"sk-estimator fitted sk-toggleable\"><input class=\"sk-toggleable__control sk-hidden--visually\" id=\"sk-estimator-id-1\" type=\"checkbox\" checked><label for=\"sk-estimator-id-1\" class=\"sk-toggleable__label fitted sk-toggleable__label-arrow fitted\">&nbsp;&nbsp;DecisionTreeClassifier<a class=\"sk-estimator-doc-link fitted\" rel=\"noreferrer\" target=\"_blank\" href=\"https://scikit-learn.org/1.5/modules/generated/sklearn.tree.DecisionTreeClassifier.html\">?<span>Documentation for DecisionTreeClassifier</span></a><span class=\"sk-estimator-doc-link fitted\">i<span>Fitted</span></span></label><div class=\"sk-toggleable__content fitted\"><pre>DecisionTreeClassifier()</pre></div> </div></div></div></div>"
      ],
      "text/plain": [
       "DecisionTreeClassifier()"
      ]
     },
     "execution_count": 23,
     "metadata": {},
     "output_type": "execute_result"
    }
   ],
   "source": [
    "# We learned 3 different algorithms in order to predict a binary target variable.\n",
    "# Use these 3 algorithms with their default hyperparameters in order to get predictions for \"status\".\n",
    "from sklearn.linear_model import LogisticRegression\n",
    "from sklearn.neighbors import KNeighborsClassifier\n",
    "from sklearn.tree import DecisionTreeClassifier\n",
    "from sklearn.preprocessing import StandardScaler #I am using this because I got a convergenceWarning message for logR\n",
    "\n",
    "StdSc = StandardScaler()\n",
    "X_train_scaled = StdSc.fit_transform(X_train)\n",
    "\n",
    "LogR = LogisticRegression()\n",
    "KNN = KNeighborsClassifier()\n",
    "DTC = DecisionTreeClassifier() \n",
    "\n",
    "LogR.fit(X_train_scaled,y_train)\n",
    "KNN.fit(X_train,y_train)\n",
    "DTC.fit(X_train,y_train)"
   ]
  },
  {
   "cell_type": "markdown",
   "id": "7f639150",
   "metadata": {},
   "source": [
    "For this dataset, what do you think is the best metric to use and why?  \n",
    "\n",
    "We have here a class imbalance (only 31% of the status are \"Not Placed\"). Hence, the default metric accuracy would not be the best choice here.  \n",
    "Furthermore, since it's like an evaluation (if I understood correctly), neither FP (for precision), nor FN (for recall) would be more important than the other. Hence, I could take f1 which is the harmonic mean of recall and precision.\n",
    "Another metric that I could take is the roc-auc score, which is the area under the curve of the plot TP rate (TPR) against FP rate (FPR). It tells us how well the model is capable to disciminate between positive and negative outcomes, regardless of their relative frequencies. TPR = recall = TP/(TP + FN); FPR = FP/(FP + TN). The curve is drawn using different threshold (by default in the model the threshold is 0.5)."
   ]
  },
  {
   "cell_type": "code",
   "execution_count": 24,
   "id": "b58f341b",
   "metadata": {},
   "outputs": [
    {
     "name": "stdout",
     "output_type": "stream",
     "text": [
      "KNN f1: 0.8923076923076924 \n",
      "KNN roc_auc: 0.7525641025641026\n",
      "Decision Tree f1: 0.7936507936507936 \n",
      "Decision Tree roc_auc: 0.608974358974359\n"
     ]
    }
   ],
   "source": [
    "# Using the metric that you decided upon, what is the score for each of the three models?\n",
    "from sklearn.metrics import f1_score, roc_auc_score\n",
    "\n",
    "models = {\"KNN\":KNN, \"Decision Tree\":DTC}\n",
    "\n",
    "for name,model in models.items():\n",
    "    y_pred = model.predict(X_test)\n",
    "    f1 = f1_score(y_test,y_pred)\n",
    "    roc_auc = roc_auc_score(y_test,y_pred)\n",
    "    print(f\"{name} f1: {f1} \\n{name} roc_auc: {roc_auc}\")"
   ]
  },
  {
   "cell_type": "code",
   "execution_count": 25,
   "id": "6d2608e7",
   "metadata": {},
   "outputs": [
    {
     "name": "stdout",
     "output_type": "stream",
     "text": [
      "Logistic Regression f1: 0.896551724137931 \n",
      "Logistic Regression roc_auc: 0.8564102564102564\n"
     ]
    }
   ],
   "source": [
    "X_test_scaled = StdSc.transform(X_test)\n",
    "y_predLogReg = LogR.predict(X_test_scaled)\n",
    "f1_LogR = f1_score(y_test,y_predLogReg)\n",
    "roc_auc_LogR = roc_auc_score(y_test,y_predLogReg)\n",
    "print(f\"Logistic Regression f1: {f1_LogR} \\nLogistic Regression roc_auc: {roc_auc_LogR}\")"
   ]
  },
  {
   "cell_type": "markdown",
   "id": "4f00f844",
   "metadata": {},
   "source": [
    "Logistic Regression would be the best to use. both its f1 and roc_auc scores are higher than the others. A high f1 means that both FN and FP are realtively low and the roc_auc tells us that it correctly ranks the y in 85.6% of the time."
   ]
  },
  {
   "cell_type": "code",
   "execution_count": 26,
   "id": "ae4c43a2",
   "metadata": {},
   "outputs": [],
   "source": [
    "# Using 5-fold cross validation, compute the averaged score for each of the three models.\n",
    "# Reference this for the scoring hyperparameter: https://scikit-learn.org/stable/modules/model_evaluation.html\n",
    "# Note: When defining the KFold, please use a random state of 42!\n",
    "from sklearn.model_selection import KFold, cross_val_score\n",
    "import matplotlib.pyplot as plt\n",
    "\n",
    "logR2 = LogisticRegression()\n",
    "KNN2 = KNeighborsClassifier()\n",
    "DTC2 = DecisionTreeClassifier()\n",
    "models2 = {\"KNN\":KNN2,\"Decision Tree\":DTC2}"
   ]
  },
  {
   "cell_type": "code",
   "execution_count": 27,
   "id": "8c224da4",
   "metadata": {},
   "outputs": [],
   "source": [
    "results = []\n",
    "kf = KFold(n_splits=5, random_state=42, shuffle=True)\n",
    "for model in models2.values():\n",
    "    cv_results = cross_val_score(model,X_train, y_train, cv=kf, scoring=\"f1\")\n",
    "    results.append(cv_results)\n"
   ]
  },
  {
   "cell_type": "code",
   "execution_count": 28,
   "id": "675ef6eb",
   "metadata": {},
   "outputs": [
    {
     "name": "stdout",
     "output_type": "stream",
     "text": [
      "[array([0.92307692, 0.94915254, 0.94736842, 0.85106383, 0.8       ]), array([0.88888889, 0.90909091, 0.82352941, 0.79069767, 0.7       ]), array([0.92592593, 0.92857143, 0.94545455, 0.87804878, 0.83333333])]\n"
     ]
    },
    {
     "data": {
      "image/png": "[encoded data removed]",
      "text/plain": [
       "<Figure size 640x480 with 1 Axes>"
      ]
     },
     "metadata": {},
     "output_type": "display_data"
    }
   ],
   "source": [
    "\n",
    "cv_results = cross_val_score(logR2,X_train_scaled, y_train, cv=kf, scoring=\"f1\")\n",
    "\n",
    "results.append(cv_results)\n",
    "print(results)\n",
    "Class_models = {\"KNN\":KNN2, \"Decision Tree\":DTC2, \"Logistic Regression\":logR2}\n",
    "plt.boxplot(results, labels=Class_models.keys())\n",
    "plt.ylabel(f\"CV f1\")\n",
    "plt.xlabel(\"Models\")\n",
    "plt.show()"
   ]
  },
  {
   "cell_type": "code",
   "execution_count": 29,
   "id": "a37804eb",
   "metadata": {},
   "outputs": [
    {
     "name": "stdout",
     "output_type": "stream",
     "text": [
      "KNN f1_mean: 0.894132343257934\n",
      "Decision Tree f1_mean: 0.8224413768326218\n",
      "Logistic Regression f1_mean: 0.9022668027546075\n"
     ]
    }
   ],
   "source": [
    "for scores,model in zip(results,Class_models.keys()):\n",
    "    average = np.mean(scores)\n",
    "    print(f\"{model} f1_mean: {average}\")"
   ]
  },
  {
   "cell_type": "markdown",
   "id": "e3e9bbda",
   "metadata": {},
   "source": [
    "We can see on the graph that although the f1 score of KNN is second best after Logistic Regression, there is a higher variability than with Logistic regression suggesting that the model has the tendency to overfit.  \n",
    "\n",
    "To conclude, for this dataset the logistic regression is good model. "
   ]
  },
  {
   "cell_type": "markdown",
   "id": "e05fce50",
   "metadata": {},
   "source": [
    "# Regression\n",
    "Within this dataset, we're going to try to predict the medical charges of a patient based on 6 columns: age, sex, bmi, the number of children, whether or not someone is a smoker and the region of the patient. \n",
    "\n",
    "Note: The original dataset was found here: https://www.kaggle.com/mirichoi0218/insurance"
   ]
  },
  {
   "cell_type": "code",
   "execution_count": 30,
   "id": "4c5d39c2",
   "metadata": {
    "scrolled": true
   },
   "outputs": [
    {
     "data": {
      "text/html": [
       "<div>\n",
       "<style scoped>\n",
       "    .dataframe tbody tr th:only-of-type {\n",
       "        vertical-align: middle;\n",
       "    }\n",
       "\n",
       "    .dataframe tbody tr th {\n",
       "        vertical-align: top;\n",
       "    }\n",
       "\n",
       "    .dataframe thead th {\n",
       "        text-align: right;\n",
       "    }\n",
       "</style>\n",
       "<table border=\"1\" class=\"dataframe\">\n",
       "  <thead>\n",
       "    <tr style=\"text-align: right;\">\n",
       "      <th></th>\n",
       "      <th>age</th>\n",
       "      <th>sex</th>\n",
       "      <th>bmi</th>\n",
       "      <th>children</th>\n",
       "      <th>smoker</th>\n",
       "      <th>region</th>\n",
       "      <th>charges</th>\n",
       "    </tr>\n",
       "  </thead>\n",
       "  <tbody>\n",
       "    <tr>\n",
       "      <th>0</th>\n",
       "      <td>19</td>\n",
       "      <td>female</td>\n",
       "      <td>27.900</td>\n",
       "      <td>0</td>\n",
       "      <td>yes</td>\n",
       "      <td>southwest</td>\n",
       "      <td>16884.92400</td>\n",
       "    </tr>\n",
       "    <tr>\n",
       "      <th>1</th>\n",
       "      <td>18</td>\n",
       "      <td>male</td>\n",
       "      <td>33.770</td>\n",
       "      <td>1</td>\n",
       "      <td>no</td>\n",
       "      <td>southeast</td>\n",
       "      <td>1725.55230</td>\n",
       "    </tr>\n",
       "    <tr>\n",
       "      <th>2</th>\n",
       "      <td>28</td>\n",
       "      <td>male</td>\n",
       "      <td>33.000</td>\n",
       "      <td>3</td>\n",
       "      <td>no</td>\n",
       "      <td>southeast</td>\n",
       "      <td>4449.46200</td>\n",
       "    </tr>\n",
       "    <tr>\n",
       "      <th>3</th>\n",
       "      <td>33</td>\n",
       "      <td>male</td>\n",
       "      <td>22.705</td>\n",
       "      <td>0</td>\n",
       "      <td>no</td>\n",
       "      <td>northwest</td>\n",
       "      <td>21984.47061</td>\n",
       "    </tr>\n",
       "    <tr>\n",
       "      <th>4</th>\n",
       "      <td>32</td>\n",
       "      <td>male</td>\n",
       "      <td>28.880</td>\n",
       "      <td>0</td>\n",
       "      <td>no</td>\n",
       "      <td>northwest</td>\n",
       "      <td>3866.85520</td>\n",
       "    </tr>\n",
       "  </tbody>\n",
       "</table>\n",
       "</div>"
      ],
      "text/plain": [
       "   age     sex     bmi  children smoker     region      charges\n",
       "0   19  female  27.900         0    yes  southwest  16884.92400\n",
       "1   18    male  33.770         1     no  southeast   1725.55230\n",
       "2   28    male  33.000         3     no  southeast   4449.46200\n",
       "3   33    male  22.705         0     no  northwest  21984.47061\n",
       "4   32    male  28.880         0     no  northwest   3866.85520"
      ]
     },
     "execution_count": 30,
     "metadata": {},
     "output_type": "execute_result"
    }
   ],
   "source": [
    "# Load in the medical insurance cost dataset.\n",
    "data_2 = pd.read_csv(\"data/insurance.csv\")\n",
    "data_2.head()"
   ]
  },
  {
   "cell_type": "code",
   "execution_count": 31,
   "id": "c7e7c930",
   "metadata": {},
   "outputs": [
    {
     "name": "stdout",
     "output_type": "stream",
     "text": [
      "<class 'pandas.core.frame.DataFrame'>\n",
      "RangeIndex: 1338 entries, 0 to 1337\n",
      "Data columns (total 7 columns):\n",
      " #   Column    Non-Null Count  Dtype  \n",
      "---  ------    --------------  -----  \n",
      " 0   age       1338 non-null   int64  \n",
      " 1   sex       1338 non-null   object \n",
      " 2   bmi       1338 non-null   float64\n",
      " 3   children  1338 non-null   int64  \n",
      " 4   smoker    1338 non-null   object \n",
      " 5   region    1338 non-null   object \n",
      " 6   charges   1338 non-null   float64\n",
      "dtypes: float64(2), int64(2), object(3)\n",
      "memory usage: 73.3+ KB\n"
     ]
    }
   ],
   "source": [
    "# Transform the categorical variables into one-hot encoded variables.\n",
    "data_2.info()"
   ]
  },
  {
   "cell_type": "code",
   "execution_count": 32,
   "id": "a9dd0ffa",
   "metadata": {},
   "outputs": [
    {
     "name": "stdout",
     "output_type": "stream",
     "text": [
      "<class 'pandas.core.frame.DataFrame'>\n",
      "RangeIndex: 1338 entries, 0 to 1337\n",
      "Data columns (total 9 columns):\n",
      " #   Column            Non-Null Count  Dtype  \n",
      "---  ------            --------------  -----  \n",
      " 0   age               1338 non-null   int64  \n",
      " 1   bmi               1338 non-null   float64\n",
      " 2   children          1338 non-null   int64  \n",
      " 3   charges           1338 non-null   float64\n",
      " 4   sex_bool          1338 non-null   int32  \n",
      " 5   smoker_bool       1338 non-null   int32  \n",
      " 6   region_northwest  1338 non-null   bool   \n",
      " 7   region_southeast  1338 non-null   bool   \n",
      " 8   region_southwest  1338 non-null   bool   \n",
      "dtypes: bool(3), float64(2), int32(2), int64(2)\n",
      "memory usage: 56.3 KB\n"
     ]
    }
   ],
   "source": [
    "data_2[\"sex_bool\"] = my_bool_function(data_2,\"sex\", \"female\")\n",
    "data_2[\"smoker_bool\"] = my_bool_function(data_2,\"smoker\",\"yes\")\n",
    "data_2.drop([\"sex\",\"smoker\"], axis=1, inplace=True)\n",
    "dummies_2 = pd.get_dummies(data_2, drop_first=True)\n",
    "dummies_2.info()"
   ]
  },
  {
   "cell_type": "code",
   "execution_count": 33,
   "id": "adbe3edd",
   "metadata": {},
   "outputs": [],
   "source": [
    "# Split your dataset into a training and testing set using an 80/20 split.\n",
    "    # NOTE: Please use a random_state of 42! This helps me reproduce your results!\n",
    "\n",
    "X_2 = dummies_2.drop(\"charges\", axis=1)\n",
    "y_2 = dummies_2[\"charges\"]\n",
    "X_train2,X_test2,y_train2,y_test2 = train_test_split(X_2,y_2, test_size=0.2, random_state=42)"
   ]
  },
  {
   "cell_type": "code",
   "execution_count": 34,
   "id": "67198098",
   "metadata": {},
   "outputs": [
    {
     "data": {
      "text/html": [
       "<div>\n",
       "<style scoped>\n",
       "    .dataframe tbody tr th:only-of-type {\n",
       "        vertical-align: middle;\n",
       "    }\n",
       "\n",
       "    .dataframe tbody tr th {\n",
       "        vertical-align: top;\n",
       "    }\n",
       "\n",
       "    .dataframe thead th {\n",
       "        text-align: right;\n",
       "    }\n",
       "</style>\n",
       "<table border=\"1\" class=\"dataframe\">\n",
       "  <thead>\n",
       "    <tr style=\"text-align: right;\">\n",
       "      <th></th>\n",
       "      <th>Real charges</th>\n",
       "      <th>Linear Regression</th>\n",
       "      <th>Decision Tree</th>\n",
       "      <th>Random Forest</th>\n",
       "    </tr>\n",
       "  </thead>\n",
       "  <tbody>\n",
       "    <tr>\n",
       "      <th>0</th>\n",
       "      <td>9095.06825</td>\n",
       "      <td>8969.550274</td>\n",
       "      <td>8615.30000</td>\n",
       "      <td>9685.290390</td>\n",
       "    </tr>\n",
       "    <tr>\n",
       "      <th>1</th>\n",
       "      <td>5272.17580</td>\n",
       "      <td>7068.747443</td>\n",
       "      <td>4571.41305</td>\n",
       "      <td>5438.817799</td>\n",
       "    </tr>\n",
       "    <tr>\n",
       "      <th>2</th>\n",
       "      <td>29330.98315</td>\n",
       "      <td>36858.410912</td>\n",
       "      <td>28950.46920</td>\n",
       "      <td>28362.858876</td>\n",
       "    </tr>\n",
       "    <tr>\n",
       "      <th>3</th>\n",
       "      <td>9301.89355</td>\n",
       "      <td>9454.678501</td>\n",
       "      <td>9225.25640</td>\n",
       "      <td>11615.228792</td>\n",
       "    </tr>\n",
       "    <tr>\n",
       "      <th>4</th>\n",
       "      <td>33750.29180</td>\n",
       "      <td>26973.173457</td>\n",
       "      <td>33732.68670</td>\n",
       "      <td>34707.297503</td>\n",
       "    </tr>\n",
       "  </tbody>\n",
       "</table>\n",
       "</div>"
      ],
      "text/plain": [
       "   Real charges  Linear Regression  Decision Tree  Random Forest\n",
       "0    9095.06825        8969.550274     8615.30000    9685.290390\n",
       "1    5272.17580        7068.747443     4571.41305    5438.817799\n",
       "2   29330.98315       36858.410912    28950.46920   28362.858876\n",
       "3    9301.89355        9454.678501     9225.25640   11615.228792\n",
       "4   33750.29180       26973.173457    33732.68670   34707.297503"
      ]
     },
     "execution_count": 34,
     "metadata": {},
     "output_type": "execute_result"
    }
   ],
   "source": [
    "# Using Linear Regression, a Decision Tree, and a Random Forest, predict charges.\n",
    "from sklearn.linear_model import LinearRegression\n",
    "from sklearn.tree import DecisionTreeRegressor\n",
    "from sklearn.ensemble import RandomForestRegressor\n",
    "\n",
    "LinReg = LinearRegression()\n",
    "DTR = DecisionTreeRegressor()\n",
    "RFR = RandomForestRegressor(n_estimators=200)\n",
    "\n",
    "models_R = {\"Linear Regression\":LinReg, \"Decision Tree\":DTR, \"Random Forest\":RFR}\n",
    "\n",
    "charges = pd.DataFrame(y_test2, columns=[\"Real charges\"])\n",
    "for name,model in models_R.items():\n",
    "    model.fit(X_train2,y_train2)\n",
    "    charges[name] = model.predict(X_test2)\n",
    "\n",
    "y_test2.to_list()\n",
    "charges[\"Real charges\"] = [x for x in y_test2]\n",
    "charges.head()\n"
   ]
  },
  {
   "cell_type": "markdown",
   "id": "1e950b0f",
   "metadata": {},
   "source": [
    "Assume that we're about to present to a stakeholders and business people who do not quite understand data science.\n",
    "If this is the case, which metric would be the best to use and why?  \n",
    "\n",
    "R² is the default metric for the regressors in sklearn. However, it's not an easy one to explain. It can be translated as being the proportion of the variance in the target variable that is predictable from the features.  \n",
    "\n",
    "MSE (Mean Squared Error) = mean((y-y^)²). Bigger is the residual (the distance between y and y^), much bigger will MSE be. Hence, this metric take huge importance on the outliers. However, if this metric is used we need to square root it so we can understand better the performance of the model (to get to the same unit instead of presenting the unit²).\n",
    "\n",
    "MAE (Mean Absolute Error) = mean(|y-y^|). Here the outliers take less importance as they are not squared.  \n"
   ]
  },
  {
   "cell_type": "code",
   "execution_count": 35,
   "id": "9f21ffaa",
   "metadata": {},
   "outputs": [
    {
     "data": {
      "image/png": "[encoded data removed]",
      "text/plain": [
       "<Figure size 1500x1500 with 3 Axes>"
      ]
     },
     "metadata": {},
     "output_type": "display_data"
    }
   ],
   "source": [
    "import seaborn as sns\n",
    "fig,axes = plt.subplots(2,2, figsize=(15,15))\n",
    "sns.scatterplot(x=\"Real charges\", y=\"Linear Regression\", data=charges, ax=axes[0,0])\n",
    "sns.scatterplot(x=\"Real charges\", y=\"Decision Tree\", data=charges, ax=axes[0,1])\n",
    "sns.scatterplot(x=\"Real charges\", y=\"Random Forest\", data=charges, ax=axes[1,0])\n",
    "fig.delaxes(axes[1,1])\n",
    "plt.tight_layout()\n",
    "plt.show()"
   ]
  },
  {
   "cell_type": "code",
   "execution_count": 36,
   "id": "ffc7539f",
   "metadata": {},
   "outputs": [
    {
     "name": "stdout",
     "output_type": "stream",
     "text": [
      "rmse Linear Regression: 5796.2846592762735 \n",
      "rmse Decision Tree: 6927.27970838632 \n",
      "rmse Random Forest: 4629.438519929373\n",
      "mae Linear Regression: 4181.1944737536505 \n",
      "mae Decision Tree: 3326.5816854701498 \n",
      "mae Random Forest: 2587.935152204526\n"
     ]
    }
   ],
   "source": [
    "# Using your decided-upon metric, calculate the score for each of these algorithms.\n",
    "from sklearn.metrics import mean_squared_error as MSE, mean_absolute_error as MAE\n",
    "\n",
    "rmse_Linear_Reg = MSE(charges[\"Real charges\"],charges[\"Linear Regression\"])**(1/2)\n",
    "rmse_DTR = MSE(charges[\"Real charges\"],charges[\"Decision Tree\"])**(1/2)\n",
    "rmse_RFR = MSE(charges[\"Real charges\"],charges[\"Random Forest\"])**(1/2)\n",
    "\n",
    "mae_Linear_Reg = MAE(charges[\"Real charges\"],charges[\"Linear Regression\"])\n",
    "mae_DTR = MAE(charges[\"Real charges\"],charges[\"Decision Tree\"])\n",
    "mae_RFR = MAE(charges[\"Real charges\"],charges[\"Random Forest\"])\n",
    "\n",
    "print(f\"rmse Linear Regression: {rmse_Linear_Reg} \\nrmse Decision Tree: {rmse_DTR} \\nrmse Random Forest: {rmse_RFR}\")\n",
    "print(f\"mae Linear Regression: {mae_Linear_Reg} \\nmae Decision Tree: {mae_DTR} \\nmae Random Forest: {mae_RFR}\")\n"
   ]
  },
  {
   "cell_type": "markdown",
   "id": "0fcdd639",
   "metadata": {},
   "source": [
    "For this dataset I would say both rmse and mae are valid. However, they do not reflect the direction where the model has most difficulties. As an insurance company I would say it's ok to predict higher especially for conditions where we expect high charges.  \n",
    "On the graph, while random forest is very good in general in predicting, most of the values outside the line are under-predicting while for the decision tree we see outliers on both side of the line. Hence, increasing the number of the same decision tree (but fed with with slightly different sets of the dataset) helps the model to not overestimate the charges but is less performant in not underestimate it. \n"
   ]
  },
  {
   "cell_type": "code",
   "execution_count": 37,
   "id": "6e39ab5f",
   "metadata": {},
   "outputs": [
    {
     "data": {
      "text/html": [
       "<div>\n",
       "<style scoped>\n",
       "    .dataframe tbody tr th:only-of-type {\n",
       "        vertical-align: middle;\n",
       "    }\n",
       "\n",
       "    .dataframe tbody tr th {\n",
       "        vertical-align: top;\n",
       "    }\n",
       "\n",
       "    .dataframe thead th {\n",
       "        text-align: right;\n",
       "    }\n",
       "</style>\n",
       "<table border=\"1\" class=\"dataframe\">\n",
       "  <thead>\n",
       "    <tr style=\"text-align: right;\">\n",
       "      <th></th>\n",
       "      <th>intercept</th>\n",
       "      <th>coefficient</th>\n",
       "    </tr>\n",
       "  </thead>\n",
       "  <tbody>\n",
       "    <tr>\n",
       "      <th>smoker_bool</th>\n",
       "      <td>-11949.810742</td>\n",
       "      <td>23651.128856</td>\n",
       "    </tr>\n",
       "    <tr>\n",
       "      <th>children</th>\n",
       "      <td>-11949.810742</td>\n",
       "      <td>425.278784</td>\n",
       "    </tr>\n",
       "    <tr>\n",
       "      <th>bmi</th>\n",
       "      <td>-11949.810742</td>\n",
       "      <td>337.092552</td>\n",
       "    </tr>\n",
       "    <tr>\n",
       "      <th>age</th>\n",
       "      <td>-11949.810742</td>\n",
       "      <td>256.975706</td>\n",
       "    </tr>\n",
       "    <tr>\n",
       "      <th>sex_bool</th>\n",
       "      <td>-11949.810742</td>\n",
       "      <td>18.591692</td>\n",
       "    </tr>\n",
       "    <tr>\n",
       "      <th>region_northwest</th>\n",
       "      <td>-11949.810742</td>\n",
       "      <td>-370.677326</td>\n",
       "    </tr>\n",
       "    <tr>\n",
       "      <th>region_southeast</th>\n",
       "      <td>-11949.810742</td>\n",
       "      <td>-657.864297</td>\n",
       "    </tr>\n",
       "    <tr>\n",
       "      <th>region_southwest</th>\n",
       "      <td>-11949.810742</td>\n",
       "      <td>-809.799354</td>\n",
       "    </tr>\n",
       "  </tbody>\n",
       "</table>\n",
       "</div>"
      ],
      "text/plain": [
       "                     intercept   coefficient\n",
       "smoker_bool      -11949.810742  23651.128856\n",
       "children         -11949.810742    425.278784\n",
       "bmi              -11949.810742    337.092552\n",
       "age              -11949.810742    256.975706\n",
       "sex_bool         -11949.810742     18.591692\n",
       "region_northwest -11949.810742   -370.677326\n",
       "region_southeast -11949.810742   -657.864297\n",
       "region_southwest -11949.810742   -809.799354"
      ]
     },
     "execution_count": 37,
     "metadata": {},
     "output_type": "execute_result"
    }
   ],
   "source": [
    "# For the linear regression model, print out the intercept and the coefficients.\n",
    "coef_intercept = pd.DataFrame({\"intercept\":LinReg.intercept_, \"coefficient\":LinReg.coef_}, index=X_2.columns)\n",
    "coef_intercept.sort_values(\"coefficient\", ascending=False, inplace=True)\n",
    "coef_intercept"
   ]
  },
  {
   "cell_type": "code",
   "execution_count": 38,
   "id": "a9db75ef",
   "metadata": {},
   "outputs": [
    {
     "data": {
      "text/html": [
       "<div>\n",
       "<style scoped>\n",
       "    .dataframe tbody tr th:only-of-type {\n",
       "        vertical-align: middle;\n",
       "    }\n",
       "\n",
       "    .dataframe tbody tr th {\n",
       "        vertical-align: top;\n",
       "    }\n",
       "\n",
       "    .dataframe thead th {\n",
       "        text-align: right;\n",
       "    }\n",
       "</style>\n",
       "<table border=\"1\" class=\"dataframe\">\n",
       "  <thead>\n",
       "    <tr style=\"text-align: right;\">\n",
       "      <th></th>\n",
       "      <th>Feature</th>\n",
       "      <th>Feature importance</th>\n",
       "    </tr>\n",
       "  </thead>\n",
       "  <tbody>\n",
       "    <tr>\n",
       "      <th>4</th>\n",
       "      <td>smoker_bool</td>\n",
       "      <td>0.610123</td>\n",
       "    </tr>\n",
       "    <tr>\n",
       "      <th>1</th>\n",
       "      <td>bmi</td>\n",
       "      <td>0.214114</td>\n",
       "    </tr>\n",
       "    <tr>\n",
       "      <th>0</th>\n",
       "      <td>age</td>\n",
       "      <td>0.134952</td>\n",
       "    </tr>\n",
       "    <tr>\n",
       "      <th>2</th>\n",
       "      <td>children</td>\n",
       "      <td>0.019510</td>\n",
       "    </tr>\n",
       "    <tr>\n",
       "      <th>3</th>\n",
       "      <td>sex_bool</td>\n",
       "      <td>0.006524</td>\n",
       "    </tr>\n",
       "    <tr>\n",
       "      <th>5</th>\n",
       "      <td>region_northwest</td>\n",
       "      <td>0.005424</td>\n",
       "    </tr>\n",
       "    <tr>\n",
       "      <th>6</th>\n",
       "      <td>region_southeast</td>\n",
       "      <td>0.005065</td>\n",
       "    </tr>\n",
       "    <tr>\n",
       "      <th>7</th>\n",
       "      <td>region_southwest</td>\n",
       "      <td>0.004289</td>\n",
       "    </tr>\n",
       "  </tbody>\n",
       "</table>\n",
       "</div>"
      ],
      "text/plain": [
       "            Feature  Feature importance\n",
       "4       smoker_bool            0.610123\n",
       "1               bmi            0.214114\n",
       "0               age            0.134952\n",
       "2          children            0.019510\n",
       "3          sex_bool            0.006524\n",
       "5  region_northwest            0.005424\n",
       "6  region_southeast            0.005065\n",
       "7  region_southwest            0.004289"
      ]
     },
     "execution_count": 38,
     "metadata": {},
     "output_type": "execute_result"
    }
   ],
   "source": [
    "# For the random forest model, print out the feature importance for each of the variables.\n",
    "RFR_feature_imp = pd.DataFrame({\"Feature\":X_2.columns, \"Feature importance\":RFR.feature_importances_})\n",
    "RFR_feature_imp.sort_values(\"Feature importance\", ascending=False, inplace=True)\n",
    "RFR_feature_imp"
   ]
  },
  {
   "cell_type": "markdown",
   "id": "f9542488",
   "metadata": {},
   "source": [
    "# Dimensionality Reduction and Clustering\n",
    "For the dimensionality reduction and clustering task, we're going to first reduce the dimensions using PCA and then cluster the first two principal components into 3 different clusters using the K-Means algorithm.\n",
    "\n",
    "Note: The dataset was originally loaded here: https://www.kaggle.com/code/karnikakapoor/customer-segmentation-clustering"
   ]
  },
  {
   "cell_type": "code",
   "execution_count": 39,
   "id": "d54fb48e",
   "metadata": {},
   "outputs": [
    {
     "data": {
      "text/html": [
       "<div>\n",
       "<style scoped>\n",
       "    .dataframe tbody tr th:only-of-type {\n",
       "        vertical-align: middle;\n",
       "    }\n",
       "\n",
       "    .dataframe tbody tr th {\n",
       "        vertical-align: top;\n",
       "    }\n",
       "\n",
       "    .dataframe thead th {\n",
       "        text-align: right;\n",
       "    }\n",
       "</style>\n",
       "<table border=\"1\" class=\"dataframe\">\n",
       "  <thead>\n",
       "    <tr style=\"text-align: right;\">\n",
       "      <th></th>\n",
       "      <th>Education</th>\n",
       "      <th>Marital_Status</th>\n",
       "      <th>Income</th>\n",
       "      <th>Kidhome</th>\n",
       "      <th>Teenhome</th>\n",
       "      <th>Recency</th>\n",
       "      <th>MntWines</th>\n",
       "      <th>MntFruits</th>\n",
       "      <th>MntMeatProducts</th>\n",
       "      <th>MntFishProducts</th>\n",
       "      <th>MntSweetProducts</th>\n",
       "      <th>MntGoldProds</th>\n",
       "      <th>NumDealsPurchases</th>\n",
       "      <th>NumWebPurchases</th>\n",
       "      <th>NumCatalogPurchases</th>\n",
       "      <th>NumStorePurchases</th>\n",
       "      <th>NumWebVisitsMonth</th>\n",
       "    </tr>\n",
       "  </thead>\n",
       "  <tbody>\n",
       "    <tr>\n",
       "      <th>0</th>\n",
       "      <td>Graduation</td>\n",
       "      <td>Single</td>\n",
       "      <td>58138.0</td>\n",
       "      <td>0</td>\n",
       "      <td>0</td>\n",
       "      <td>58</td>\n",
       "      <td>635</td>\n",
       "      <td>88</td>\n",
       "      <td>546</td>\n",
       "      <td>172</td>\n",
       "      <td>88</td>\n",
       "      <td>88</td>\n",
       "      <td>3</td>\n",
       "      <td>8</td>\n",
       "      <td>10</td>\n",
       "      <td>4</td>\n",
       "      <td>7</td>\n",
       "    </tr>\n",
       "    <tr>\n",
       "      <th>1</th>\n",
       "      <td>Graduation</td>\n",
       "      <td>Single</td>\n",
       "      <td>46344.0</td>\n",
       "      <td>1</td>\n",
       "      <td>1</td>\n",
       "      <td>38</td>\n",
       "      <td>11</td>\n",
       "      <td>1</td>\n",
       "      <td>6</td>\n",
       "      <td>2</td>\n",
       "      <td>1</td>\n",
       "      <td>6</td>\n",
       "      <td>2</td>\n",
       "      <td>1</td>\n",
       "      <td>1</td>\n",
       "      <td>2</td>\n",
       "      <td>5</td>\n",
       "    </tr>\n",
       "    <tr>\n",
       "      <th>2</th>\n",
       "      <td>Graduation</td>\n",
       "      <td>Together</td>\n",
       "      <td>71613.0</td>\n",
       "      <td>0</td>\n",
       "      <td>0</td>\n",
       "      <td>26</td>\n",
       "      <td>426</td>\n",
       "      <td>49</td>\n",
       "      <td>127</td>\n",
       "      <td>111</td>\n",
       "      <td>21</td>\n",
       "      <td>42</td>\n",
       "      <td>1</td>\n",
       "      <td>8</td>\n",
       "      <td>2</td>\n",
       "      <td>10</td>\n",
       "      <td>4</td>\n",
       "    </tr>\n",
       "    <tr>\n",
       "      <th>3</th>\n",
       "      <td>Graduation</td>\n",
       "      <td>Together</td>\n",
       "      <td>26646.0</td>\n",
       "      <td>1</td>\n",
       "      <td>0</td>\n",
       "      <td>26</td>\n",
       "      <td>11</td>\n",
       "      <td>4</td>\n",
       "      <td>20</td>\n",
       "      <td>10</td>\n",
       "      <td>3</td>\n",
       "      <td>5</td>\n",
       "      <td>2</td>\n",
       "      <td>2</td>\n",
       "      <td>0</td>\n",
       "      <td>4</td>\n",
       "      <td>6</td>\n",
       "    </tr>\n",
       "    <tr>\n",
       "      <th>4</th>\n",
       "      <td>PhD</td>\n",
       "      <td>Married</td>\n",
       "      <td>58293.0</td>\n",
       "      <td>1</td>\n",
       "      <td>0</td>\n",
       "      <td>94</td>\n",
       "      <td>173</td>\n",
       "      <td>43</td>\n",
       "      <td>118</td>\n",
       "      <td>46</td>\n",
       "      <td>27</td>\n",
       "      <td>15</td>\n",
       "      <td>5</td>\n",
       "      <td>5</td>\n",
       "      <td>3</td>\n",
       "      <td>6</td>\n",
       "      <td>5</td>\n",
       "    </tr>\n",
       "    <tr>\n",
       "      <th>...</th>\n",
       "      <td>...</td>\n",
       "      <td>...</td>\n",
       "      <td>...</td>\n",
       "      <td>...</td>\n",
       "      <td>...</td>\n",
       "      <td>...</td>\n",
       "      <td>...</td>\n",
       "      <td>...</td>\n",
       "      <td>...</td>\n",
       "      <td>...</td>\n",
       "      <td>...</td>\n",
       "      <td>...</td>\n",
       "      <td>...</td>\n",
       "      <td>...</td>\n",
       "      <td>...</td>\n",
       "      <td>...</td>\n",
       "      <td>...</td>\n",
       "    </tr>\n",
       "    <tr>\n",
       "      <th>2211</th>\n",
       "      <td>Graduation</td>\n",
       "      <td>Married</td>\n",
       "      <td>61223.0</td>\n",
       "      <td>0</td>\n",
       "      <td>1</td>\n",
       "      <td>46</td>\n",
       "      <td>709</td>\n",
       "      <td>43</td>\n",
       "      <td>182</td>\n",
       "      <td>42</td>\n",
       "      <td>118</td>\n",
       "      <td>247</td>\n",
       "      <td>2</td>\n",
       "      <td>9</td>\n",
       "      <td>3</td>\n",
       "      <td>4</td>\n",
       "      <td>5</td>\n",
       "    </tr>\n",
       "    <tr>\n",
       "      <th>2212</th>\n",
       "      <td>PhD</td>\n",
       "      <td>Together</td>\n",
       "      <td>64014.0</td>\n",
       "      <td>2</td>\n",
       "      <td>1</td>\n",
       "      <td>56</td>\n",
       "      <td>406</td>\n",
       "      <td>0</td>\n",
       "      <td>30</td>\n",
       "      <td>0</td>\n",
       "      <td>0</td>\n",
       "      <td>8</td>\n",
       "      <td>7</td>\n",
       "      <td>8</td>\n",
       "      <td>2</td>\n",
       "      <td>5</td>\n",
       "      <td>7</td>\n",
       "    </tr>\n",
       "    <tr>\n",
       "      <th>2213</th>\n",
       "      <td>Graduation</td>\n",
       "      <td>Divorced</td>\n",
       "      <td>56981.0</td>\n",
       "      <td>0</td>\n",
       "      <td>0</td>\n",
       "      <td>91</td>\n",
       "      <td>908</td>\n",
       "      <td>48</td>\n",
       "      <td>217</td>\n",
       "      <td>32</td>\n",
       "      <td>12</td>\n",
       "      <td>24</td>\n",
       "      <td>1</td>\n",
       "      <td>2</td>\n",
       "      <td>3</td>\n",
       "      <td>13</td>\n",
       "      <td>6</td>\n",
       "    </tr>\n",
       "    <tr>\n",
       "      <th>2214</th>\n",
       "      <td>Master</td>\n",
       "      <td>Together</td>\n",
       "      <td>69245.0</td>\n",
       "      <td>0</td>\n",
       "      <td>1</td>\n",
       "      <td>8</td>\n",
       "      <td>428</td>\n",
       "      <td>30</td>\n",
       "      <td>214</td>\n",
       "      <td>80</td>\n",
       "      <td>30</td>\n",
       "      <td>61</td>\n",
       "      <td>2</td>\n",
       "      <td>6</td>\n",
       "      <td>5</td>\n",
       "      <td>10</td>\n",
       "      <td>3</td>\n",
       "    </tr>\n",
       "    <tr>\n",
       "      <th>2215</th>\n",
       "      <td>PhD</td>\n",
       "      <td>Married</td>\n",
       "      <td>52869.0</td>\n",
       "      <td>1</td>\n",
       "      <td>1</td>\n",
       "      <td>40</td>\n",
       "      <td>84</td>\n",
       "      <td>3</td>\n",
       "      <td>61</td>\n",
       "      <td>2</td>\n",
       "      <td>1</td>\n",
       "      <td>21</td>\n",
       "      <td>3</td>\n",
       "      <td>3</td>\n",
       "      <td>1</td>\n",
       "      <td>4</td>\n",
       "      <td>7</td>\n",
       "    </tr>\n",
       "  </tbody>\n",
       "</table>\n",
       "<p>2216 rows × 17 columns</p>\n",
       "</div>"
      ],
      "text/plain": [
       "       Education Marital_Status   Income  Kidhome  Teenhome  Recency  \\\n",
       "0     Graduation         Single  58138.0        0         0       58   \n",
       "1     Graduation         Single  46344.0        1         1       38   \n",
       "2     Graduation       Together  71613.0        0         0       26   \n",
       "3     Graduation       Together  26646.0        1         0       26   \n",
       "4            PhD        Married  58293.0        1         0       94   \n",
       "...          ...            ...      ...      ...       ...      ...   \n",
       "2211  Graduation        Married  61223.0        0         1       46   \n",
       "2212         PhD       Together  64014.0        2         1       56   \n",
       "2213  Graduation       Divorced  56981.0        0         0       91   \n",
       "2214      Master       Together  69245.0        0         1        8   \n",
       "2215         PhD        Married  52869.0        1         1       40   \n",
       "\n",
       "      MntWines  MntFruits  MntMeatProducts  MntFishProducts  MntSweetProducts  \\\n",
       "0          635         88              546              172                88   \n",
       "1           11          1                6                2                 1   \n",
       "2          426         49              127              111                21   \n",
       "3           11          4               20               10                 3   \n",
       "4          173         43              118               46                27   \n",
       "...        ...        ...              ...              ...               ...   \n",
       "2211       709         43              182               42               118   \n",
       "2212       406          0               30                0                 0   \n",
       "2213       908         48              217               32                12   \n",
       "2214       428         30              214               80                30   \n",
       "2215        84          3               61                2                 1   \n",
       "\n",
       "      MntGoldProds  NumDealsPurchases  NumWebPurchases  NumCatalogPurchases  \\\n",
       "0               88                  3                8                   10   \n",
       "1                6                  2                1                    1   \n",
       "2               42                  1                8                    2   \n",
       "3                5                  2                2                    0   \n",
       "4               15                  5                5                    3   \n",
       "...            ...                ...              ...                  ...   \n",
       "2211           247                  2                9                    3   \n",
       "2212             8                  7                8                    2   \n",
       "2213            24                  1                2                    3   \n",
       "2214            61                  2                6                    5   \n",
       "2215            21                  3                3                    1   \n",
       "\n",
       "      NumStorePurchases  NumWebVisitsMonth  \n",
       "0                     4                  7  \n",
       "1                     2                  5  \n",
       "2                    10                  4  \n",
       "3                     4                  6  \n",
       "4                     6                  5  \n",
       "...                 ...                ...  \n",
       "2211                  4                  5  \n",
       "2212                  5                  7  \n",
       "2213                 13                  6  \n",
       "2214                 10                  3  \n",
       "2215                  4                  7  \n",
       "\n",
       "[2216 rows x 17 columns]"
      ]
     },
     "execution_count": 39,
     "metadata": {},
     "output_type": "execute_result"
    }
   ],
   "source": [
    "# Load in the dataset.\n",
    "data3 = pd.read_csv(\"data/marketing_campaign_preprocessed.csv\")\n",
    "data3"
   ]
  },
  {
   "cell_type": "code",
   "execution_count": 40,
   "id": "670d6845",
   "metadata": {},
   "outputs": [
    {
     "name": "stdout",
     "output_type": "stream",
     "text": [
      "<class 'pandas.core.frame.DataFrame'>\n",
      "RangeIndex: 2216 entries, 0 to 2215\n",
      "Data columns (total 17 columns):\n",
      " #   Column               Non-Null Count  Dtype  \n",
      "---  ------               --------------  -----  \n",
      " 0   Education            2216 non-null   object \n",
      " 1   Marital_Status       2216 non-null   object \n",
      " 2   Income               2216 non-null   float64\n",
      " 3   Kidhome              2216 non-null   int64  \n",
      " 4   Teenhome             2216 non-null   int64  \n",
      " 5   Recency              2216 non-null   int64  \n",
      " 6   MntWines             2216 non-null   int64  \n",
      " 7   MntFruits            2216 non-null   int64  \n",
      " 8   MntMeatProducts      2216 non-null   int64  \n",
      " 9   MntFishProducts      2216 non-null   int64  \n",
      " 10  MntSweetProducts     2216 non-null   int64  \n",
      " 11  MntGoldProds         2216 non-null   int64  \n",
      " 12  NumDealsPurchases    2216 non-null   int64  \n",
      " 13  NumWebPurchases      2216 non-null   int64  \n",
      " 14  NumCatalogPurchases  2216 non-null   int64  \n",
      " 15  NumStorePurchases    2216 non-null   int64  \n",
      " 16  NumWebVisitsMonth    2216 non-null   int64  \n",
      "dtypes: float64(1), int64(14), object(2)\n",
      "memory usage: 294.4+ KB\n"
     ]
    }
   ],
   "source": [
    "data3.info()"
   ]
  },
  {
   "cell_type": "code",
   "execution_count": 41,
   "id": "3f31d571",
   "metadata": {},
   "outputs": [
    {
     "name": "stdout",
     "output_type": "stream",
     "text": [
      "<class 'pandas.core.frame.DataFrame'>\n",
      "RangeIndex: 2216 entries, 0 to 2215\n",
      "Data columns (total 26 columns):\n",
      " #   Column                   Non-Null Count  Dtype  \n",
      "---  ------                   --------------  -----  \n",
      " 0   Income                   2216 non-null   float64\n",
      " 1   Kidhome                  2216 non-null   int64  \n",
      " 2   Teenhome                 2216 non-null   int64  \n",
      " 3   Recency                  2216 non-null   int64  \n",
      " 4   MntWines                 2216 non-null   int64  \n",
      " 5   MntFruits                2216 non-null   int64  \n",
      " 6   MntMeatProducts          2216 non-null   int64  \n",
      " 7   MntFishProducts          2216 non-null   int64  \n",
      " 8   MntSweetProducts         2216 non-null   int64  \n",
      " 9   MntGoldProds             2216 non-null   int64  \n",
      " 10  NumDealsPurchases        2216 non-null   int64  \n",
      " 11  NumWebPurchases          2216 non-null   int64  \n",
      " 12  NumCatalogPurchases      2216 non-null   int64  \n",
      " 13  NumStorePurchases        2216 non-null   int64  \n",
      " 14  NumWebVisitsMonth        2216 non-null   int64  \n",
      " 15  Education_Basic          2216 non-null   bool   \n",
      " 16  Education_Graduation     2216 non-null   bool   \n",
      " 17  Education_Master         2216 non-null   bool   \n",
      " 18  Education_PhD            2216 non-null   bool   \n",
      " 19  Marital_Status_Alone     2216 non-null   bool   \n",
      " 20  Marital_Status_Divorced  2216 non-null   bool   \n",
      " 21  Marital_Status_Married   2216 non-null   bool   \n",
      " 22  Marital_Status_Single    2216 non-null   bool   \n",
      " 23  Marital_Status_Together  2216 non-null   bool   \n",
      " 24  Marital_Status_Widow     2216 non-null   bool   \n",
      " 25  Marital_Status_YOLO      2216 non-null   bool   \n",
      "dtypes: bool(11), float64(1), int64(14)\n",
      "memory usage: 283.6 KB\n"
     ]
    }
   ],
   "source": [
    "# Turn the categorical columns into one-hot encoded columns.\n",
    "dummies3 = pd.get_dummies(data3, drop_first=True)\n",
    "dummies3.info()"
   ]
  },
  {
   "cell_type": "code",
   "execution_count": 42,
   "id": "58fbfa5c",
   "metadata": {},
   "outputs": [],
   "source": [
    "# Because there are a lot of different columns, let's use PCA in order to reduce the number of dimensions to 3.\n",
    "# In order to properly use PCA, we need to standardize/normalize every single one of these columns. \n",
    "\n",
    "# The code is given here:\n",
    "\n",
    "scaler = StandardScaler()\n",
    "scaler.fit(dummies3)\n",
    "scaled_data = pd.DataFrame(scaler.transform(dummies3),columns= dummies3.columns)"
   ]
  },
  {
   "cell_type": "markdown",
   "id": "29550369",
   "metadata": {},
   "source": [
    "Above it is said 3 but then under we are asked to use 2, so I used 2. However (see later), 2 principal components are not enough to explain the total variance of the data.  \n",
    "Nonetheless, I kept it with 2."
   ]
  },
  {
   "cell_type": "code",
   "execution_count": 43,
   "id": "965b86bb",
   "metadata": {},
   "outputs": [
    {
     "data": {
      "text/plain": [
       "(2216, 2)"
      ]
     },
     "execution_count": 43,
     "metadata": {},
     "output_type": "execute_result"
    }
   ],
   "source": [
    "# Use PCA to transform these columns into 2 different principal components.\n",
    "from sklearn.decomposition import PCA\n",
    "pca=PCA(n_components=2)\n",
    "pca.fit(scaled_data)\n",
    "dummies_pcaTrsf = pca.transform(scaled_data)\n",
    "dummies_pcaTrsf.shape"
   ]
  },
  {
   "cell_type": "code",
   "execution_count": 44,
   "id": "9af5b467",
   "metadata": {},
   "outputs": [
    {
     "data": {
      "text/plain": [
       "0.31094178952491236"
      ]
     },
     "execution_count": 44,
     "metadata": {},
     "output_type": "execute_result"
    }
   ],
   "source": [
    "# Do these two principal components do a good job in explaining the total variance of the dataset?\n",
    "comp_var_ratio = pca.explained_variance_ratio_\n",
    "\n",
    "np.sum(comp_var_ratio)"
   ]
  },
  {
   "cell_type": "markdown",
   "id": "20fab536",
   "metadata": {},
   "source": [
    "These 2 principal components only explain 31% of the total variance. So no, they are not doing a good job. We are loosing too many informations. "
   ]
  },
  {
   "cell_type": "code",
   "execution_count": 45,
   "id": "b00819e6",
   "metadata": {},
   "outputs": [
    {
     "data": {
      "image/png": "[encoded data removed]",
      "text/plain": [
       "<Figure size 640x480 with 1 Axes>"
      ]
     },
     "metadata": {},
     "output_type": "display_data"
    }
   ],
   "source": [
    "# Visualize the two different principal components in the form of a scatter plot.\n",
    "# Note: If you were unable to do the previous PCA steps, feel free to use \"data/pca_components.csv\"!!!\n",
    "principal_components = pd.DataFrame({\"PC1\":dummies_pcaTrsf[:,0], \"PC2\":dummies_pcaTrsf[:,1]})\n",
    "\n",
    "sns.scatterplot(x=\"PC1\", y=\"PC2\", data=principal_components)\n",
    "plt.show()"
   ]
  },
  {
   "cell_type": "code",
   "execution_count": 46,
   "id": "39f0fe74",
   "metadata": {},
   "outputs": [],
   "source": [
    "# Using K-Means clustering, cluster the two principal components into 3 different clusters.\n",
    "    # NOTE: Please use a random_state of 42! This helps me reproduce your results!\n",
    "\n",
    "from sklearn.cluster import KMeans\n",
    "\n",
    "kmeans = KMeans(n_clusters=3, random_state=42)\n",
    "kmeans.fit(principal_components)\n",
    "clusters = kmeans.predict(principal_components)"
   ]
  },
  {
   "cell_type": "code",
   "execution_count": 54,
   "id": "a24414c6",
   "metadata": {},
   "outputs": [
    {
     "name": "stdout",
     "output_type": "stream",
     "text": [
      "[[-2.18479806 -0.50910801]\n",
      " [ 3.28939049 -0.7040965 ]\n",
      " [ 0.43402365  1.63238061]]\n"
     ]
    },
    {
     "data": {
      "image/png": "[encoded data removed]",
      "text/plain": [
       "<Figure size 640x480 with 1 Axes>"
      ]
     },
     "metadata": {},
     "output_type": "display_data"
    }
   ],
   "source": [
    "# View the cluster centers.\n",
    "clusters_centers = kmeans.cluster_centers_\n",
    "print(clusters_centers)\n",
    "principal_components[\"cluster\"] = clusters\n",
    "sns.scatterplot(x=\"PC1\", y=\"PC2\", data=principal_components, hue=\"cluster\")\n",
    "sns.scatterplot(x=clusters_centers[:,0], y=clusters_centers[:,1])\n",
    "plt.show()"
   ]
  },
  {
   "cell_type": "code",
   "execution_count": 48,
   "id": "885a5535",
   "metadata": {},
   "outputs": [],
   "source": [
    "# Assign the cluster predictions to a variable called \"cluster_predictions\"\n",
    "# see above"
   ]
  },
  {
   "cell_type": "code",
   "execution_count": 49,
   "id": "7d551220",
   "metadata": {},
   "outputs": [],
   "source": [
    "# For these 3 clusters, plot a scatter plot with the different clusters in different hues.\n",
    "# Note: If you make a dataframe with the columns \"PC1\", \"PC2\", and cluster_predictions, you can use sns.scatterplot()\n",
    "# and just use x = \"PC1\", y=\"PC2\", and hue=\"cluster_predictions\"\n",
    "# done see graph above\n"
   ]
  },
  {
   "cell_type": "markdown",
   "id": "0b7ebeb2",
   "metadata": {},
   "source": [
    "# Extra Challenges"
   ]
  },
  {
   "cell_type": "markdown",
   "id": "401baf41",
   "metadata": {},
   "source": [
    "a. Create your own function called \"my_root_mean_squared\" which takes in two parameters: y_actual and y_pred. Both of these parameters should either be pandas Series or lists and should contain numerical values. Return the root mean squared error using the following function and without using any other libraries other than numpy.\n",
    "\n",
    "$$ rmse = sqrt[\\sum_{i=1}^{n}\\frac{1}{n}(\\hat{y}_i - y_i)^2]$$"
   ]
  },
  {
   "cell_type": "code",
   "execution_count": 50,
   "id": "d15cf9e4",
   "metadata": {},
   "outputs": [
    {
     "data": {
      "text/plain": [
       "4629.438519929373"
      ]
     },
     "execution_count": 50,
     "metadata": {},
     "output_type": "execute_result"
    }
   ],
   "source": [
    "def my_root_mean_squared(y_test,y_pred):\n",
    "    \"\"\"Returns the rmse of your model.\n",
    "    Args:\n",
    "        y_test (pandas Serie or list): n values of real y.\n",
    "        y_pred (pandas Series or list): same n values of your predictions y.\n",
    "    \"\"\"\n",
    "    residual_squared = (y_pred - y_test)**2\n",
    "    mse = np.mean(residual_squared)\n",
    "    rmse = np.sqrt(mse)\n",
    "    return rmse\n",
    "\n",
    "my_root_mean_squared(charges[\"Real charges\"],charges[\"Random Forest\"])"
   ]
  },
  {
   "cell_type": "markdown",
   "id": "e89c52db",
   "metadata": {},
   "source": [
    "b. Create your own function called \"my_recall\" which takes in two parameters: y_actual and y_pred. Both of these parameters should be binary categorical variables in the form of a Pandas Series or a list. Return the recall using the following function:\n",
    "\n",
    "$$ recall = \\frac{TP}{TP + FN}$$\n",
    "\n",
    "such that <i>TP</i> are the true positives and <i>FN</i> are the false negatives. You can use the confusion matrix class in Scikit-Learn: https://scikit-learn.org/stable/modules/generated/sklearn.metrics.confusion_matrix.html"
   ]
  },
  {
   "cell_type": "code",
   "execution_count": 51,
   "id": "892dca6f",
   "metadata": {},
   "outputs": [
    {
     "data": {
      "text/plain": [
       "0.8666666666666667"
      ]
     },
     "execution_count": 51,
     "metadata": {},
     "output_type": "execute_result"
    }
   ],
   "source": [
    "def my_recall(y_actual,y_pred):\n",
    "    \"\"\"Returns the recall (or sensitivity) of your model based on the actual values of y \n",
    "    and their predictive counterparts.\n",
    "    Args:\n",
    "        y_actual (Pandas Series or a list): n values of real y.\n",
    "        y_pred (pandas Series or list): same n values of your predictions y.\n",
    "    Note: the y must be a list of 0s and 1s.\n",
    "    \"\"\"\n",
    "    TP = []\n",
    "    for y,y_hat in zip(y_actual,y_pred):\n",
    "        if y == y_hat and y == 1:\n",
    "            TP.append(1)\n",
    "        else:\n",
    "            TP.append(0)\n",
    "    FN = []\n",
    "    for y,y_hat in zip(y_actual,y_pred):\n",
    "        if y_hat == 0 and y == 1:\n",
    "            FN.append(1)\n",
    "        else:\n",
    "            FN.append(0)\n",
    "    recall = np.sum(TP)/(np.sum(TP)+np.sum(FN))\n",
    "    return recall\n",
    "\n",
    "my_recall(y_test, y_predLogReg)\n"
   ]
  },
  {
   "cell_type": "markdown",
   "id": "7cad2445",
   "metadata": {},
   "source": [
    "c. Using the regression dataset that we preprocessed previously, use only \"age\" in order to predict \"charges\" using a training/testing split of 80/20. Print out the intercept value and the coefficient estimate for age. Now that we have these two values as a comparison, can you use the training set in order to manually calculate these $\\beta$ values? You can use the NumPy library.\n",
    "\n",
    "Note that $\\beta_0$ represents the intercept whereas $\\beta_1$ represents the coefficient estimate for age.\n",
    "\n",
    "Here are the following formulas:\n",
    "$$ \\hat{\\beta}_0 = \\bar{y} - \\hat{\\beta}_{1}\\bar{x}$$\n",
    "\n",
    "$$ \\hat{\\beta}_{1} = \\frac{\\sum_{i=1}^{n}(x_i - \\bar{x})(y_i - \\bar{y_i})}{\\sum_{i=1}^{n}(x_i - \\bar{x})^2}$$\n"
   ]
  },
  {
   "cell_type": "code",
   "execution_count": 52,
   "id": "d308d1b3",
   "metadata": {},
   "outputs": [
    {
     "name": "stdout",
     "output_type": "stream",
     "text": [
      "intercept     -11949.810742\n",
      "coefficient      256.975706\n",
      "Name: age, dtype: float64\n"
     ]
    },
    {
     "data": {
      "text/plain": [
       "240.5965597887748"
      ]
     },
     "execution_count": 52,
     "metadata": {},
     "output_type": "execute_result"
    }
   ],
   "source": [
    "print(coef_intercept.loc[\"age\"])\n",
    "mean_age = X_train2[\"age\"].mean()\n",
    "mean_charges = np.mean(y_train2)\n",
    "\n",
    "residual_age = X_train2[\"age\"] - mean_age\n",
    "residual_charge = y_train2 - mean_charges\n",
    "\n",
    "num_beta1 = np.sum(residual_age * residual_charge)\n",
    "\n",
    "resid_age_squared = np.square(residual_age)\n",
    "denom_beta1 = np.sum(resid_age_squared)\n",
    "\n",
    "beta1 = num_beta1/denom_beta1\n",
    "\n",
    "beta1"
   ]
  },
  {
   "cell_type": "code",
   "execution_count": 53,
   "id": "f282d00a",
   "metadata": {},
   "outputs": [
    {
     "data": {
      "text/plain": [
       "3876.9286841916946"
      ]
     },
     "execution_count": 53,
     "metadata": {},
     "output_type": "execute_result"
    }
   ],
   "source": [
    "beta0 = mean_charges - beta1*mean_age\n",
    "beta0"
   ]
  }
 ],
 "metadata": {
  "kernelspec": {
   "display_name": "Essai",
   "language": "python",
   "name": "python3"
  },
  "language_info": {
   "codemirror_mode": {
    "name": "ipython",
    "version": 3
   },
   "file_extension": ".py",
   "mimetype": "text/x-python",
   "name": "python",
   "nbconvert_exporter": "python",
   "pygments_lexer": "ipython3",
   "version": "3.12.4"
  }
 },
 "nbformat": 4,
 "nbformat_minor": 5
}
