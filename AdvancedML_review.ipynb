{
 "cells": [
  {
   "cell_type": "markdown",
   "id": "54c87938-7e7d-487c-a3a3-9902dfa5fa12",
   "metadata": {},
   "source": [
    "- DATA required for the model review is available at: https://drive.google.com/drive/folders/1tc_TU8T41q5oUF3U71c7ji6Dps1d2-Tz?usp=sharing\n",
    "\n",
    "- Move de folder **data** next to where you have the AdvancedML_review.ipynb"
   ]
  },
  {
   "cell_type": "code",
   "execution_count": 1,
   "id": "c7a77047-d916-47c8-9a69-383b4d127853",
   "metadata": {},
   "outputs": [],
   "source": [
    "import numpy as np\n",
    "import pandas as pd\n",
    "\n",
    "from matplotlib import pyplot as plt\n",
    "import seaborn as sns\n",
    "from PIL import Image\n",
    "from sklearn import preprocessing\n",
    "\n",
    "import os\n",
    "\n",
    "%matplotlib inline"
   ]
  },
  {
   "cell_type": "markdown",
   "id": "50d4e21e-474f-4337-8f12-37f005f288ca",
   "metadata": {},
   "source": [
    "# Review - NN\n",
    "- Sequential fully connected Neural Networks\n",
    "- Configure input, hidden layers and output layers\n",
    "- Activation functions\n",
    "- Optimiser, loss and evaluation metrics in Supervised Learning with NN"
   ]
  },
  {
   "cell_type": "code",
   "execution_count": 2,
   "id": "e6a4048d-a8fd-4a97-9f07-97d062f294c8",
   "metadata": {},
   "outputs": [],
   "source": [
    "# Load data - only to read\n",
    "train_path = []\n",
    "label_train = []\n",
    "#path_train = \"data/fingers/train_small//\"\n",
    "path_train = \"data/fingers/train/\"\n",
    "\n",
    "for filename in os.listdir(path_train):\n",
    "    \n",
    "    train_path.append(path_train+filename)\n",
    "    whole_label = filename.split('_')[1]\n",
    "    useful_label = whole_label.split('.')[0]\n",
    "    label_train.append(useful_label)\n",
    "\n",
    "test_path = []\n",
    "label_test = []\n",
    "#path_test = \"data/fingers/test_small//\"\n",
    "path_test = \"data/fingers/test/\"\n",
    "\n",
    "for filename in os.listdir(path_test):\n",
    "    \n",
    "    test_path.append(path_test+filename)\n",
    "    whole_label = filename.split('_')[1]\n",
    "    useful_label = whole_label.split('.')[0]\n",
    "    label_test.append(useful_label)"
   ]
  },
  {
   "cell_type": "code",
   "execution_count": 29,
   "id": "1f3710fa",
   "metadata": {},
   "outputs": [
    {
     "data": {
      "text/plain": [
       "['0L',\n",
       " '0L',\n",
       " '2L',\n",
       " '0L',\n",
       " '5L',\n",
       " '5R',\n",
       " '2R',\n",
       " '2R',\n",
       " '3L',\n",
       " '0R',\n",
       " '4L',\n",
       " '2L',\n",
       " '0L',\n",
       " '1L',\n",
       " '2R',\n",
       " '3R',\n",
       " '0L',\n",
       " '3L',\n",
       " '5R',\n",
       " '5R',\n",
       " '4R',\n",
       " '0L',\n",
       " '2R',\n",
       " '2R',\n",
       " '0R',\n",
       " '5L',\n",
       " '0L',\n",
       " '0L',\n",
       " '3L',\n",
       " '3R',\n",
       " '2L',\n",
       " '1L',\n",
       " '0R',\n",
       " '0L',\n",
       " '5L',\n",
       " '4L',\n",
       " '1L',\n",
       " '0R',\n",
       " '4R',\n",
       " '4L',\n",
       " '5L',\n",
       " '1R',\n",
       " '2R',\n",
       " '2R',\n",
       " '5L',\n",
       " '3L',\n",
       " '3L',\n",
       " '4R',\n",
       " '5L',\n",
       " '3R',\n",
       " '2R',\n",
       " '2R',\n",
       " '2R',\n",
       " '2L',\n",
       " '5R',\n",
       " '0R',\n",
       " '5R',\n",
       " '5R',\n",
       " '2R',\n",
       " '2L',\n",
       " '4R',\n",
       " '3R',\n",
       " '5R',\n",
       " '0R',\n",
       " '0L',\n",
       " '4L',\n",
       " '1L',\n",
       " '0R',\n",
       " '2L',\n",
       " '0R',\n",
       " '1L',\n",
       " '5L',\n",
       " '0L',\n",
       " '4R',\n",
       " '2L',\n",
       " '3L',\n",
       " '1L',\n",
       " '0R',\n",
       " '3R',\n",
       " '2R',\n",
       " '2R',\n",
       " '0R',\n",
       " '1R',\n",
       " '0R',\n",
       " '5L',\n",
       " '1R',\n",
       " '1R',\n",
       " '1L',\n",
       " '2R',\n",
       " '2R',\n",
       " '1L',\n",
       " '2R',\n",
       " '2R',\n",
       " '5L',\n",
       " '3R',\n",
       " '4R',\n",
       " '1L',\n",
       " '0R',\n",
       " '5R',\n",
       " '2L',\n",
       " '1R',\n",
       " '5L',\n",
       " '5L',\n",
       " '5R',\n",
       " '2R',\n",
       " '4L',\n",
       " '2L',\n",
       " '4L',\n",
       " '0R',\n",
       " '2L',\n",
       " '5L',\n",
       " '3R',\n",
       " '3L',\n",
       " '1R',\n",
       " '1R',\n",
       " '1R',\n",
       " '5R',\n",
       " '1L',\n",
       " '4L',\n",
       " '4R',\n",
       " '0R',\n",
       " '4R',\n",
       " '3R',\n",
       " '2L',\n",
       " '5L',\n",
       " '2R',\n",
       " '1R',\n",
       " '2L',\n",
       " '3R',\n",
       " '2L',\n",
       " '2L',\n",
       " '1R',\n",
       " '4R',\n",
       " '5L',\n",
       " '3L',\n",
       " '1R',\n",
       " '1L',\n",
       " '4R',\n",
       " '2R',\n",
       " '5L',\n",
       " '2L',\n",
       " '0L',\n",
       " '4R',\n",
       " '1L',\n",
       " '0L',\n",
       " '1R',\n",
       " '5R',\n",
       " '2R',\n",
       " '4L',\n",
       " '2L',\n",
       " '5R',\n",
       " '4L',\n",
       " '1R',\n",
       " '3L',\n",
       " '1R',\n",
       " '2R',\n",
       " '1R',\n",
       " '0L',\n",
       " '5R',\n",
       " '4R',\n",
       " '5L',\n",
       " '0R',\n",
       " '0R',\n",
       " '0L',\n",
       " '5L',\n",
       " '1L',\n",
       " '0L',\n",
       " '1R',\n",
       " '5R',\n",
       " '4L',\n",
       " '1R',\n",
       " '0L',\n",
       " '4R',\n",
       " '2L',\n",
       " '3L',\n",
       " '5R',\n",
       " '4R',\n",
       " '0R',\n",
       " '0R',\n",
       " '5L',\n",
       " '2L',\n",
       " '3L',\n",
       " '1R',\n",
       " '3R',\n",
       " '0R',\n",
       " '0L',\n",
       " '0L',\n",
       " '0R',\n",
       " '5L',\n",
       " '1L',\n",
       " '2R',\n",
       " '4L',\n",
       " '0R',\n",
       " '4R',\n",
       " '1R',\n",
       " '3L',\n",
       " '1R',\n",
       " '2L',\n",
       " '3L',\n",
       " '0R',\n",
       " '3L',\n",
       " '0L',\n",
       " '5L',\n",
       " '3R',\n",
       " '4L',\n",
       " '2L',\n",
       " '1R',\n",
       " '4L',\n",
       " '4L',\n",
       " '0L',\n",
       " '0L',\n",
       " '0R',\n",
       " '5R',\n",
       " '3R',\n",
       " '1R',\n",
       " '2R',\n",
       " '4L',\n",
       " '5R',\n",
       " '4L',\n",
       " '4L',\n",
       " '0L',\n",
       " '4R',\n",
       " '3R',\n",
       " '3L',\n",
       " '4L',\n",
       " '1L',\n",
       " '2L',\n",
       " '3L',\n",
       " '2R',\n",
       " '0R',\n",
       " '3L',\n",
       " '4R',\n",
       " '5R',\n",
       " '4L',\n",
       " '0R',\n",
       " '3L',\n",
       " '3R',\n",
       " '5R',\n",
       " '4R',\n",
       " '5L',\n",
       " '2L',\n",
       " '3R',\n",
       " '4R',\n",
       " '5R',\n",
       " '3R',\n",
       " '5L',\n",
       " '0R',\n",
       " '3L',\n",
       " '5R',\n",
       " '2L',\n",
       " '0R',\n",
       " '3R',\n",
       " '0L',\n",
       " '3L',\n",
       " '2R',\n",
       " '2R',\n",
       " '5L',\n",
       " '3L',\n",
       " '2L',\n",
       " '3R',\n",
       " '5L',\n",
       " '2R',\n",
       " '4R',\n",
       " '0R',\n",
       " '3R',\n",
       " '5R',\n",
       " '2R',\n",
       " '2L',\n",
       " '1R',\n",
       " '5R',\n",
       " '4R',\n",
       " '2R',\n",
       " '2R',\n",
       " '3L',\n",
       " '3R',\n",
       " '3R',\n",
       " '4L',\n",
       " '3L',\n",
       " '3L',\n",
       " '4L',\n",
       " '1L',\n",
       " '3L',\n",
       " '1R',\n",
       " '1L',\n",
       " '3R',\n",
       " '3R',\n",
       " '2L',\n",
       " '3L',\n",
       " '2L',\n",
       " '0R',\n",
       " '2L',\n",
       " '2L',\n",
       " '4R',\n",
       " '2R',\n",
       " '1L',\n",
       " '4R',\n",
       " '0R',\n",
       " '5R',\n",
       " '3L',\n",
       " '0R',\n",
       " '4L',\n",
       " '3L',\n",
       " '0L',\n",
       " '3L',\n",
       " '4L',\n",
       " '5L',\n",
       " '5L',\n",
       " '5R',\n",
       " '3R',\n",
       " '4R',\n",
       " '2R',\n",
       " '1R',\n",
       " '0R',\n",
       " '0L',\n",
       " '2L',\n",
       " '3R',\n",
       " '2L',\n",
       " '0R',\n",
       " '4R',\n",
       " '1R',\n",
       " '1L',\n",
       " '1L',\n",
       " '0R',\n",
       " '0L',\n",
       " '0R',\n",
       " '1L',\n",
       " '4R',\n",
       " '4R',\n",
       " '0R',\n",
       " '0R',\n",
       " '3L',\n",
       " '1L',\n",
       " '2R',\n",
       " '2R',\n",
       " '3L',\n",
       " '0L',\n",
       " '5R',\n",
       " '3L',\n",
       " '1L',\n",
       " '4L',\n",
       " '5R',\n",
       " '1R',\n",
       " '2L',\n",
       " '3R',\n",
       " '0L',\n",
       " '1R',\n",
       " '3R',\n",
       " '2L',\n",
       " '1L',\n",
       " '3R',\n",
       " '4R',\n",
       " '5R',\n",
       " '0R',\n",
       " '5R',\n",
       " '2L',\n",
       " '2R',\n",
       " '4L',\n",
       " '1R',\n",
       " '1L',\n",
       " '1R',\n",
       " '5L',\n",
       " '2R',\n",
       " '3R',\n",
       " '5R',\n",
       " '2R',\n",
       " '5R',\n",
       " '3R',\n",
       " '1R',\n",
       " '5R',\n",
       " '3R',\n",
       " '4R',\n",
       " '4R',\n",
       " '3R',\n",
       " '5L',\n",
       " '4L',\n",
       " '3R',\n",
       " '3L',\n",
       " '2R',\n",
       " '5R',\n",
       " '4R',\n",
       " '0R',\n",
       " '5R',\n",
       " '4L',\n",
       " '2L',\n",
       " '5L',\n",
       " '0R',\n",
       " '2L',\n",
       " '1R',\n",
       " '5L',\n",
       " '3L',\n",
       " '5R',\n",
       " '2R',\n",
       " '4L',\n",
       " '1L',\n",
       " '1R',\n",
       " '5R',\n",
       " '2R',\n",
       " '1L',\n",
       " '0R',\n",
       " '2L',\n",
       " '4L',\n",
       " '0R',\n",
       " '4L',\n",
       " '5L',\n",
       " '2R',\n",
       " '1L',\n",
       " '1R',\n",
       " '0R',\n",
       " '1R',\n",
       " '1R',\n",
       " '4L',\n",
       " '2R',\n",
       " '5L',\n",
       " '5L',\n",
       " '0L',\n",
       " '0L',\n",
       " '0R',\n",
       " '4L',\n",
       " '0L',\n",
       " '4R',\n",
       " '2L',\n",
       " '5R',\n",
       " '4R',\n",
       " '1R',\n",
       " '4R',\n",
       " '3L',\n",
       " '5L',\n",
       " '1L',\n",
       " '3L',\n",
       " '1L',\n",
       " '4R',\n",
       " '3R',\n",
       " '4L',\n",
       " '3L',\n",
       " '4R',\n",
       " '2R',\n",
       " '0L',\n",
       " '4L',\n",
       " '4L',\n",
       " '4L',\n",
       " '5L',\n",
       " '0L',\n",
       " '3R',\n",
       " '3R',\n",
       " '2R',\n",
       " '4L',\n",
       " '1R',\n",
       " '2R',\n",
       " '5L',\n",
       " '5L',\n",
       " '5R',\n",
       " '5L',\n",
       " '1L',\n",
       " '2R',\n",
       " '1L',\n",
       " '3R',\n",
       " '5L',\n",
       " '2L',\n",
       " '0L',\n",
       " '0L',\n",
       " '3L',\n",
       " '2L',\n",
       " '2L',\n",
       " '2R',\n",
       " '3L',\n",
       " '4R',\n",
       " '5R',\n",
       " '0R',\n",
       " '1R',\n",
       " '2R',\n",
       " '0L',\n",
       " '0L',\n",
       " '3R',\n",
       " '5L',\n",
       " '4L',\n",
       " '2R',\n",
       " '0R',\n",
       " '4R',\n",
       " '2R',\n",
       " '1L',\n",
       " '3R',\n",
       " '1R',\n",
       " '4R',\n",
       " '5R',\n",
       " '1L',\n",
       " '2L',\n",
       " '4R',\n",
       " '5L',\n",
       " '4L',\n",
       " '3R',\n",
       " '0L',\n",
       " '4R',\n",
       " '2R',\n",
       " '4L',\n",
       " '0L',\n",
       " '3R',\n",
       " '4L',\n",
       " '2R',\n",
       " '1R',\n",
       " '2L',\n",
       " '0R',\n",
       " '5R',\n",
       " '2L',\n",
       " '1L',\n",
       " '4L',\n",
       " '5R',\n",
       " '3L',\n",
       " '1L',\n",
       " '2L',\n",
       " '1R',\n",
       " '5R',\n",
       " '3R',\n",
       " '4L',\n",
       " '5R',\n",
       " '3L',\n",
       " '2L',\n",
       " '3R',\n",
       " '0R',\n",
       " '0L',\n",
       " '0L',\n",
       " '5L',\n",
       " '1L',\n",
       " '5L',\n",
       " '1R',\n",
       " '0L',\n",
       " '3L',\n",
       " '5R',\n",
       " '2R',\n",
       " '4R',\n",
       " '2L',\n",
       " '4R',\n",
       " '0L',\n",
       " '5R',\n",
       " '5R',\n",
       " '3R',\n",
       " '5R',\n",
       " '1L',\n",
       " '5L',\n",
       " '4R',\n",
       " '1R',\n",
       " '2R',\n",
       " '3R',\n",
       " '0L',\n",
       " '0L',\n",
       " '0L',\n",
       " '1R',\n",
       " '5R',\n",
       " '1R',\n",
       " '2R',\n",
       " '5L',\n",
       " '4L',\n",
       " '1L',\n",
       " '0L',\n",
       " '0R',\n",
       " '5L',\n",
       " '5L',\n",
       " '3L',\n",
       " '4R',\n",
       " '4R',\n",
       " '0R',\n",
       " '5L',\n",
       " '4L',\n",
       " '2R',\n",
       " '2R',\n",
       " '0L',\n",
       " '3L',\n",
       " '5L',\n",
       " '1L',\n",
       " '5R',\n",
       " '5R',\n",
       " '5L',\n",
       " '4L',\n",
       " '4L',\n",
       " '2L',\n",
       " '3R',\n",
       " '5R',\n",
       " '0L',\n",
       " '4R',\n",
       " '1L',\n",
       " '2L',\n",
       " '1R',\n",
       " '1R',\n",
       " '2R',\n",
       " '2R',\n",
       " '1R',\n",
       " '5R',\n",
       " '1R',\n",
       " '0R',\n",
       " '4R',\n",
       " '2R',\n",
       " '3L',\n",
       " '4L',\n",
       " '4L',\n",
       " '4R',\n",
       " '4R',\n",
       " '0R',\n",
       " '4R',\n",
       " '0R',\n",
       " '1L',\n",
       " '1R',\n",
       " '1L',\n",
       " '2R',\n",
       " '1R',\n",
       " '1L',\n",
       " '3L',\n",
       " '4L',\n",
       " '1R',\n",
       " '2L',\n",
       " '1L',\n",
       " '2L',\n",
       " '2R',\n",
       " '3L',\n",
       " '5R',\n",
       " '4R',\n",
       " '0R',\n",
       " '1R',\n",
       " '5L',\n",
       " '5L',\n",
       " '4R',\n",
       " '1L',\n",
       " '3L',\n",
       " '3L',\n",
       " '4L',\n",
       " '0L',\n",
       " '2L',\n",
       " '5R',\n",
       " '4L',\n",
       " '2L',\n",
       " '2R',\n",
       " '3L',\n",
       " '5L',\n",
       " '3R',\n",
       " '1R',\n",
       " '3R',\n",
       " '0L',\n",
       " '5R',\n",
       " '1R',\n",
       " '2R',\n",
       " '1L',\n",
       " '1R',\n",
       " '4R',\n",
       " '5R',\n",
       " '1R',\n",
       " '5L',\n",
       " '3R',\n",
       " '0L',\n",
       " '3L',\n",
       " '2L',\n",
       " '5L',\n",
       " '4R',\n",
       " '1L',\n",
       " '2R',\n",
       " '1L',\n",
       " '4L',\n",
       " '0R',\n",
       " '3R',\n",
       " '1L',\n",
       " '2R',\n",
       " '4R',\n",
       " '1R',\n",
       " '4L',\n",
       " '5L',\n",
       " '0R',\n",
       " '3R',\n",
       " '2R',\n",
       " '4L',\n",
       " '1R',\n",
       " '4L',\n",
       " '2R',\n",
       " '1L',\n",
       " '2L',\n",
       " '5R',\n",
       " '1L',\n",
       " '5L',\n",
       " '2R',\n",
       " '0L',\n",
       " '2R',\n",
       " '1L',\n",
       " '0R',\n",
       " '2L',\n",
       " '1L',\n",
       " '0R',\n",
       " '1L',\n",
       " '1R',\n",
       " '1R',\n",
       " '1L',\n",
       " '2L',\n",
       " '3L',\n",
       " '1R',\n",
       " '3R',\n",
       " '1L',\n",
       " '2R',\n",
       " '2L',\n",
       " '3R',\n",
       " '5R',\n",
       " '3L',\n",
       " '2R',\n",
       " '0R',\n",
       " '5R',\n",
       " '0L',\n",
       " '4R',\n",
       " '1R',\n",
       " '0R',\n",
       " '1R',\n",
       " '2R',\n",
       " '4L',\n",
       " '1L',\n",
       " '3L',\n",
       " '3L',\n",
       " '2L',\n",
       " '1R',\n",
       " '2R',\n",
       " '0L',\n",
       " '0R',\n",
       " '2L',\n",
       " '5L',\n",
       " '1L',\n",
       " '4L',\n",
       " '4R',\n",
       " '3R',\n",
       " '2L',\n",
       " '2R',\n",
       " '1L',\n",
       " '4L',\n",
       " '0L',\n",
       " '4L',\n",
       " '2R',\n",
       " '1L',\n",
       " '2L',\n",
       " '2R',\n",
       " '4L',\n",
       " '0L',\n",
       " '2R',\n",
       " '0R',\n",
       " '3R',\n",
       " '4L',\n",
       " '3R',\n",
       " '3L',\n",
       " '0L',\n",
       " '4R',\n",
       " '3L',\n",
       " '4L',\n",
       " '1L',\n",
       " '4L',\n",
       " '3R',\n",
       " '4L',\n",
       " '5R',\n",
       " '2L',\n",
       " '2R',\n",
       " '0R',\n",
       " '2L',\n",
       " '4R',\n",
       " '0L',\n",
       " '1R',\n",
       " '5R',\n",
       " '1L',\n",
       " '4L',\n",
       " '2R',\n",
       " '3L',\n",
       " '1L',\n",
       " '2R',\n",
       " '1L',\n",
       " '4R',\n",
       " '0L',\n",
       " '1L',\n",
       " '1R',\n",
       " '3L',\n",
       " '4L',\n",
       " '1L',\n",
       " '2L',\n",
       " '4L',\n",
       " '0R',\n",
       " '5R',\n",
       " '3R',\n",
       " '0R',\n",
       " '5R',\n",
       " '3R',\n",
       " '5L',\n",
       " '0L',\n",
       " '1R',\n",
       " '1L',\n",
       " '1R',\n",
       " '2L',\n",
       " '4R',\n",
       " '1L',\n",
       " '1L',\n",
       " '5R',\n",
       " '4R',\n",
       " '1L',\n",
       " '5L',\n",
       " '4R',\n",
       " '5R',\n",
       " '3R',\n",
       " '3L',\n",
       " '4L',\n",
       " '4L',\n",
       " '4L',\n",
       " '5L',\n",
       " '3L',\n",
       " '1R',\n",
       " '4L',\n",
       " '1L',\n",
       " '4R',\n",
       " '0R',\n",
       " '0R',\n",
       " '4L',\n",
       " '4R',\n",
       " '2R',\n",
       " '5L',\n",
       " '5L',\n",
       " '3L',\n",
       " '2R',\n",
       " '5R',\n",
       " '2R',\n",
       " '1R',\n",
       " '3R',\n",
       " '3L',\n",
       " '3L',\n",
       " '3L',\n",
       " '5R',\n",
       " '4L',\n",
       " '0R',\n",
       " '2R',\n",
       " '4R',\n",
       " '5L',\n",
       " '3L',\n",
       " '3R',\n",
       " '3R',\n",
       " '0R',\n",
       " '2R',\n",
       " '4R',\n",
       " '5R',\n",
       " '3L',\n",
       " '2R',\n",
       " '2L',\n",
       " '1L',\n",
       " '2L',\n",
       " '3L',\n",
       " '5R',\n",
       " '0R',\n",
       " '0R',\n",
       " '1R',\n",
       " '2L',\n",
       " '2L',\n",
       " '0R',\n",
       " '4L',\n",
       " '0L',\n",
       " '0L',\n",
       " '2R',\n",
       " '0R',\n",
       " '3R',\n",
       " '1R',\n",
       " '2R',\n",
       " '3R',\n",
       " '1L',\n",
       " '0R',\n",
       " '5R',\n",
       " '4R',\n",
       " '0R',\n",
       " '0R',\n",
       " '3L',\n",
       " '5L',\n",
       " '2R',\n",
       " '3R',\n",
       " '2R',\n",
       " '3R',\n",
       " '3L',\n",
       " '1R',\n",
       " '3L',\n",
       " '3R',\n",
       " '4L',\n",
       " '2L',\n",
       " '5R',\n",
       " '0L',\n",
       " '3R',\n",
       " '0R',\n",
       " '3L',\n",
       " '0L',\n",
       " '4R',\n",
       " '2L',\n",
       " '1L',\n",
       " '3L',\n",
       " '5R',\n",
       " '5R',\n",
       " '1R',\n",
       " '1R',\n",
       " '5R',\n",
       " '4R',\n",
       " '2R',\n",
       " '2R',\n",
       " '0L',\n",
       " '2L',\n",
       " '0R',\n",
       " '3R',\n",
       " '1R',\n",
       " '5R',\n",
       " '4R',\n",
       " '5R',\n",
       " '5L',\n",
       " '4R',\n",
       " '5L',\n",
       " '4L',\n",
       " '0R',\n",
       " '0L',\n",
       " '4L',\n",
       " '0L',\n",
       " '4R',\n",
       " '4R',\n",
       " '3L',\n",
       " '1R',\n",
       " '5L',\n",
       " '1R',\n",
       " '5R',\n",
       " '5R',\n",
       " '5R',\n",
       " '2L',\n",
       " '0L',\n",
       " '4L',\n",
       " '0R',\n",
       " '4L',\n",
       " '4L',\n",
       " '4L',\n",
       " '2R',\n",
       " '5L',\n",
       " '5R',\n",
       " '3L',\n",
       " '1L',\n",
       " '1R',\n",
       " '4R',\n",
       " '3R',\n",
       " '4R',\n",
       " '1L',\n",
       " '3R',\n",
       " '0R',\n",
       " '0R',\n",
       " '5R',\n",
       " '0R',\n",
       " '3R',\n",
       " '1L',\n",
       " '0R',\n",
       " '1L',\n",
       " '5R',\n",
       " '2R',\n",
       " '5R',\n",
       " '4R',\n",
       " '5R',\n",
       " '3R',\n",
       " '1R',\n",
       " '1L',\n",
       " '3R',\n",
       " '0R',\n",
       " '3L',\n",
       " '2L',\n",
       " '3R',\n",
       " '2L',\n",
       " '0L',\n",
       " '3L',\n",
       " '4L',\n",
       " '3L',\n",
       " '4L',\n",
       " '0R',\n",
       " '0L',\n",
       " '2L',\n",
       " '2L',\n",
       " '3R',\n",
       " '2R',\n",
       " '1L',\n",
       " '3L',\n",
       " '0L',\n",
       " '1R',\n",
       " '1L',\n",
       " '4L',\n",
       " '3R',\n",
       " '0R',\n",
       " '3R',\n",
       " '2L',\n",
       " '4R',\n",
       " '1R',\n",
       " '3L',\n",
       " '2L',\n",
       " '4R',\n",
       " '4L',\n",
       " '2R',\n",
       " '2R',\n",
       " '0L',\n",
       " '2R',\n",
       " '0L',\n",
       " '5L',\n",
       " '1L',\n",
       " '1L',\n",
       " '3L',\n",
       " '2R',\n",
       " '4R',\n",
       " '3R',\n",
       " '1R',\n",
       " '3L',\n",
       " '3L',\n",
       " '0L',\n",
       " '2L',\n",
       " '4R',\n",
       " ...]"
      ]
     },
     "execution_count": 29,
     "metadata": {},
     "output_type": "execute_result"
    }
   ],
   "source": [
    "label_train"
   ]
  },
  {
   "cell_type": "code",
   "execution_count": 31,
   "id": "a212814d",
   "metadata": {},
   "outputs": [
    {
     "data": {
      "text/plain": [
       "array(['0L', '0R', '1L', '1R', '2L', '2R', '3L', '3R', '4L', '4R', '5L',\n",
       "       '5R'], dtype='<U2')"
      ]
     },
     "execution_count": 31,
     "metadata": {},
     "output_type": "execute_result"
    }
   ],
   "source": [
    "np.unique(label_train)"
   ]
  },
  {
   "cell_type": "code",
   "execution_count": 39,
   "id": "d3d7588c",
   "metadata": {},
   "outputs": [
    {
     "data": {
      "text/plain": [
       "<seaborn.axisgrid.FacetGrid at 0x1d04fce5e50>"
      ]
     },
     "execution_count": 39,
     "metadata": {},
     "output_type": "execute_result"
    },
    {
     "data": {
      "image/png": "[encoded data removed]",
      "text/plain": [
       "<Figure size 500x500 with 1 Axes>"
      ]
     },
     "metadata": {},
     "output_type": "display_data"
    }
   ],
   "source": [
    "sns.displot(label_train)"
   ]
  },
  {
   "cell_type": "markdown",
   "id": "ee7c82f5",
   "metadata": {},
   "source": [
    "I have a uniform distribution of the different classes, so I will assume also a uniform distribution in the test set."
   ]
  },
  {
   "cell_type": "code",
   "execution_count": 4,
   "id": "7622d2ba-d8e9-43cb-91f4-f60994737a90",
   "metadata": {},
   "outputs": [
    {
     "data": {
      "image/png": "[encoded data removed]",
      "text/plain": [
       "<Figure size 640x480 with 1 Axes>"
      ]
     },
     "metadata": {},
     "output_type": "display_data"
    }
   ],
   "source": [
    "# Have a look at a few examples e.g., change the number in train_path[NUMBER]\n",
    "img = Image.open(train_path[2]) # img = plt.imread(train_path[2]) also works\n",
    "#img = plt.imread(train_path[2])\n",
    "\n",
    "plt.imshow(img, cmap='Greys');"
   ]
  },
  {
   "cell_type": "code",
   "execution_count": 5,
   "id": "ecf00edf-0267-4eb3-b8d3-d53f19e8c25d",
   "metadata": {},
   "outputs": [],
   "source": [
    "# NOTE: this cell takes some time running\n",
    "# Prepare the data for the model - only to read\n",
    "# resize images (all need to be the same size) and flatten images to be used by a NN model\n",
    "\n",
    "X_train = []\n",
    "X_test = []\n",
    "\n",
    "# reading images for train data\n",
    "for path in train_path:\n",
    "    if path == \".DS_Store\":continue\n",
    "    image = Image.open(path)\n",
    "    image =  image.resize((50,50))\n",
    "    X_train.append(image)\n",
    "    \n",
    "# reading images for test data\n",
    "for path in test_path:\n",
    "    if path == \".DS_Store\":continue\n",
    "    image = Image.open(path)\n",
    "    image =  image.resize((50,50))\n",
    "    X_test.append(image)\n",
    "\n",
    "X_test = np.array(X_test)\n",
    "X_train = np.array(X_train)"
   ]
  },
  {
   "cell_type": "code",
   "execution_count": 6,
   "id": "bce26622-2183-4b8d-ad81-c83b91b358de",
   "metadata": {},
   "outputs": [
    {
     "name": "stdout",
     "output_type": "stream",
     "text": [
      "Shape of X_train:  (18000, 50, 50)\n",
      "Shape of X_test:  (149, 50, 50)\n"
     ]
    }
   ],
   "source": [
    "print(\"Shape of X_train: \", X_train.shape)\n",
    "print(\"Shape of X_test: \", X_test.shape)"
   ]
  },
  {
   "cell_type": "code",
   "execution_count": null,
   "id": "e2bb8909-faf1-411c-87af-f9ad6a859968",
   "metadata": {},
   "outputs": [],
   "source": [
    "# Flatten images to be used by NN model\n",
    "X_train = X_train.astype('float32')\n",
    "X_test = X_test.astype('float32')\n",
    "\n",
    "X_train /= 255 #divides values by 255\n",
    "X_test /= 255"
   ]
  },
  {
   "cell_type": "code",
   "execution_count": null,
   "id": "e82dacc6",
   "metadata": {},
   "outputs": [],
   "source": []
  },
  {
   "cell_type": "code",
   "execution_count": 8,
   "id": "b2d66ee8-c037-4dc3-9a5f-6403c33aa1a3",
   "metadata": {},
   "outputs": [
    {
     "name": "stdout",
     "output_type": "stream",
     "text": [
      "Categorical values for y_train: [[1. 0. 0. ... 0. 0. 0.]\n",
      " [1. 0. 0. ... 0. 0. 0.]\n",
      " [0. 0. 0. ... 0. 0. 0.]\n",
      " ...\n",
      " [0. 1. 0. ... 0. 0. 0.]\n",
      " [0. 0. 0. ... 0. 0. 0.]\n",
      " [0. 0. 0. ... 0. 0. 0.]]\n",
      "Categorical values for y_test: [[0. 1. 0. ... 0. 0. 0.]\n",
      " [0. 0. 1. ... 0. 0. 0.]\n",
      " [0. 0. 0. ... 0. 0. 0.]\n",
      " ...\n",
      " [0. 1. 0. ... 0. 0. 0.]\n",
      " [0. 0. 0. ... 1. 0. 0.]\n",
      " [1. 0. 0. ... 0. 0. 0.]]\n"
     ]
    }
   ],
   "source": [
    "# Prepare the target variable - only to read\n",
    "import keras\n",
    "\n",
    "lable_encoder = preprocessing.LabelEncoder()\n",
    "y_train_temp = lable_encoder.fit_transform(label_train)\n",
    "y_test_temp = lable_encoder.fit_transform(label_test)\n",
    "\n",
    "y_train = keras.utils.to_categorical(y_train_temp, 12)\n",
    "y_test = keras.utils.to_categorical(y_test_temp, 12)\n",
    "\n",
    "print(\"Categorical values for y_train:\", y_train)\n",
    "print(\"Categorical values for y_test:\", y_test)"
   ]
  },
  {
   "cell_type": "code",
   "execution_count": 34,
   "id": "6587f50a",
   "metadata": {},
   "outputs": [
    {
     "name": "stdout",
     "output_type": "stream",
     "text": [
      "[0 0 4]\n",
      "['0L', '0L', '2L']\n"
     ]
    }
   ],
   "source": [
    "print(y_train_temp[:3])\n",
    "print(label_train[:3])\n"
   ]
  },
  {
   "cell_type": "code",
   "execution_count": 13,
   "id": "35a192e5",
   "metadata": {},
   "outputs": [
    {
     "data": {
      "text/plain": [
       "(18000, 12)"
      ]
     },
     "execution_count": 13,
     "metadata": {},
     "output_type": "execute_result"
    }
   ],
   "source": [
    "y_train.shape"
   ]
  },
  {
   "cell_type": "code",
   "execution_count": 15,
   "id": "f16d1b84",
   "metadata": {},
   "outputs": [
    {
     "data": {
      "text/plain": [
       "array([[1., 0., 0., 0., 0., 0., 0., 0., 0., 0., 0., 0.],\n",
       "       [1., 0., 0., 0., 0., 0., 0., 0., 0., 0., 0., 0.],\n",
       "       [0., 0., 0., 0., 1., 0., 0., 0., 0., 0., 0., 0.]])"
      ]
     },
     "execution_count": 15,
     "metadata": {},
     "output_type": "execute_result"
    }
   ],
   "source": [
    "y_train[:3]"
   ]
  },
  {
   "cell_type": "code",
   "execution_count": 9,
   "id": "a9d0e210-4a5e-4d4b-a0ef-dc4832291d97",
   "metadata": {},
   "outputs": [
    {
     "data": {
      "text/plain": [
       "((18000, 50, 50), (149, 50, 50))"
      ]
     },
     "execution_count": 9,
     "metadata": {},
     "output_type": "execute_result"
    }
   ],
   "source": [
    "# Number of images and width/height per X_train and X_test\n",
    "X_train.shape, X_test.shape"
   ]
  },
  {
   "cell_type": "code",
   "execution_count": null,
   "id": "20a682d2-a326-4281-b204-62c991ba5888",
   "metadata": {},
   "outputs": [],
   "source": [
    "# images dimension\n",
    "50*50"
   ]
  },
  {
   "cell_type": "code",
   "execution_count": 10,
   "id": "44c4cf80-c819-4b86-9df1-c6f9fb1c55e0",
   "metadata": {},
   "outputs": [
    {
     "data": {
      "text/plain": [
       "12"
      ]
     },
     "execution_count": 10,
     "metadata": {},
     "output_type": "execute_result"
    }
   ],
   "source": [
    "# Number of unique values i\n",
    "len(np.unique(np.array(label_train)))"
   ]
  },
  {
   "cell_type": "code",
   "execution_count": 12,
   "id": "1ce8e645-0f2a-4614-83ff-820a45a82043",
   "metadata": {},
   "outputs": [],
   "source": [
    "# Flatten your images to be represented by combination of all pixels, 50*50=2500\n",
    "X_train = X_train.reshape(18000, 2500).astype('float32')\n",
    "X_test = X_test.reshape(149, 2500).astype('float32')"
   ]
  },
  {
   "cell_type": "markdown",
   "id": "3d559946-64ea-46e5-a5f3-92ec96217d81",
   "metadata": {},
   "source": [
    "#### **Q1.** Build a sequential model \n",
    "    - For the input layer use the input dimension with the feature dimensions (from your train/test data)\n",
    "    - Use activation function relu\n",
    "    - For output layer use activation function sigmoid\n",
    "    - For the first hidden layer use 64 nodes, and have a second hidden layer with 32 nodes"
   ]
  },
  {
   "cell_type": "code",
   "execution_count": 16,
   "id": "e217b15e-fb65-46fa-8503-1b241bc6c260",
   "metadata": {},
   "outputs": [],
   "source": [
    "# TODO - Build a sequential model \n",
    "from keras.models import Sequential\n",
    "from keras.layers import Dense,Input\n",
    "\n",
    "model = Sequential()\n",
    "model.add(Input((2500,)))\n",
    "model.add(Dense(64, activation=\"relu\"))\n",
    "model.add(Dense(32, activation=\"relu\"))\n",
    "model.add(Dense(12, activation=\"softmax\")) #I'm using softmax because we have a multiclass model."
   ]
  },
  {
   "cell_type": "markdown",
   "id": "63107e3f-36f7-41d4-a5c8-8481e8a28e0c",
   "metadata": {},
   "source": [
    "#### **Q2.** Check the amount of parameters, traininable- and non- parameters your NN achitecture has \n",
    "    - Comment on what you see"
   ]
  },
  {
   "cell_type": "code",
   "execution_count": 18,
   "id": "84265184-adaf-435e-bf48-39e2be927384",
   "metadata": {},
   "outputs": [
    {
     "data": {
      "text/html": [
       "<pre style=\"white-space:pre;overflow-x:auto;line-height:normal;font-family:Menlo,'DejaVu Sans Mono',consolas,'Courier New',monospace\"><span style=\"font-weight: bold\">Model: \"sequential\"</span>\n",
       "</pre>\n"
      ],
      "text/plain": [
       "\u001b[1mModel: \"sequential\"\u001b[0m\n"
      ]
     },
     "metadata": {},
     "output_type": "display_data"
    },
    {
     "data": {
      "text/html": [
       "<pre style=\"white-space:pre;overflow-x:auto;line-height:normal;font-family:Menlo,'DejaVu Sans Mono',consolas,'Courier New',monospace\">┏━━━━━━━━━━━━━━━━━━━━━━━━━━━━━━━━━┳━━━━━━━━━━━━━━━━━━━━━━━━┳━━━━━━━━━━━━━━━┓\n",
       "┃<span style=\"font-weight: bold\"> Layer (type)                    </span>┃<span style=\"font-weight: bold\"> Output Shape           </span>┃<span style=\"font-weight: bold\">       Param # </span>┃\n",
       "┡━━━━━━━━━━━━━━━━━━━━━━━━━━━━━━━━━╇━━━━━━━━━━━━━━━━━━━━━━━━╇━━━━━━━━━━━━━━━┩\n",
       "│ dense (<span style=\"color: #0087ff; text-decoration-color: #0087ff\">Dense</span>)                   │ (<span style=\"color: #00d7ff; text-decoration-color: #00d7ff\">None</span>, <span style=\"color: #00af00; text-decoration-color: #00af00\">64</span>)             │       <span style=\"color: #00af00; text-decoration-color: #00af00\">160,064</span> │\n",
       "├─────────────────────────────────┼────────────────────────┼───────────────┤\n",
       "│ dense_1 (<span style=\"color: #0087ff; text-decoration-color: #0087ff\">Dense</span>)                 │ (<span style=\"color: #00d7ff; text-decoration-color: #00d7ff\">None</span>, <span style=\"color: #00af00; text-decoration-color: #00af00\">32</span>)             │         <span style=\"color: #00af00; text-decoration-color: #00af00\">2,080</span> │\n",
       "├─────────────────────────────────┼────────────────────────┼───────────────┤\n",
       "│ dense_2 (<span style=\"color: #0087ff; text-decoration-color: #0087ff\">Dense</span>)                 │ (<span style=\"color: #00d7ff; text-decoration-color: #00d7ff\">None</span>, <span style=\"color: #00af00; text-decoration-color: #00af00\">12</span>)             │           <span style=\"color: #00af00; text-decoration-color: #00af00\">396</span> │\n",
       "└─────────────────────────────────┴────────────────────────┴───────────────┘\n",
       "</pre>\n"
      ],
      "text/plain": [
       "┏━━━━━━━━━━━━━━━━━━━━━━━━━━━━━━━━━┳━━━━━━━━━━━━━━━━━━━━━━━━┳━━━━━━━━━━━━━━━┓\n",
       "┃\u001b[1m \u001b[0m\u001b[1mLayer (type)                   \u001b[0m\u001b[1m \u001b[0m┃\u001b[1m \u001b[0m\u001b[1mOutput Shape          \u001b[0m\u001b[1m \u001b[0m┃\u001b[1m \u001b[0m\u001b[1m      Param #\u001b[0m\u001b[1m \u001b[0m┃\n",
       "┡━━━━━━━━━━━━━━━━━━━━━━━━━━━━━━━━━╇━━━━━━━━━━━━━━━━━━━━━━━━╇━━━━━━━━━━━━━━━┩\n",
       "│ dense (\u001b[38;5;33mDense\u001b[0m)                   │ (\u001b[38;5;45mNone\u001b[0m, \u001b[38;5;34m64\u001b[0m)             │       \u001b[38;5;34m160,064\u001b[0m │\n",
       "├─────────────────────────────────┼────────────────────────┼───────────────┤\n",
       "│ dense_1 (\u001b[38;5;33mDense\u001b[0m)                 │ (\u001b[38;5;45mNone\u001b[0m, \u001b[38;5;34m32\u001b[0m)             │         \u001b[38;5;34m2,080\u001b[0m │\n",
       "├─────────────────────────────────┼────────────────────────┼───────────────┤\n",
       "│ dense_2 (\u001b[38;5;33mDense\u001b[0m)                 │ (\u001b[38;5;45mNone\u001b[0m, \u001b[38;5;34m12\u001b[0m)             │           \u001b[38;5;34m396\u001b[0m │\n",
       "└─────────────────────────────────┴────────────────────────┴───────────────┘\n"
      ]
     },
     "metadata": {},
     "output_type": "display_data"
    },
    {
     "data": {
      "text/html": [
       "<pre style=\"white-space:pre;overflow-x:auto;line-height:normal;font-family:Menlo,'DejaVu Sans Mono',consolas,'Courier New',monospace\"><span style=\"font-weight: bold\"> Total params: </span><span style=\"color: #00af00; text-decoration-color: #00af00\">162,540</span> (634.92 KB)\n",
       "</pre>\n"
      ],
      "text/plain": [
       "\u001b[1m Total params: \u001b[0m\u001b[38;5;34m162,540\u001b[0m (634.92 KB)\n"
      ]
     },
     "metadata": {},
     "output_type": "display_data"
    },
    {
     "data": {
      "text/html": [
       "<pre style=\"white-space:pre;overflow-x:auto;line-height:normal;font-family:Menlo,'DejaVu Sans Mono',consolas,'Courier New',monospace\"><span style=\"font-weight: bold\"> Trainable params: </span><span style=\"color: #00af00; text-decoration-color: #00af00\">162,540</span> (634.92 KB)\n",
       "</pre>\n"
      ],
      "text/plain": [
       "\u001b[1m Trainable params: \u001b[0m\u001b[38;5;34m162,540\u001b[0m (634.92 KB)\n"
      ]
     },
     "metadata": {},
     "output_type": "display_data"
    },
    {
     "data": {
      "text/html": [
       "<pre style=\"white-space:pre;overflow-x:auto;line-height:normal;font-family:Menlo,'DejaVu Sans Mono',consolas,'Courier New',monospace\"><span style=\"font-weight: bold\"> Non-trainable params: </span><span style=\"color: #00af00; text-decoration-color: #00af00\">0</span> (0.00 B)\n",
       "</pre>\n"
      ],
      "text/plain": [
       "\u001b[1m Non-trainable params: \u001b[0m\u001b[38;5;34m0\u001b[0m (0.00 B)\n"
      ]
     },
     "metadata": {},
     "output_type": "display_data"
    }
   ],
   "source": [
    "# TODO - Check the amount of parameters, traininable- and non- parameters your NN achitecture has \n",
    "model.summary()"
   ]
  },
  {
   "cell_type": "markdown",
   "id": "d4ebc8c2-66fb-4e76-a521-455294736bc1",
   "metadata": {},
   "source": [
    "#### **Q3.** Prepare your model\n",
    "    - Use binary_crossentropy as a loss function\n",
    "    - Stochastic Gradient Descent for optimiser\n",
    "    - Precision for evaluation metric"
   ]
  },
  {
   "cell_type": "code",
   "execution_count": 20,
   "id": "ee48fa3f-e4d6-4b5a-85eb-ea30697b3d8e",
   "metadata": {},
   "outputs": [],
   "source": [
    "# TODO - compile the keras model\n",
    "model.compile(optimizer=\"SGD\", loss=\"categorical_crossentropy\", metrics=[\"precision\"]) #I'm choosing categorical_crossentropy because we have more than 2 categories.\n"
   ]
  },
  {
   "cell_type": "markdown",
   "id": "c9915667-3562-40b8-9f0e-d60dec0fffcc",
   "metadata": {},
   "source": [
    "#### **Q4.** Train the model\n",
    "    - Configure to run up to 150 epochs and use batch size of 10"
   ]
  },
  {
   "cell_type": "code",
   "execution_count": 22,
   "id": "5d8fc8ba-806b-417d-b3c4-d79d6f23acf4",
   "metadata": {
    "scrolled": true
   },
   "outputs": [
    {
     "name": "stdout",
     "output_type": "stream",
     "text": [
      "Epoch 1/150\n",
      "\u001b[1m1440/1440\u001b[0m \u001b[32m━━━━━━━━━━━━━━━━━━━━\u001b[0m\u001b[37m\u001b[0m \u001b[1m3s\u001b[0m 2ms/step - loss: 5.3402e-04 - precision: 1.0000 - val_loss: 7.7266e-04 - val_precision: 1.0000\n",
      "Epoch 2/150\n",
      "\u001b[1m1440/1440\u001b[0m \u001b[32m━━━━━━━━━━━━━━━━━━━━\u001b[0m\u001b[37m\u001b[0m \u001b[1m2s\u001b[0m 2ms/step - loss: 5.8892e-04 - precision: 1.0000 - val_loss: 7.5271e-04 - val_precision: 1.0000\n",
      "Epoch 3/150\n",
      "\u001b[1m1440/1440\u001b[0m \u001b[32m━━━━━━━━━━━━━━━━━━━━\u001b[0m\u001b[37m\u001b[0m \u001b[1m2s\u001b[0m 1ms/step - loss: 5.1750e-04 - precision: 1.0000 - val_loss: 7.2604e-04 - val_precision: 1.0000\n",
      "Epoch 4/150\n",
      "\u001b[1m1440/1440\u001b[0m \u001b[32m━━━━━━━━━━━━━━━━━━━━\u001b[0m\u001b[37m\u001b[0m \u001b[1m2s\u001b[0m 2ms/step - loss: 5.1163e-04 - precision: 1.0000 - val_loss: 7.1567e-04 - val_precision: 1.0000\n",
      "Epoch 5/150\n",
      "\u001b[1m1440/1440\u001b[0m \u001b[32m━━━━━━━━━━━━━━━━━━━━\u001b[0m\u001b[37m\u001b[0m \u001b[1m2s\u001b[0m 2ms/step - loss: 5.1870e-04 - precision: 1.0000 - val_loss: 7.1185e-04 - val_precision: 1.0000\n",
      "Epoch 6/150\n",
      "\u001b[1m1440/1440\u001b[0m \u001b[32m━━━━━━━━━━━━━━━━━━━━\u001b[0m\u001b[37m\u001b[0m \u001b[1m2s\u001b[0m 2ms/step - loss: 5.0267e-04 - precision: 1.0000 - val_loss: 6.9220e-04 - val_precision: 1.0000\n",
      "Epoch 7/150\n",
      "\u001b[1m1440/1440\u001b[0m \u001b[32m━━━━━━━━━━━━━━━━━━━━\u001b[0m\u001b[37m\u001b[0m \u001b[1m2s\u001b[0m 2ms/step - loss: 4.7347e-04 - precision: 1.0000 - val_loss: 7.1019e-04 - val_precision: 1.0000\n",
      "Epoch 8/150\n",
      "\u001b[1m1440/1440\u001b[0m \u001b[32m━━━━━━━━━━━━━━━━━━━━\u001b[0m\u001b[37m\u001b[0m \u001b[1m2s\u001b[0m 2ms/step - loss: 4.5731e-04 - precision: 1.0000 - val_loss: 6.6392e-04 - val_precision: 1.0000\n",
      "Epoch 9/150\n",
      "\u001b[1m1440/1440\u001b[0m \u001b[32m━━━━━━━━━━━━━━━━━━━━\u001b[0m\u001b[37m\u001b[0m \u001b[1m3s\u001b[0m 2ms/step - loss: 4.9904e-04 - precision: 1.0000 - val_loss: 6.3826e-04 - val_precision: 1.0000\n",
      "Epoch 10/150\n",
      "\u001b[1m1440/1440\u001b[0m \u001b[32m━━━━━━━━━━━━━━━━━━━━\u001b[0m\u001b[37m\u001b[0m \u001b[1m2s\u001b[0m 2ms/step - loss: 4.4310e-04 - precision: 1.0000 - val_loss: 6.3744e-04 - val_precision: 1.0000\n",
      "Epoch 11/150\n",
      "\u001b[1m1440/1440\u001b[0m \u001b[32m━━━━━━━━━━━━━━━━━━━━\u001b[0m\u001b[37m\u001b[0m \u001b[1m2s\u001b[0m 2ms/step - loss: 4.7001e-04 - precision: 1.0000 - val_loss: 6.4928e-04 - val_precision: 1.0000\n",
      "Epoch 12/150\n",
      "\u001b[1m1440/1440\u001b[0m \u001b[32m━━━━━━━━━━━━━━━━━━━━\u001b[0m\u001b[37m\u001b[0m \u001b[1m2s\u001b[0m 2ms/step - loss: 4.4172e-04 - precision: 1.0000 - val_loss: 6.1948e-04 - val_precision: 1.0000\n",
      "Epoch 13/150\n",
      "\u001b[1m1440/1440\u001b[0m \u001b[32m━━━━━━━━━━━━━━━━━━━━\u001b[0m\u001b[37m\u001b[0m \u001b[1m2s\u001b[0m 2ms/step - loss: 4.3110e-04 - precision: 1.0000 - val_loss: 6.2547e-04 - val_precision: 1.0000\n",
      "Epoch 14/150\n",
      "\u001b[1m1440/1440\u001b[0m \u001b[32m━━━━━━━━━━━━━━━━━━━━\u001b[0m\u001b[37m\u001b[0m \u001b[1m2s\u001b[0m 2ms/step - loss: 4.4077e-04 - precision: 1.0000 - val_loss: 6.0799e-04 - val_precision: 1.0000\n",
      "Epoch 15/150\n",
      "\u001b[1m1440/1440\u001b[0m \u001b[32m━━━━━━━━━━━━━━━━━━━━\u001b[0m\u001b[37m\u001b[0m \u001b[1m2s\u001b[0m 2ms/step - loss: 4.1455e-04 - precision: 1.0000 - val_loss: 6.1072e-04 - val_precision: 1.0000\n",
      "Epoch 16/150\n",
      "\u001b[1m1440/1440\u001b[0m \u001b[32m━━━━━━━━━━━━━━━━━━━━\u001b[0m\u001b[37m\u001b[0m \u001b[1m2s\u001b[0m 2ms/step - loss: 4.2619e-04 - precision: 1.0000 - val_loss: 5.8712e-04 - val_precision: 1.0000\n",
      "Epoch 17/150\n",
      "\u001b[1m1440/1440\u001b[0m \u001b[32m━━━━━━━━━━━━━━━━━━━━\u001b[0m\u001b[37m\u001b[0m \u001b[1m2s\u001b[0m 2ms/step - loss: 4.1265e-04 - precision: 1.0000 - val_loss: 5.8711e-04 - val_precision: 1.0000\n",
      "Epoch 18/150\n",
      "\u001b[1m1440/1440\u001b[0m \u001b[32m━━━━━━━━━━━━━━━━━━━━\u001b[0m\u001b[37m\u001b[0m \u001b[1m2s\u001b[0m 2ms/step - loss: 4.0325e-04 - precision: 1.0000 - val_loss: 5.7608e-04 - val_precision: 1.0000\n",
      "Epoch 19/150\n",
      "\u001b[1m1440/1440\u001b[0m \u001b[32m━━━━━━━━━━━━━━━━━━━━\u001b[0m\u001b[37m\u001b[0m \u001b[1m2s\u001b[0m 2ms/step - loss: 4.0267e-04 - precision: 1.0000 - val_loss: 5.7504e-04 - val_precision: 1.0000\n",
      "Epoch 20/150\n",
      "\u001b[1m1440/1440\u001b[0m \u001b[32m━━━━━━━━━━━━━━━━━━━━\u001b[0m\u001b[37m\u001b[0m \u001b[1m2s\u001b[0m 2ms/step - loss: 4.0036e-04 - precision: 1.0000 - val_loss: 5.4884e-04 - val_precision: 1.0000\n",
      "Epoch 21/150\n",
      "\u001b[1m1440/1440\u001b[0m \u001b[32m━━━━━━━━━━━━━━━━━━━━\u001b[0m\u001b[37m\u001b[0m \u001b[1m2s\u001b[0m 2ms/step - loss: 3.6831e-04 - precision: 1.0000 - val_loss: 5.4367e-04 - val_precision: 1.0000\n",
      "Epoch 22/150\n",
      "\u001b[1m1440/1440\u001b[0m \u001b[32m━━━━━━━━━━━━━━━━━━━━\u001b[0m\u001b[37m\u001b[0m \u001b[1m2s\u001b[0m 2ms/step - loss: 3.8721e-04 - precision: 1.0000 - val_loss: 5.2571e-04 - val_precision: 1.0000\n",
      "Epoch 23/150\n",
      "\u001b[1m1440/1440\u001b[0m \u001b[32m━━━━━━━━━━━━━━━━━━━━\u001b[0m\u001b[37m\u001b[0m \u001b[1m2s\u001b[0m 2ms/step - loss: 3.6107e-04 - precision: 1.0000 - val_loss: 5.3523e-04 - val_precision: 1.0000\n",
      "Epoch 24/150\n",
      "\u001b[1m1440/1440\u001b[0m \u001b[32m━━━━━━━━━━━━━━━━━━━━\u001b[0m\u001b[37m\u001b[0m \u001b[1m2s\u001b[0m 2ms/step - loss: 3.6942e-04 - precision: 1.0000 - val_loss: 5.1250e-04 - val_precision: 1.0000\n",
      "Epoch 25/150\n",
      "\u001b[1m1440/1440\u001b[0m \u001b[32m━━━━━━━━━━━━━━━━━━━━\u001b[0m\u001b[37m\u001b[0m \u001b[1m2s\u001b[0m 2ms/step - loss: 3.5640e-04 - precision: 1.0000 - val_loss: 5.2159e-04 - val_precision: 1.0000\n",
      "Epoch 26/150\n",
      "\u001b[1m1440/1440\u001b[0m \u001b[32m━━━━━━━━━━━━━━━━━━━━\u001b[0m\u001b[37m\u001b[0m \u001b[1m2s\u001b[0m 2ms/step - loss: 3.5649e-04 - precision: 1.0000 - val_loss: 5.1096e-04 - val_precision: 1.0000\n",
      "Epoch 27/150\n",
      "\u001b[1m1440/1440\u001b[0m \u001b[32m━━━━━━━━━━━━━━━━━━━━\u001b[0m\u001b[37m\u001b[0m \u001b[1m2s\u001b[0m 2ms/step - loss: 3.5266e-04 - precision: 1.0000 - val_loss: 5.0368e-04 - val_precision: 1.0000\n",
      "Epoch 28/150\n",
      "\u001b[1m1440/1440\u001b[0m \u001b[32m━━━━━━━━━━━━━━━━━━━━\u001b[0m\u001b[37m\u001b[0m \u001b[1m2s\u001b[0m 2ms/step - loss: 3.4318e-04 - precision: 1.0000 - val_loss: 4.8667e-04 - val_precision: 1.0000\n",
      "Epoch 29/150\n",
      "\u001b[1m1440/1440\u001b[0m \u001b[32m━━━━━━━━━━━━━━━━━━━━\u001b[0m\u001b[37m\u001b[0m \u001b[1m2s\u001b[0m 2ms/step - loss: 3.3406e-04 - precision: 1.0000 - val_loss: 4.8193e-04 - val_precision: 1.0000\n",
      "Epoch 30/150\n",
      "\u001b[1m1440/1440\u001b[0m \u001b[32m━━━━━━━━━━━━━━━━━━━━\u001b[0m\u001b[37m\u001b[0m \u001b[1m2s\u001b[0m 2ms/step - loss: 3.5799e-04 - precision: 1.0000 - val_loss: 4.7334e-04 - val_precision: 1.0000\n",
      "Epoch 31/150\n",
      "\u001b[1m1440/1440\u001b[0m \u001b[32m━━━━━━━━━━━━━━━━━━━━\u001b[0m\u001b[37m\u001b[0m \u001b[1m2s\u001b[0m 2ms/step - loss: 3.1360e-04 - precision: 1.0000 - val_loss: 4.7203e-04 - val_precision: 1.0000\n",
      "Epoch 32/150\n",
      "\u001b[1m1440/1440\u001b[0m \u001b[32m━━━━━━━━━━━━━━━━━━━━\u001b[0m\u001b[37m\u001b[0m \u001b[1m2s\u001b[0m 2ms/step - loss: 3.1526e-04 - precision: 1.0000 - val_loss: 4.6494e-04 - val_precision: 1.0000\n",
      "Epoch 33/150\n",
      "\u001b[1m1440/1440\u001b[0m \u001b[32m━━━━━━━━━━━━━━━━━━━━\u001b[0m\u001b[37m\u001b[0m \u001b[1m2s\u001b[0m 2ms/step - loss: 3.0923e-04 - precision: 1.0000 - val_loss: 4.6678e-04 - val_precision: 1.0000\n",
      "Epoch 34/150\n",
      "\u001b[1m1440/1440\u001b[0m \u001b[32m━━━━━━━━━━━━━━━━━━━━\u001b[0m\u001b[37m\u001b[0m \u001b[1m2s\u001b[0m 2ms/step - loss: 3.1911e-04 - precision: 1.0000 - val_loss: 4.5188e-04 - val_precision: 1.0000\n",
      "Epoch 35/150\n",
      "\u001b[1m1440/1440\u001b[0m \u001b[32m━━━━━━━━━━━━━━━━━━━━\u001b[0m\u001b[37m\u001b[0m \u001b[1m2s\u001b[0m 2ms/step - loss: 3.1537e-04 - precision: 1.0000 - val_loss: 4.4594e-04 - val_precision: 1.0000\n",
      "Epoch 36/150\n",
      "\u001b[1m1440/1440\u001b[0m \u001b[32m━━━━━━━━━━━━━━━━━━━━\u001b[0m\u001b[37m\u001b[0m \u001b[1m2s\u001b[0m 2ms/step - loss: 3.0755e-04 - precision: 1.0000 - val_loss: 4.3257e-04 - val_precision: 1.0000\n",
      "Epoch 37/150\n",
      "\u001b[1m1440/1440\u001b[0m \u001b[32m━━━━━━━━━━━━━━━━━━━━\u001b[0m\u001b[37m\u001b[0m \u001b[1m3s\u001b[0m 2ms/step - loss: 3.0552e-04 - precision: 1.0000 - val_loss: 4.3390e-04 - val_precision: 1.0000\n",
      "Epoch 38/150\n",
      "\u001b[1m1440/1440\u001b[0m \u001b[32m━━━━━━━━━━━━━━━━━━━━\u001b[0m\u001b[37m\u001b[0m \u001b[1m2s\u001b[0m 2ms/step - loss: 2.9538e-04 - precision: 1.0000 - val_loss: 4.3622e-04 - val_precision: 1.0000\n",
      "Epoch 39/150\n",
      "\u001b[1m1440/1440\u001b[0m \u001b[32m━━━━━━━━━━━━━━━━━━━━\u001b[0m\u001b[37m\u001b[0m \u001b[1m2s\u001b[0m 2ms/step - loss: 2.9582e-04 - precision: 1.0000 - val_loss: 4.1993e-04 - val_precision: 1.0000\n",
      "Epoch 40/150\n",
      "\u001b[1m1440/1440\u001b[0m \u001b[32m━━━━━━━━━━━━━━━━━━━━\u001b[0m\u001b[37m\u001b[0m \u001b[1m2s\u001b[0m 2ms/step - loss: 2.7118e-04 - precision: 1.0000 - val_loss: 4.1999e-04 - val_precision: 1.0000\n",
      "Epoch 41/150\n",
      "\u001b[1m1440/1440\u001b[0m \u001b[32m━━━━━━━━━━━━━━━━━━━━\u001b[0m\u001b[37m\u001b[0m \u001b[1m2s\u001b[0m 2ms/step - loss: 2.8245e-04 - precision: 1.0000 - val_loss: 4.1639e-04 - val_precision: 1.0000\n",
      "Epoch 42/150\n",
      "\u001b[1m1440/1440\u001b[0m \u001b[32m━━━━━━━━━━━━━━━━━━━━\u001b[0m\u001b[37m\u001b[0m \u001b[1m2s\u001b[0m 2ms/step - loss: 2.6398e-04 - precision: 1.0000 - val_loss: 4.0496e-04 - val_precision: 1.0000\n",
      "Epoch 43/150\n",
      "\u001b[1m1440/1440\u001b[0m \u001b[32m━━━━━━━━━━━━━━━━━━━━\u001b[0m\u001b[37m\u001b[0m \u001b[1m2s\u001b[0m 2ms/step - loss: 2.8128e-04 - precision: 1.0000 - val_loss: 4.0890e-04 - val_precision: 1.0000\n",
      "Epoch 44/150\n",
      "\u001b[1m1440/1440\u001b[0m \u001b[32m━━━━━━━━━━━━━━━━━━━━\u001b[0m\u001b[37m\u001b[0m \u001b[1m2s\u001b[0m 2ms/step - loss: 2.8833e-04 - precision: 1.0000 - val_loss: 4.0864e-04 - val_precision: 1.0000\n",
      "Epoch 45/150\n",
      "\u001b[1m1440/1440\u001b[0m \u001b[32m━━━━━━━━━━━━━━━━━━━━\u001b[0m\u001b[37m\u001b[0m \u001b[1m2s\u001b[0m 2ms/step - loss: 2.8626e-04 - precision: 1.0000 - val_loss: 3.9864e-04 - val_precision: 1.0000\n",
      "Epoch 46/150\n",
      "\u001b[1m1440/1440\u001b[0m \u001b[32m━━━━━━━━━━━━━━━━━━━━\u001b[0m\u001b[37m\u001b[0m \u001b[1m2s\u001b[0m 2ms/step - loss: 2.7601e-04 - precision: 1.0000 - val_loss: 3.9566e-04 - val_precision: 1.0000\n",
      "Epoch 47/150\n",
      "\u001b[1m1440/1440\u001b[0m \u001b[32m━━━━━━━━━━━━━━━━━━━━\u001b[0m\u001b[37m\u001b[0m \u001b[1m2s\u001b[0m 2ms/step - loss: 2.6187e-04 - precision: 1.0000 - val_loss: 3.9677e-04 - val_precision: 1.0000\n",
      "Epoch 48/150\n",
      "\u001b[1m1440/1440\u001b[0m \u001b[32m━━━━━━━━━━━━━━━━━━━━\u001b[0m\u001b[37m\u001b[0m \u001b[1m2s\u001b[0m 2ms/step - loss: 2.7805e-04 - precision: 1.0000 - val_loss: 3.9715e-04 - val_precision: 1.0000\n",
      "Epoch 49/150\n",
      "\u001b[1m1440/1440\u001b[0m \u001b[32m━━━━━━━━━━━━━━━━━━━━\u001b[0m\u001b[37m\u001b[0m \u001b[1m2s\u001b[0m 2ms/step - loss: 2.5362e-04 - precision: 1.0000 - val_loss: 3.7980e-04 - val_precision: 1.0000\n",
      "Epoch 50/150\n",
      "\u001b[1m1440/1440\u001b[0m \u001b[32m━━━━━━━━━━━━━━━━━━━━\u001b[0m\u001b[37m\u001b[0m \u001b[1m2s\u001b[0m 2ms/step - loss: 2.6034e-04 - precision: 1.0000 - val_loss: 3.7562e-04 - val_precision: 1.0000\n",
      "Epoch 51/150\n",
      "\u001b[1m1440/1440\u001b[0m \u001b[32m━━━━━━━━━━━━━━━━━━━━\u001b[0m\u001b[37m\u001b[0m \u001b[1m2s\u001b[0m 2ms/step - loss: 2.5819e-04 - precision: 1.0000 - val_loss: 3.8086e-04 - val_precision: 1.0000\n",
      "Epoch 52/150\n",
      "\u001b[1m1440/1440\u001b[0m \u001b[32m━━━━━━━━━━━━━━━━━━━━\u001b[0m\u001b[37m\u001b[0m \u001b[1m2s\u001b[0m 2ms/step - loss: 2.6189e-04 - precision: 1.0000 - val_loss: 3.7450e-04 - val_precision: 1.0000\n",
      "Epoch 53/150\n",
      "\u001b[1m1440/1440\u001b[0m \u001b[32m━━━━━━━━━━━━━━━━━━━━\u001b[0m\u001b[37m\u001b[0m \u001b[1m2s\u001b[0m 2ms/step - loss: 2.3831e-04 - precision: 1.0000 - val_loss: 3.7065e-04 - val_precision: 1.0000\n",
      "Epoch 54/150\n",
      "\u001b[1m1440/1440\u001b[0m \u001b[32m━━━━━━━━━━━━━━━━━━━━\u001b[0m\u001b[37m\u001b[0m \u001b[1m2s\u001b[0m 2ms/step - loss: 2.4088e-04 - precision: 1.0000 - val_loss: 3.6791e-04 - val_precision: 1.0000\n",
      "Epoch 55/150\n",
      "\u001b[1m1440/1440\u001b[0m \u001b[32m━━━━━━━━━━━━━━━━━━━━\u001b[0m\u001b[37m\u001b[0m \u001b[1m2s\u001b[0m 2ms/step - loss: 2.3465e-04 - precision: 1.0000 - val_loss: 3.6890e-04 - val_precision: 1.0000\n",
      "Epoch 56/150\n",
      "\u001b[1m1440/1440\u001b[0m \u001b[32m━━━━━━━━━━━━━━━━━━━━\u001b[0m\u001b[37m\u001b[0m \u001b[1m2s\u001b[0m 2ms/step - loss: 2.3516e-04 - precision: 1.0000 - val_loss: 3.5749e-04 - val_precision: 1.0000\n",
      "Epoch 57/150\n",
      "\u001b[1m1440/1440\u001b[0m \u001b[32m━━━━━━━━━━━━━━━━━━━━\u001b[0m\u001b[37m\u001b[0m \u001b[1m2s\u001b[0m 2ms/step - loss: 2.3267e-04 - precision: 1.0000 - val_loss: 3.5911e-04 - val_precision: 1.0000\n",
      "Epoch 58/150\n",
      "\u001b[1m1440/1440\u001b[0m \u001b[32m━━━━━━━━━━━━━━━━━━━━\u001b[0m\u001b[37m\u001b[0m \u001b[1m2s\u001b[0m 2ms/step - loss: 2.3620e-04 - precision: 1.0000 - val_loss: 3.4452e-04 - val_precision: 1.0000\n",
      "Epoch 59/150\n",
      "\u001b[1m1440/1440\u001b[0m \u001b[32m━━━━━━━━━━━━━━━━━━━━\u001b[0m\u001b[37m\u001b[0m \u001b[1m2s\u001b[0m 2ms/step - loss: 2.2477e-04 - precision: 1.0000 - val_loss: 3.4875e-04 - val_precision: 1.0000\n",
      "Epoch 60/150\n",
      "\u001b[1m1440/1440\u001b[0m \u001b[32m━━━━━━━━━━━━━━━━━━━━\u001b[0m\u001b[37m\u001b[0m \u001b[1m2s\u001b[0m 2ms/step - loss: 2.3229e-04 - precision: 1.0000 - val_loss: 3.4235e-04 - val_precision: 1.0000\n",
      "Epoch 61/150\n",
      "\u001b[1m1440/1440\u001b[0m \u001b[32m━━━━━━━━━━━━━━━━━━━━\u001b[0m\u001b[37m\u001b[0m \u001b[1m3s\u001b[0m 2ms/step - loss: 2.4067e-04 - precision: 1.0000 - val_loss: 3.3511e-04 - val_precision: 1.0000\n",
      "Epoch 62/150\n",
      "\u001b[1m1440/1440\u001b[0m \u001b[32m━━━━━━━━━━━━━━━━━━━━\u001b[0m\u001b[37m\u001b[0m \u001b[1m3s\u001b[0m 2ms/step - loss: 2.2384e-04 - precision: 1.0000 - val_loss: 3.3139e-04 - val_precision: 1.0000\n",
      "Epoch 63/150\n",
      "\u001b[1m1440/1440\u001b[0m \u001b[32m━━━━━━━━━━━━━━━━━━━━\u001b[0m\u001b[37m\u001b[0m \u001b[1m2s\u001b[0m 2ms/step - loss: 2.1782e-04 - precision: 1.0000 - val_loss: 3.2949e-04 - val_precision: 1.0000\n",
      "Epoch 64/150\n",
      "\u001b[1m1440/1440\u001b[0m \u001b[32m━━━━━━━━━━━━━━━━━━━━\u001b[0m\u001b[37m\u001b[0m \u001b[1m2s\u001b[0m 2ms/step - loss: 2.1944e-04 - precision: 1.0000 - val_loss: 3.3368e-04 - val_precision: 1.0000\n",
      "Epoch 65/150\n",
      "\u001b[1m1440/1440\u001b[0m \u001b[32m━━━━━━━━━━━━━━━━━━━━\u001b[0m\u001b[37m\u001b[0m \u001b[1m2s\u001b[0m 2ms/step - loss: 2.1308e-04 - precision: 1.0000 - val_loss: 3.1811e-04 - val_precision: 1.0000\n",
      "Epoch 66/150\n",
      "\u001b[1m1440/1440\u001b[0m \u001b[32m━━━━━━━━━━━━━━━━━━━━\u001b[0m\u001b[37m\u001b[0m \u001b[1m2s\u001b[0m 2ms/step - loss: 2.1566e-04 - precision: 1.0000 - val_loss: 3.3108e-04 - val_precision: 1.0000\n",
      "Epoch 67/150\n",
      "\u001b[1m1440/1440\u001b[0m \u001b[32m━━━━━━━━━━━━━━━━━━━━\u001b[0m\u001b[37m\u001b[0m \u001b[1m2s\u001b[0m 2ms/step - loss: 2.0109e-04 - precision: 1.0000 - val_loss: 3.1921e-04 - val_precision: 1.0000\n",
      "Epoch 68/150\n",
      "\u001b[1m1440/1440\u001b[0m \u001b[32m━━━━━━━━━━━━━━━━━━━━\u001b[0m\u001b[37m\u001b[0m \u001b[1m2s\u001b[0m 2ms/step - loss: 2.0963e-04 - precision: 1.0000 - val_loss: 3.2005e-04 - val_precision: 1.0000\n",
      "Epoch 69/150\n",
      "\u001b[1m1440/1440\u001b[0m \u001b[32m━━━━━━━━━━━━━━━━━━━━\u001b[0m\u001b[37m\u001b[0m \u001b[1m2s\u001b[0m 2ms/step - loss: 2.0046e-04 - precision: 1.0000 - val_loss: 3.3305e-04 - val_precision: 1.0000\n",
      "Epoch 70/150\n",
      "\u001b[1m1440/1440\u001b[0m \u001b[32m━━━━━━━━━━━━━━━━━━━━\u001b[0m\u001b[37m\u001b[0m \u001b[1m2s\u001b[0m 2ms/step - loss: 2.0817e-04 - precision: 1.0000 - val_loss: 3.1074e-04 - val_precision: 1.0000\n",
      "Epoch 71/150\n",
      "\u001b[1m1440/1440\u001b[0m \u001b[32m━━━━━━━━━━━━━━━━━━━━\u001b[0m\u001b[37m\u001b[0m \u001b[1m2s\u001b[0m 2ms/step - loss: 2.0788e-04 - precision: 1.0000 - val_loss: 3.1551e-04 - val_precision: 1.0000\n",
      "Epoch 72/150\n",
      "\u001b[1m1440/1440\u001b[0m \u001b[32m━━━━━━━━━━━━━━━━━━━━\u001b[0m\u001b[37m\u001b[0m \u001b[1m2s\u001b[0m 2ms/step - loss: 2.0556e-04 - precision: 1.0000 - val_loss: 3.0796e-04 - val_precision: 1.0000\n",
      "Epoch 73/150\n",
      "\u001b[1m1440/1440\u001b[0m \u001b[32m━━━━━━━━━━━━━━━━━━━━\u001b[0m\u001b[37m\u001b[0m \u001b[1m2s\u001b[0m 2ms/step - loss: 1.9619e-04 - precision: 1.0000 - val_loss: 3.1081e-04 - val_precision: 1.0000\n",
      "Epoch 74/150\n",
      "\u001b[1m1440/1440\u001b[0m \u001b[32m━━━━━━━━━━━━━━━━━━━━\u001b[0m\u001b[37m\u001b[0m \u001b[1m2s\u001b[0m 2ms/step - loss: 1.9974e-04 - precision: 1.0000 - val_loss: 3.0415e-04 - val_precision: 1.0000\n",
      "Epoch 75/150\n",
      "\u001b[1m1440/1440\u001b[0m \u001b[32m━━━━━━━━━━━━━━━━━━━━\u001b[0m\u001b[37m\u001b[0m \u001b[1m2s\u001b[0m 2ms/step - loss: 1.9191e-04 - precision: 1.0000 - val_loss: 3.0331e-04 - val_precision: 1.0000\n",
      "Epoch 76/150\n",
      "\u001b[1m1440/1440\u001b[0m \u001b[32m━━━━━━━━━━━━━━━━━━━━\u001b[0m\u001b[37m\u001b[0m \u001b[1m2s\u001b[0m 2ms/step - loss: 1.8611e-04 - precision: 1.0000 - val_loss: 3.0142e-04 - val_precision: 1.0000\n",
      "Epoch 77/150\n",
      "\u001b[1m1440/1440\u001b[0m \u001b[32m━━━━━━━━━━━━━━━━━━━━\u001b[0m\u001b[37m\u001b[0m \u001b[1m2s\u001b[0m 2ms/step - loss: 1.9902e-04 - precision: 1.0000 - val_loss: 2.9945e-04 - val_precision: 1.0000\n",
      "Epoch 78/150\n",
      "\u001b[1m1440/1440\u001b[0m \u001b[32m━━━━━━━━━━━━━━━━━━━━\u001b[0m\u001b[37m\u001b[0m \u001b[1m2s\u001b[0m 2ms/step - loss: 2.0323e-04 - precision: 1.0000 - val_loss: 2.9652e-04 - val_precision: 1.0000\n",
      "Epoch 79/150\n",
      "\u001b[1m1440/1440\u001b[0m \u001b[32m━━━━━━━━━━━━━━━━━━━━\u001b[0m\u001b[37m\u001b[0m \u001b[1m2s\u001b[0m 2ms/step - loss: 2.0290e-04 - precision: 1.0000 - val_loss: 2.9310e-04 - val_precision: 1.0000\n",
      "Epoch 80/150\n",
      "\u001b[1m1440/1440\u001b[0m \u001b[32m━━━━━━━━━━━━━━━━━━━━\u001b[0m\u001b[37m\u001b[0m \u001b[1m2s\u001b[0m 2ms/step - loss: 1.8383e-04 - precision: 1.0000 - val_loss: 2.9321e-04 - val_precision: 1.0000\n",
      "Epoch 81/150\n",
      "\u001b[1m1440/1440\u001b[0m \u001b[32m━━━━━━━━━━━━━━━━━━━━\u001b[0m\u001b[37m\u001b[0m \u001b[1m2s\u001b[0m 2ms/step - loss: 1.8728e-04 - precision: 1.0000 - val_loss: 2.9598e-04 - val_precision: 1.0000\n",
      "Epoch 82/150\n",
      "\u001b[1m1440/1440\u001b[0m \u001b[32m━━━━━━━━━━━━━━━━━━━━\u001b[0m\u001b[37m\u001b[0m \u001b[1m2s\u001b[0m 2ms/step - loss: 1.7669e-04 - precision: 1.0000 - val_loss: 2.8834e-04 - val_precision: 1.0000\n",
      "Epoch 83/150\n",
      "\u001b[1m1440/1440\u001b[0m \u001b[32m━━━━━━━━━━━━━━━━━━━━\u001b[0m\u001b[37m\u001b[0m \u001b[1m2s\u001b[0m 2ms/step - loss: 1.7771e-04 - precision: 1.0000 - val_loss: 2.9176e-04 - val_precision: 1.0000\n",
      "Epoch 84/150\n",
      "\u001b[1m1440/1440\u001b[0m \u001b[32m━━━━━━━━━━━━━━━━━━━━\u001b[0m\u001b[37m\u001b[0m \u001b[1m2s\u001b[0m 2ms/step - loss: 1.8335e-04 - precision: 1.0000 - val_loss: 2.8562e-04 - val_precision: 1.0000\n",
      "Epoch 85/150\n",
      "\u001b[1m1440/1440\u001b[0m \u001b[32m━━━━━━━━━━━━━━━━━━━━\u001b[0m\u001b[37m\u001b[0m \u001b[1m2s\u001b[0m 2ms/step - loss: 1.7586e-04 - precision: 1.0000 - val_loss: 2.7712e-04 - val_precision: 1.0000\n",
      "Epoch 86/150\n",
      "\u001b[1m1440/1440\u001b[0m \u001b[32m━━━━━━━━━━━━━━━━━━━━\u001b[0m\u001b[37m\u001b[0m \u001b[1m2s\u001b[0m 2ms/step - loss: 1.7956e-04 - precision: 1.0000 - val_loss: 2.6978e-04 - val_precision: 1.0000\n",
      "Epoch 87/150\n",
      "\u001b[1m1440/1440\u001b[0m \u001b[32m━━━━━━━━━━━━━━━━━━━━\u001b[0m\u001b[37m\u001b[0m \u001b[1m2s\u001b[0m 2ms/step - loss: 1.7962e-04 - precision: 1.0000 - val_loss: 2.8583e-04 - val_precision: 1.0000\n",
      "Epoch 88/150\n",
      "\u001b[1m1440/1440\u001b[0m \u001b[32m━━━━━━━━━━━━━━━━━━━━\u001b[0m\u001b[37m\u001b[0m \u001b[1m2s\u001b[0m 2ms/step - loss: 1.6375e-04 - precision: 1.0000 - val_loss: 2.7123e-04 - val_precision: 1.0000\n",
      "Epoch 89/150\n",
      "\u001b[1m1440/1440\u001b[0m \u001b[32m━━━━━━━━━━━━━━━━━━━━\u001b[0m\u001b[37m\u001b[0m \u001b[1m2s\u001b[0m 2ms/step - loss: 1.7258e-04 - precision: 1.0000 - val_loss: 2.7161e-04 - val_precision: 1.0000\n",
      "Epoch 90/150\n",
      "\u001b[1m1440/1440\u001b[0m \u001b[32m━━━━━━━━━━━━━━━━━━━━\u001b[0m\u001b[37m\u001b[0m \u001b[1m2s\u001b[0m 2ms/step - loss: 1.6813e-04 - precision: 1.0000 - val_loss: 2.7303e-04 - val_precision: 1.0000\n",
      "Epoch 91/150\n",
      "\u001b[1m1440/1440\u001b[0m \u001b[32m━━━━━━━━━━━━━━━━━━━━\u001b[0m\u001b[37m\u001b[0m \u001b[1m2s\u001b[0m 2ms/step - loss: 1.7607e-04 - precision: 1.0000 - val_loss: 2.6237e-04 - val_precision: 1.0000\n",
      "Epoch 92/150\n",
      "\u001b[1m1440/1440\u001b[0m \u001b[32m━━━━━━━━━━━━━━━━━━━━\u001b[0m\u001b[37m\u001b[0m \u001b[1m2s\u001b[0m 2ms/step - loss: 1.5769e-04 - precision: 1.0000 - val_loss: 2.6449e-04 - val_precision: 1.0000\n",
      "Epoch 93/150\n",
      "\u001b[1m1440/1440\u001b[0m \u001b[32m━━━━━━━━━━━━━━━━━━━━\u001b[0m\u001b[37m\u001b[0m \u001b[1m2s\u001b[0m 2ms/step - loss: 1.6947e-04 - precision: 1.0000 - val_loss: 2.6428e-04 - val_precision: 1.0000\n",
      "Epoch 94/150\n",
      "\u001b[1m1440/1440\u001b[0m \u001b[32m━━━━━━━━━━━━━━━━━━━━\u001b[0m\u001b[37m\u001b[0m \u001b[1m2s\u001b[0m 2ms/step - loss: 1.6667e-04 - precision: 1.0000 - val_loss: 2.5973e-04 - val_precision: 1.0000\n",
      "Epoch 95/150\n",
      "\u001b[1m1440/1440\u001b[0m \u001b[32m━━━━━━━━━━━━━━━━━━━━\u001b[0m\u001b[37m\u001b[0m \u001b[1m2s\u001b[0m 2ms/step - loss: 1.5981e-04 - precision: 1.0000 - val_loss: 2.5565e-04 - val_precision: 1.0000\n",
      "Epoch 96/150\n",
      "\u001b[1m1440/1440\u001b[0m \u001b[32m━━━━━━━━━━━━━━━━━━━━\u001b[0m\u001b[37m\u001b[0m \u001b[1m2s\u001b[0m 2ms/step - loss: 1.6112e-04 - precision: 1.0000 - val_loss: 2.5874e-04 - val_precision: 1.0000\n",
      "Epoch 97/150\n",
      "\u001b[1m1440/1440\u001b[0m \u001b[32m━━━━━━━━━━━━━━━━━━━━\u001b[0m\u001b[37m\u001b[0m \u001b[1m2s\u001b[0m 2ms/step - loss: 1.6636e-04 - precision: 1.0000 - val_loss: 2.5389e-04 - val_precision: 1.0000\n",
      "Epoch 98/150\n",
      "\u001b[1m1440/1440\u001b[0m \u001b[32m━━━━━━━━━━━━━━━━━━━━\u001b[0m\u001b[37m\u001b[0m \u001b[1m2s\u001b[0m 2ms/step - loss: 1.6681e-04 - precision: 1.0000 - val_loss: 2.5495e-04 - val_precision: 1.0000\n",
      "Epoch 99/150\n",
      "\u001b[1m1440/1440\u001b[0m \u001b[32m━━━━━━━━━━━━━━━━━━━━\u001b[0m\u001b[37m\u001b[0m \u001b[1m3s\u001b[0m 2ms/step - loss: 1.5670e-04 - precision: 1.0000 - val_loss: 2.5263e-04 - val_precision: 1.0000\n",
      "Epoch 100/150\n",
      "\u001b[1m1440/1440\u001b[0m \u001b[32m━━━━━━━━━━━━━━━━━━━━\u001b[0m\u001b[37m\u001b[0m \u001b[1m3s\u001b[0m 2ms/step - loss: 1.5615e-04 - precision: 1.0000 - val_loss: 2.5962e-04 - val_precision: 1.0000\n",
      "Epoch 101/150\n",
      "\u001b[1m1440/1440\u001b[0m \u001b[32m━━━━━━━━━━━━━━━━━━━━\u001b[0m\u001b[37m\u001b[0m \u001b[1m3s\u001b[0m 2ms/step - loss: 1.5736e-04 - precision: 1.0000 - val_loss: 2.5290e-04 - val_precision: 1.0000\n",
      "Epoch 102/150\n",
      "\u001b[1m1440/1440\u001b[0m \u001b[32m━━━━━━━━━━━━━━━━━━━━\u001b[0m\u001b[37m\u001b[0m \u001b[1m3s\u001b[0m 2ms/step - loss: 1.5172e-04 - precision: 1.0000 - val_loss: 2.4640e-04 - val_precision: 1.0000\n",
      "Epoch 103/150\n",
      "\u001b[1m1440/1440\u001b[0m \u001b[32m━━━━━━━━━━━━━━━━━━━━\u001b[0m\u001b[37m\u001b[0m \u001b[1m2s\u001b[0m 2ms/step - loss: 1.6283e-04 - precision: 1.0000 - val_loss: 2.5106e-04 - val_precision: 1.0000\n",
      "Epoch 104/150\n",
      "\u001b[1m1440/1440\u001b[0m \u001b[32m━━━━━━━━━━━━━━━━━━━━\u001b[0m\u001b[37m\u001b[0m \u001b[1m2s\u001b[0m 2ms/step - loss: 1.4418e-04 - precision: 1.0000 - val_loss: 2.4179e-04 - val_precision: 1.0000\n",
      "Epoch 105/150\n",
      "\u001b[1m1440/1440\u001b[0m \u001b[32m━━━━━━━━━━━━━━━━━━━━\u001b[0m\u001b[37m\u001b[0m \u001b[1m3s\u001b[0m 2ms/step - loss: 1.5075e-04 - precision: 1.0000 - val_loss: 2.4174e-04 - val_precision: 1.0000\n",
      "Epoch 106/150\n",
      "\u001b[1m1440/1440\u001b[0m \u001b[32m━━━━━━━━━━━━━━━━━━━━\u001b[0m\u001b[37m\u001b[0m \u001b[1m2s\u001b[0m 2ms/step - loss: 1.5718e-04 - precision: 1.0000 - val_loss: 2.4733e-04 - val_precision: 1.0000\n",
      "Epoch 107/150\n",
      "\u001b[1m1440/1440\u001b[0m \u001b[32m━━━━━━━━━━━━━━━━━━━━\u001b[0m\u001b[37m\u001b[0m \u001b[1m2s\u001b[0m 2ms/step - loss: 1.4096e-04 - precision: 1.0000 - val_loss: 2.4239e-04 - val_precision: 1.0000\n",
      "Epoch 108/150\n",
      "\u001b[1m1440/1440\u001b[0m \u001b[32m━━━━━━━━━━━━━━━━━━━━\u001b[0m\u001b[37m\u001b[0m \u001b[1m2s\u001b[0m 2ms/step - loss: 1.4179e-04 - precision: 1.0000 - val_loss: 2.3829e-04 - val_precision: 1.0000\n",
      "Epoch 109/150\n",
      "\u001b[1m1440/1440\u001b[0m \u001b[32m━━━━━━━━━━━━━━━━━━━━\u001b[0m\u001b[37m\u001b[0m \u001b[1m2s\u001b[0m 2ms/step - loss: 1.4996e-04 - precision: 1.0000 - val_loss: 2.4049e-04 - val_precision: 1.0000\n",
      "Epoch 110/150\n",
      "\u001b[1m1440/1440\u001b[0m \u001b[32m━━━━━━━━━━━━━━━━━━━━\u001b[0m\u001b[37m\u001b[0m \u001b[1m2s\u001b[0m 2ms/step - loss: 1.4272e-04 - precision: 1.0000 - val_loss: 2.3404e-04 - val_precision: 1.0000\n",
      "Epoch 111/150\n",
      "\u001b[1m1440/1440\u001b[0m \u001b[32m━━━━━━━━━━━━━━━━━━━━\u001b[0m\u001b[37m\u001b[0m \u001b[1m2s\u001b[0m 2ms/step - loss: 1.4790e-04 - precision: 1.0000 - val_loss: 2.3252e-04 - val_precision: 1.0000\n",
      "Epoch 112/150\n",
      "\u001b[1m1440/1440\u001b[0m \u001b[32m━━━━━━━━━━━━━━━━━━━━\u001b[0m\u001b[37m\u001b[0m \u001b[1m2s\u001b[0m 2ms/step - loss: 1.4627e-04 - precision: 1.0000 - val_loss: 2.2916e-04 - val_precision: 1.0000\n",
      "Epoch 113/150\n",
      "\u001b[1m1440/1440\u001b[0m \u001b[32m━━━━━━━━━━━━━━━━━━━━\u001b[0m\u001b[37m\u001b[0m \u001b[1m3s\u001b[0m 2ms/step - loss: 1.4404e-04 - precision: 1.0000 - val_loss: 2.3123e-04 - val_precision: 1.0000\n",
      "Epoch 114/150\n",
      "\u001b[1m1440/1440\u001b[0m \u001b[32m━━━━━━━━━━━━━━━━━━━━\u001b[0m\u001b[37m\u001b[0m \u001b[1m2s\u001b[0m 2ms/step - loss: 1.5243e-04 - precision: 1.0000 - val_loss: 2.3131e-04 - val_precision: 1.0000\n",
      "Epoch 115/150\n",
      "\u001b[1m1440/1440\u001b[0m \u001b[32m━━━━━━━━━━━━━━━━━━━━\u001b[0m\u001b[37m\u001b[0m \u001b[1m2s\u001b[0m 2ms/step - loss: 1.4144e-04 - precision: 1.0000 - val_loss: 2.2191e-04 - val_precision: 1.0000\n",
      "Epoch 116/150\n",
      "\u001b[1m1440/1440\u001b[0m \u001b[32m━━━━━━━━━━━━━━━━━━━━\u001b[0m\u001b[37m\u001b[0m \u001b[1m3s\u001b[0m 2ms/step - loss: 1.3426e-04 - precision: 1.0000 - val_loss: 2.2597e-04 - val_precision: 1.0000\n",
      "Epoch 117/150\n",
      "\u001b[1m1440/1440\u001b[0m \u001b[32m━━━━━━━━━━━━━━━━━━━━\u001b[0m\u001b[37m\u001b[0m \u001b[1m3s\u001b[0m 2ms/step - loss: 1.3711e-04 - precision: 1.0000 - val_loss: 2.2302e-04 - val_precision: 1.0000\n",
      "Epoch 118/150\n",
      "\u001b[1m1440/1440\u001b[0m \u001b[32m━━━━━━━━━━━━━━━━━━━━\u001b[0m\u001b[37m\u001b[0m \u001b[1m3s\u001b[0m 2ms/step - loss: 1.2759e-04 - precision: 1.0000 - val_loss: 2.2663e-04 - val_precision: 1.0000\n",
      "Epoch 119/150\n",
      "\u001b[1m1440/1440\u001b[0m \u001b[32m━━━━━━━━━━━━━━━━━━━━\u001b[0m\u001b[37m\u001b[0m \u001b[1m2s\u001b[0m 2ms/step - loss: 1.4512e-04 - precision: 1.0000 - val_loss: 2.2358e-04 - val_precision: 1.0000\n",
      "Epoch 120/150\n",
      "\u001b[1m1440/1440\u001b[0m \u001b[32m━━━━━━━━━━━━━━━━━━━━\u001b[0m\u001b[37m\u001b[0m \u001b[1m3s\u001b[0m 2ms/step - loss: 1.4059e-04 - precision: 1.0000 - val_loss: 2.2018e-04 - val_precision: 1.0000\n",
      "Epoch 121/150\n",
      "\u001b[1m1440/1440\u001b[0m \u001b[32m━━━━━━━━━━━━━━━━━━━━\u001b[0m\u001b[37m\u001b[0m \u001b[1m3s\u001b[0m 2ms/step - loss: 1.2990e-04 - precision: 1.0000 - val_loss: 2.1978e-04 - val_precision: 1.0000\n",
      "Epoch 122/150\n",
      "\u001b[1m1440/1440\u001b[0m \u001b[32m━━━━━━━━━━━━━━━━━━━━\u001b[0m\u001b[37m\u001b[0m \u001b[1m3s\u001b[0m 2ms/step - loss: 1.2785e-04 - precision: 1.0000 - val_loss: 2.1501e-04 - val_precision: 1.0000\n",
      "Epoch 123/150\n",
      "\u001b[1m1440/1440\u001b[0m \u001b[32m━━━━━━━━━━━━━━━━━━━━\u001b[0m\u001b[37m\u001b[0m \u001b[1m3s\u001b[0m 2ms/step - loss: 1.3260e-04 - precision: 1.0000 - val_loss: 2.1484e-04 - val_precision: 1.0000\n",
      "Epoch 124/150\n",
      "\u001b[1m1440/1440\u001b[0m \u001b[32m━━━━━━━━━━━━━━━━━━━━\u001b[0m\u001b[37m\u001b[0m \u001b[1m3s\u001b[0m 2ms/step - loss: 1.3294e-04 - precision: 1.0000 - val_loss: 2.1882e-04 - val_precision: 1.0000\n",
      "Epoch 125/150\n",
      "\u001b[1m1440/1440\u001b[0m \u001b[32m━━━━━━━━━━━━━━━━━━━━\u001b[0m\u001b[37m\u001b[0m \u001b[1m3s\u001b[0m 2ms/step - loss: 1.2690e-04 - precision: 1.0000 - val_loss: 2.1442e-04 - val_precision: 1.0000\n",
      "Epoch 126/150\n",
      "\u001b[1m1440/1440\u001b[0m \u001b[32m━━━━━━━━━━━━━━━━━━━━\u001b[0m\u001b[37m\u001b[0m \u001b[1m3s\u001b[0m 2ms/step - loss: 1.2426e-04 - precision: 1.0000 - val_loss: 2.1344e-04 - val_precision: 1.0000\n",
      "Epoch 127/150\n",
      "\u001b[1m1440/1440\u001b[0m \u001b[32m━━━━━━━━━━━━━━━━━━━━\u001b[0m\u001b[37m\u001b[0m \u001b[1m3s\u001b[0m 2ms/step - loss: 1.2597e-04 - precision: 1.0000 - val_loss: 2.0987e-04 - val_precision: 1.0000\n",
      "Epoch 128/150\n",
      "\u001b[1m1440/1440\u001b[0m \u001b[32m━━━━━━━━━━━━━━━━━━━━\u001b[0m\u001b[37m\u001b[0m \u001b[1m2s\u001b[0m 2ms/step - loss: 1.3491e-04 - precision: 1.0000 - val_loss: 2.1414e-04 - val_precision: 1.0000\n",
      "Epoch 129/150\n",
      "\u001b[1m1440/1440\u001b[0m \u001b[32m━━━━━━━━━━━━━━━━━━━━\u001b[0m\u001b[37m\u001b[0m \u001b[1m3s\u001b[0m 2ms/step - loss: 1.1690e-04 - precision: 1.0000 - val_loss: 2.0808e-04 - val_precision: 1.0000\n",
      "Epoch 130/150\n",
      "\u001b[1m1440/1440\u001b[0m \u001b[32m━━━━━━━━━━━━━━━━━━━━\u001b[0m\u001b[37m\u001b[0m \u001b[1m3s\u001b[0m 2ms/step - loss: 1.2675e-04 - precision: 1.0000 - val_loss: 2.1242e-04 - val_precision: 1.0000\n",
      "Epoch 131/150\n",
      "\u001b[1m1440/1440\u001b[0m \u001b[32m━━━━━━━━━━━━━━━━━━━━\u001b[0m\u001b[37m\u001b[0m \u001b[1m3s\u001b[0m 2ms/step - loss: 1.3519e-04 - precision: 1.0000 - val_loss: 2.0654e-04 - val_precision: 1.0000\n",
      "Epoch 132/150\n",
      "\u001b[1m1440/1440\u001b[0m \u001b[32m━━━━━━━━━━━━━━━━━━━━\u001b[0m\u001b[37m\u001b[0m \u001b[1m2s\u001b[0m 2ms/step - loss: 1.3171e-04 - precision: 1.0000 - val_loss: 2.0436e-04 - val_precision: 1.0000\n",
      "Epoch 133/150\n",
      "\u001b[1m1440/1440\u001b[0m \u001b[32m━━━━━━━━━━━━━━━━━━━━\u001b[0m\u001b[37m\u001b[0m \u001b[1m3s\u001b[0m 2ms/step - loss: 1.1808e-04 - precision: 1.0000 - val_loss: 2.0467e-04 - val_precision: 1.0000\n",
      "Epoch 134/150\n",
      "\u001b[1m1440/1440\u001b[0m \u001b[32m━━━━━━━━━━━━━━━━━━━━\u001b[0m\u001b[37m\u001b[0m \u001b[1m3s\u001b[0m 2ms/step - loss: 1.2295e-04 - precision: 1.0000 - val_loss: 2.0482e-04 - val_precision: 1.0000\n",
      "Epoch 135/150\n",
      "\u001b[1m1440/1440\u001b[0m \u001b[32m━━━━━━━━━━━━━━━━━━━━\u001b[0m\u001b[37m\u001b[0m \u001b[1m3s\u001b[0m 2ms/step - loss: 1.2164e-04 - precision: 1.0000 - val_loss: 2.0491e-04 - val_precision: 1.0000\n",
      "Epoch 136/150\n",
      "\u001b[1m1440/1440\u001b[0m \u001b[32m━━━━━━━━━━━━━━━━━━━━\u001b[0m\u001b[37m\u001b[0m \u001b[1m3s\u001b[0m 2ms/step - loss: 1.1703e-04 - precision: 1.0000 - val_loss: 2.0168e-04 - val_precision: 1.0000\n",
      "Epoch 137/150\n",
      "\u001b[1m1440/1440\u001b[0m \u001b[32m━━━━━━━━━━━━━━━━━━━━\u001b[0m\u001b[37m\u001b[0m \u001b[1m3s\u001b[0m 2ms/step - loss: 1.2780e-04 - precision: 1.0000 - val_loss: 1.9946e-04 - val_precision: 1.0000\n",
      "Epoch 138/150\n",
      "\u001b[1m1440/1440\u001b[0m \u001b[32m━━━━━━━━━━━━━━━━━━━━\u001b[0m\u001b[37m\u001b[0m \u001b[1m3s\u001b[0m 2ms/step - loss: 1.1759e-04 - precision: 1.0000 - val_loss: 1.9884e-04 - val_precision: 1.0000\n",
      "Epoch 139/150\n",
      "\u001b[1m1440/1440\u001b[0m \u001b[32m━━━━━━━━━━━━━━━━━━━━\u001b[0m\u001b[37m\u001b[0m \u001b[1m2s\u001b[0m 2ms/step - loss: 1.1858e-04 - precision: 1.0000 - val_loss: 1.9886e-04 - val_precision: 1.0000\n",
      "Epoch 140/150\n",
      "\u001b[1m1440/1440\u001b[0m \u001b[32m━━━━━━━━━━━━━━━━━━━━\u001b[0m\u001b[37m\u001b[0m \u001b[1m3s\u001b[0m 2ms/step - loss: 1.1658e-04 - precision: 1.0000 - val_loss: 1.9590e-04 - val_precision: 1.0000\n",
      "Epoch 141/150\n",
      "\u001b[1m1440/1440\u001b[0m \u001b[32m━━━━━━━━━━━━━━━━━━━━\u001b[0m\u001b[37m\u001b[0m \u001b[1m3s\u001b[0m 2ms/step - loss: 1.2025e-04 - precision: 1.0000 - val_loss: 1.9399e-04 - val_precision: 1.0000\n",
      "Epoch 142/150\n",
      "\u001b[1m1440/1440\u001b[0m \u001b[32m━━━━━━━━━━━━━━━━━━━━\u001b[0m\u001b[37m\u001b[0m \u001b[1m3s\u001b[0m 2ms/step - loss: 1.1840e-04 - precision: 1.0000 - val_loss: 1.9820e-04 - val_precision: 1.0000\n",
      "Epoch 143/150\n",
      "\u001b[1m1440/1440\u001b[0m \u001b[32m━━━━━━━━━━━━━━━━━━━━\u001b[0m\u001b[37m\u001b[0m \u001b[1m3s\u001b[0m 2ms/step - loss: 1.1697e-04 - precision: 1.0000 - val_loss: 1.9426e-04 - val_precision: 1.0000\n",
      "Epoch 144/150\n",
      "\u001b[1m1440/1440\u001b[0m \u001b[32m━━━━━━━━━━━━━━━━━━━━\u001b[0m\u001b[37m\u001b[0m \u001b[1m3s\u001b[0m 2ms/step - loss: 1.1114e-04 - precision: 1.0000 - val_loss: 1.9661e-04 - val_precision: 1.0000\n",
      "Epoch 145/150\n",
      "\u001b[1m1440/1440\u001b[0m \u001b[32m━━━━━━━━━━━━━━━━━━━━\u001b[0m\u001b[37m\u001b[0m \u001b[1m3s\u001b[0m 2ms/step - loss: 1.1659e-04 - precision: 1.0000 - val_loss: 1.9321e-04 - val_precision: 1.0000\n",
      "Epoch 146/150\n",
      "\u001b[1m1440/1440\u001b[0m \u001b[32m━━━━━━━━━━━━━━━━━━━━\u001b[0m\u001b[37m\u001b[0m \u001b[1m3s\u001b[0m 2ms/step - loss: 1.0733e-04 - precision: 1.0000 - val_loss: 1.9015e-04 - val_precision: 1.0000\n",
      "Epoch 147/150\n",
      "\u001b[1m1440/1440\u001b[0m \u001b[32m━━━━━━━━━━━━━━━━━━━━\u001b[0m\u001b[37m\u001b[0m \u001b[1m3s\u001b[0m 2ms/step - loss: 1.2217e-04 - precision: 1.0000 - val_loss: 1.9065e-04 - val_precision: 1.0000\n",
      "Epoch 148/150\n",
      "\u001b[1m1440/1440\u001b[0m \u001b[32m━━━━━━━━━━━━━━━━━━━━\u001b[0m\u001b[37m\u001b[0m \u001b[1m3s\u001b[0m 2ms/step - loss: 1.1603e-04 - precision: 1.0000 - val_loss: 1.8868e-04 - val_precision: 1.0000\n",
      "Epoch 149/150\n",
      "\u001b[1m1440/1440\u001b[0m \u001b[32m━━━━━━━━━━━━━━━━━━━━\u001b[0m\u001b[37m\u001b[0m \u001b[1m3s\u001b[0m 2ms/step - loss: 1.1192e-04 - precision: 1.0000 - val_loss: 1.8933e-04 - val_precision: 1.0000\n",
      "Epoch 150/150\n",
      "\u001b[1m1440/1440\u001b[0m \u001b[32m━━━━━━━━━━━━━━━━━━━━\u001b[0m\u001b[37m\u001b[0m \u001b[1m3s\u001b[0m 2ms/step - loss: 1.2222e-04 - precision: 1.0000 - val_loss: 1.8543e-04 - val_precision: 1.0000\n"
     ]
    },
    {
     "data": {
      "text/plain": [
       "<keras.src.callbacks.history.History at 0x1d04f092360>"
      ]
     },
     "execution_count": 22,
     "metadata": {},
     "output_type": "execute_result"
    }
   ],
   "source": [
    "# TODO - Train the model\n",
    "from keras.callbacks import EarlyStopping\n",
    "\n",
    "early_stop = EarlyStopping(monitor=\"val_loss\", patience=5)\n",
    "model.fit(X_train,y_train, epochs=150, batch_size=10, validation_split=0.2, callbacks=[early_stop])"
   ]
  },
  {
   "cell_type": "markdown",
   "id": "06132fbf",
   "metadata": {},
   "source": [
    "I wanted to perhaps reducing the number of epochs by using this callback class EarlyStopping. After 5 epoch with the same val_loss the model stops. However, here it didn't and went through the all 150 epochs."
   ]
  },
  {
   "cell_type": "markdown",
   "id": "f843179d-fe09-4f83-afc4-c0ad1f7e0b4d",
   "metadata": {},
   "source": [
    "#### **Q5.** Evaluate the model \n",
    "    - See precision on Train and Test set"
   ]
  },
  {
   "cell_type": "code",
   "execution_count": 26,
   "id": "d21ac750-5d98-4041-be47-00ab998db5d1",
   "metadata": {},
   "outputs": [
    {
     "name": "stdout",
     "output_type": "stream",
     "text": [
      "\u001b[1m5/5\u001b[0m \u001b[32m━━━━━━━━━━━━━━━━━━━━\u001b[0m\u001b[37m\u001b[0m \u001b[1m0s\u001b[0m 9ms/step - loss: 8.5047e-05 - precision: 1.0000 \n"
     ]
    }
   ],
   "source": [
    "# TODO - Evaluate the model: use evaluate from NN model\n",
    "evaluation = model.evaluate(X_test,y_test)"
   ]
  },
  {
   "cell_type": "code",
   "execution_count": 25,
   "id": "8566ac57",
   "metadata": {},
   "outputs": [
    {
     "name": "stdout",
     "output_type": "stream",
     "text": [
      "\u001b[1;31mSignature:\u001b[0m\n",
      "\u001b[0mmodel\u001b[0m\u001b[1;33m.\u001b[0m\u001b[0mevaluate\u001b[0m\u001b[1;33m(\u001b[0m\u001b[1;33m\n",
      "\u001b[0m    \u001b[0mx\u001b[0m\u001b[1;33m=\u001b[0m\u001b[1;32mNone\u001b[0m\u001b[1;33m,\u001b[0m\u001b[1;33m\n",
      "\u001b[0m    \u001b[0my\u001b[0m\u001b[1;33m=\u001b[0m\u001b[1;32mNone\u001b[0m\u001b[1;33m,\u001b[0m\u001b[1;33m\n",
      "\u001b[0m    \u001b[0mbatch_size\u001b[0m\u001b[1;33m=\u001b[0m\u001b[1;32mNone\u001b[0m\u001b[1;33m,\u001b[0m\u001b[1;33m\n",
      "\u001b[0m    \u001b[0mverbose\u001b[0m\u001b[1;33m=\u001b[0m\u001b[1;34m'auto'\u001b[0m\u001b[1;33m,\u001b[0m\u001b[1;33m\n",
      "\u001b[0m    \u001b[0msample_weight\u001b[0m\u001b[1;33m=\u001b[0m\u001b[1;32mNone\u001b[0m\u001b[1;33m,\u001b[0m\u001b[1;33m\n",
      "\u001b[0m    \u001b[0msteps\u001b[0m\u001b[1;33m=\u001b[0m\u001b[1;32mNone\u001b[0m\u001b[1;33m,\u001b[0m\u001b[1;33m\n",
      "\u001b[0m    \u001b[0mcallbacks\u001b[0m\u001b[1;33m=\u001b[0m\u001b[1;32mNone\u001b[0m\u001b[1;33m,\u001b[0m\u001b[1;33m\n",
      "\u001b[0m    \u001b[0mreturn_dict\u001b[0m\u001b[1;33m=\u001b[0m\u001b[1;32mFalse\u001b[0m\u001b[1;33m,\u001b[0m\u001b[1;33m\n",
      "\u001b[0m    \u001b[1;33m**\u001b[0m\u001b[0mkwargs\u001b[0m\u001b[1;33m,\u001b[0m\u001b[1;33m\n",
      "\u001b[0m\u001b[1;33m)\u001b[0m\u001b[1;33m\u001b[0m\u001b[1;33m\u001b[0m\u001b[0m\n",
      "\u001b[1;31mDocstring:\u001b[0m\n",
      "Returns the loss value & metrics values for the model in test mode.\n",
      "\n",
      "Computation is done in batches (see the `batch_size` arg.)\n",
      "\n",
      "Args:\n",
      "    x: Input data. It can be:\n",
      "        - A NumPy array (or array-like), or a list of arrays\n",
      "        (in case the model has multiple inputs).\n",
      "        - A backend-native tensor, or a list of tensors\n",
      "        (in case the model has multiple inputs).\n",
      "        - A dict mapping input names to the corresponding array/tensors,\n",
      "        if the model has named inputs.\n",
      "        - A `keras.utils.PyDataset` returning `(inputs, targets)` or\n",
      "        `(inputs, targets, sample_weights)`.\n",
      "        - A `tf.data.Dataset` yielding `(inputs, targets)` or\n",
      "        `(inputs, targets, sample_weights)`.\n",
      "        - A `torch.utils.data.DataLoader` yielding `(inputs, targets)`\n",
      "        or `(inputs, targets, sample_weights)`.\n",
      "        - A Python generator function yielding `(inputs, targets)` or\n",
      "        `(inputs, targets, sample_weights)`.\n",
      "    y: Target data. Like the input data `x`, it can be either NumPy\n",
      "        array(s) or backend-native tensor(s). If `x` is a\n",
      "        `keras.utils.PyDataset`, `tf.data.Dataset`,\n",
      "        `torch.utils.data.DataLoader` or a Python generator function,\n",
      "        `y` should not be specified since targets will be obtained from\n",
      "        `x`.\n",
      "    batch_size: Integer or `None`.\n",
      "        Number of samples per batch of computation.\n",
      "        If unspecified, `batch_size` will default to 32.\n",
      "        Do not specify the `batch_size` if your input data `x` is a\n",
      "        `keras.utils.PyDataset`, `tf.data.Dataset`,\n",
      "        `torch.utils.data.DataLoader` or Python generator function\n",
      "        since they generate batches.\n",
      "    verbose: `\"auto\"`, 0, 1, or 2. Verbosity mode.\n",
      "        0 = silent, 1 = progress bar, 2 = single line.\n",
      "        `\"auto\"` becomes 1 for most cases.\n",
      "        Note that the progress bar is not\n",
      "        particularly useful when logged to a file, so `verbose=2` is\n",
      "        recommended when not running interactively\n",
      "        (e.g. in a production environment). Defaults to `\"auto\"`.\n",
      "    sample_weight: Optional NumPy array or tensor of weights for\n",
      "        the training samples, used for weighting the loss function\n",
      "        (during training only). You can either pass a flat (1D)\n",
      "        NumPy array or tensor with the same length as the input samples\n",
      "        (1:1 mapping between weights and samples), or in the case of\n",
      "        temporal data, you can pass a 2D NumPy array or tensor with\n",
      "        shape `(samples, sequence_length)` to apply a different weight\n",
      "        to every timestep of every sample.\n",
      "        This argument is not supported when `x` is a\n",
      "        `keras.utils.PyDataset`, `tf.data.Dataset`,\n",
      "        `torch.utils.data.DataLoader` or Python generator function.\n",
      "        Instead, provide `sample_weights` as the third element of `x`.\n",
      "        Note that sample weighting does not apply to metrics specified\n",
      "        via the `metrics` argument in `compile()`. To apply sample\n",
      "        weighting to your metrics, you can specify them via the\n",
      "        `weighted_metrics` in `compile()` instead.\n",
      "    steps: Integer or `None`.\n",
      "        Total number of steps (batches of samples) to draw before\n",
      "        declaring the evaluation round finished. If `steps` is `None`,\n",
      "        it will run until `x` is exhausted. In the case of an infinitely\n",
      "        repeating dataset, it will run indefinitely.\n",
      "    callbacks: List of `keras.callbacks.Callback` instances.\n",
      "        List of callbacks to apply during evaluation.\n",
      "    return_dict: If `True`, loss and metric results are returned as a\n",
      "        dict, with each key being the name of the metric.\n",
      "        If `False`, they are returned as a list.\n",
      "\n",
      "Returns:\n",
      "    Scalar test loss (if the model has a single output and no metrics)\n",
      "    or list of scalars (if the model has multiple outputs\n",
      "    and/or metrics). The attribute `model.metrics_names` will give you\n",
      "    the display labels for the scalar outputs.\n",
      "\u001b[1;31mFile:\u001b[0m      c:\\users\\angelique\\anaconda3\\envs\\essai\\lib\\site-packages\\keras\\src\\backend\\tensorflow\\trainer.py\n",
      "\u001b[1;31mType:\u001b[0m      method"
     ]
    }
   ],
   "source": [
    "model.evaluate?"
   ]
  },
  {
   "cell_type": "code",
   "execution_count": 43,
   "id": "67bc1441",
   "metadata": {},
   "outputs": [
    {
     "name": "stdout",
     "output_type": "stream",
     "text": [
      "The loss_val is: 0.00012411356146913022\n",
      "The precision is: 1.0\n"
     ]
    }
   ],
   "source": [
    "print(f\"The loss_val is: {evaluation[0]}\\nThe precision is: {evaluation[1]}\")"
   ]
  },
  {
   "cell_type": "code",
   "execution_count": 42,
   "id": "3acee18e-86e9-4311-9cd2-25f4c8817b15",
   "metadata": {
    "scrolled": true
   },
   "outputs": [
    {
     "name": "stdout",
     "output_type": "stream",
     "text": [
      "\u001b[1m5/5\u001b[0m \u001b[32m━━━━━━━━━━━━━━━━━━━━\u001b[0m\u001b[37m\u001b[0m \u001b[1m0s\u001b[0m 14ms/step\n",
      "(149,)\n",
      "(149,)\n",
      "1.0\n",
      "              precision    recall  f1-score   support\n",
      "\n",
      "           0       1.00      1.00      1.00        14\n",
      "           1       1.00      1.00      1.00        15\n",
      "           2       1.00      1.00      1.00        10\n",
      "           3       1.00      1.00      1.00        17\n",
      "           4       1.00      1.00      1.00        13\n",
      "           5       1.00      1.00      1.00        10\n",
      "           6       1.00      1.00      1.00         8\n",
      "           7       1.00      1.00      1.00        16\n",
      "           8       1.00      1.00      1.00        10\n",
      "           9       1.00      1.00      1.00        15\n",
      "          10       1.00      1.00      1.00        11\n",
      "          11       1.00      1.00      1.00        10\n",
      "\n",
      "    accuracy                           1.00       149\n",
      "   macro avg       1.00      1.00      1.00       149\n",
      "weighted avg       1.00      1.00      1.00       149\n",
      "\n"
     ]
    }
   ],
   "source": [
    "# TODO - Evaluate the model: try to use precision_score. Remember for that you'd need to use y_test_temp \n",
    "# and calculate the prediction with higher probability for each image that output layer gives 12 probabilities Tip: use .argmax()\n",
    "y_predict = model.predict(X_test)\n",
    "\n",
    "predict_class = []\n",
    "for y in y_predict:\n",
    "    predict_class.append(np.argmax(y))\n",
    "\n",
    "predict_class = np.array(predict_class)\n",
    "print(y_test_temp.shape)\n",
    "print(predict_class.shape)\n",
    "\n",
    "from sklearn.metrics import precision_score as ps, classification_report\n",
    "precision = ps(y_test_temp,predict_class, average=\"macro\") # I chose macro average because we have a uniform distribution of the classes.\n",
    "print(precision)\n",
    "\n",
    "print(classification_report(y_test_temp,predict_class))"
   ]
  },
  {
   "cell_type": "markdown",
   "id": "3e4462c2-0d5f-47b2-8719-6625750db910",
   "metadata": {},
   "source": [
    "# Review - NLP\n",
    "- Tokenisation\n",
    "- Supervised Classification\n",
    "- Unsupervised Text Exploration"
   ]
  },
  {
   "cell_type": "code",
   "execution_count": 23,
   "id": "22f95c89-d0ca-4e12-bae5-feb42c9a72d7",
   "metadata": {},
   "outputs": [],
   "source": [
    "# Load BBC News\n",
    "bbc_df = pd.read_csv(\"data/bbc_news/BBC_News.csv\")"
   ]
  },
  {
   "cell_type": "code",
   "execution_count": 24,
   "id": "012e242f-ca08-4ab6-b4cd-5bc388199e8a",
   "metadata": {},
   "outputs": [
    {
     "data": {
      "text/html": [
       "<div>\n",
       "<style scoped>\n",
       "    .dataframe tbody tr th:only-of-type {\n",
       "        vertical-align: middle;\n",
       "    }\n",
       "\n",
       "    .dataframe tbody tr th {\n",
       "        vertical-align: top;\n",
       "    }\n",
       "\n",
       "    .dataframe thead th {\n",
       "        text-align: right;\n",
       "    }\n",
       "</style>\n",
       "<table border=\"1\" class=\"dataframe\">\n",
       "  <thead>\n",
       "    <tr style=\"text-align: right;\">\n",
       "      <th></th>\n",
       "      <th>ArticleId</th>\n",
       "      <th>Text</th>\n",
       "      <th>Category</th>\n",
       "    </tr>\n",
       "  </thead>\n",
       "  <tbody>\n",
       "    <tr>\n",
       "      <th>0</th>\n",
       "      <td>1833</td>\n",
       "      <td>worldcom ex-boss launches defence lawyers defe...</td>\n",
       "      <td>business</td>\n",
       "    </tr>\n",
       "    <tr>\n",
       "      <th>1</th>\n",
       "      <td>154</td>\n",
       "      <td>german business confidence slides german busin...</td>\n",
       "      <td>business</td>\n",
       "    </tr>\n",
       "    <tr>\n",
       "      <th>2</th>\n",
       "      <td>1101</td>\n",
       "      <td>bbc poll indicates economic gloom citizens in ...</td>\n",
       "      <td>business</td>\n",
       "    </tr>\n",
       "    <tr>\n",
       "      <th>3</th>\n",
       "      <td>1976</td>\n",
       "      <td>lifestyle  governs mobile choice  faster  bett...</td>\n",
       "      <td>tech</td>\n",
       "    </tr>\n",
       "    <tr>\n",
       "      <th>4</th>\n",
       "      <td>917</td>\n",
       "      <td>enron bosses in $168m payout eighteen former e...</td>\n",
       "      <td>business</td>\n",
       "    </tr>\n",
       "  </tbody>\n",
       "</table>\n",
       "</div>"
      ],
      "text/plain": [
       "   ArticleId                                               Text  Category\n",
       "0       1833  worldcom ex-boss launches defence lawyers defe...  business\n",
       "1        154  german business confidence slides german busin...  business\n",
       "2       1101  bbc poll indicates economic gloom citizens in ...  business\n",
       "3       1976  lifestyle  governs mobile choice  faster  bett...      tech\n",
       "4        917  enron bosses in $168m payout eighteen former e...  business"
      ]
     },
     "execution_count": 24,
     "metadata": {},
     "output_type": "execute_result"
    }
   ],
   "source": [
    "bbc_df.head()"
   ]
  },
  {
   "cell_type": "code",
   "execution_count": 25,
   "id": "2e482538",
   "metadata": {},
   "outputs": [
    {
     "name": "stdout",
     "output_type": "stream",
     "text": [
      "<class 'pandas.core.frame.DataFrame'>\n",
      "RangeIndex: 1490 entries, 0 to 1489\n",
      "Data columns (total 3 columns):\n",
      " #   Column     Non-Null Count  Dtype \n",
      "---  ------     --------------  ----- \n",
      " 0   ArticleId  1490 non-null   int64 \n",
      " 1   Text       1490 non-null   object\n",
      " 2   Category   1490 non-null   object\n",
      "dtypes: int64(1), object(2)\n",
      "memory usage: 35.1+ KB\n"
     ]
    }
   ],
   "source": [
    "bbc_df.info()"
   ]
  },
  {
   "cell_type": "markdown",
   "id": "044e41ea-90a2-4fd9-b194-cc78cf5b4af9",
   "metadata": {},
   "source": [
    "#### **Q1.** Check the Category column: how many categories do we have?"
   ]
  },
  {
   "cell_type": "code",
   "execution_count": 26,
   "id": "1dcd556f-6c15-4a7c-98fe-0df7a09e371c",
   "metadata": {},
   "outputs": [
    {
     "name": "stdout",
     "output_type": "stream",
     "text": [
      "We have 5 categories:\n",
      "Index(['business', 'entertainment', 'politics', 'sport', 'tech'], dtype='object')\n"
     ]
    }
   ],
   "source": [
    "# Q1. TODO\n",
    "bbc_df[\"Category\"] = bbc_df[\"Category\"].astype(\"category\")\n",
    "categories = bbc_df[\"Category\"].cat.categories\n",
    "print(f\"We have {len(categories)} categories:\\n{categories}\")"
   ]
  },
  {
   "cell_type": "markdown",
   "id": "40eb2e55-32fb-4ce0-9de6-96295f06389b",
   "metadata": {},
   "source": [
    "#### **Q2.** Check the Category column: is your dataset balanced? At this point comment on the possible challenges you will have when building a Supervised Classification model to detect if a news belows to a specific category e.g., ArticleId classified as \"tech\""
   ]
  },
  {
   "cell_type": "code",
   "execution_count": 27,
   "id": "4ed59a7e-a4a0-4f6b-b995-f37ade3b74d2",
   "metadata": {},
   "outputs": [
    {
     "data": {
      "image/png": "[encoded data removed]",
      "text/plain": [
       "<Figure size 500x500 with 1 Axes>"
      ]
     },
     "metadata": {},
     "output_type": "display_data"
    }
   ],
   "source": [
    "# Q2. TODO\n",
    "sns.displot(bbc_df[\"Category\"])\n",
    "plt.xticks(rotation=90)\n",
    "plt.show()"
   ]
  },
  {
   "cell_type": "code",
   "execution_count": 28,
   "id": "b7ff3830",
   "metadata": {},
   "outputs": [
    {
     "name": "stdout",
     "output_type": "stream",
     "text": [
      "      Categories  proportion\n",
      "0          sport    0.232215\n",
      "1       business    0.225503\n",
      "2       politics    0.183893\n",
      "3  entertainment    0.183221\n",
      "4           tech    0.175168\n"
     ]
    }
   ],
   "source": [
    "proportions = bbc_df[\"Category\"].value_counts(normalize=True).reset_index()\n",
    "proportions.columns = [\"Categories\",\"proportion\"]\n",
    "print(proportions)"
   ]
  },
  {
   "cell_type": "code",
   "execution_count": 29,
   "id": "0ec54cdf",
   "metadata": {},
   "outputs": [
    {
     "data": {
      "text/plain": [
       "Power_divergenceResult(statistic=0.014229088779784686, pvalue=0.9999748113477643)"
      ]
     },
     "execution_count": 29,
     "metadata": {},
     "output_type": "execute_result"
    }
   ],
   "source": [
    "from scipy.stats import chisquare\n",
    "p=1/5\n",
    "proportions[\"uniform\"] = [p]*5\n",
    "\n",
    "chisquare(f_obs=proportions[\"proportion\"], f_exp=proportions[\"uniform\"])"
   ]
  },
  {
   "cell_type": "markdown",
   "id": "0840ce91",
   "metadata": {},
   "source": [
    "I can conclude that the categories are uniformly distributed and therefore my dataset is balanced."
   ]
  },
  {
   "cell_type": "markdown",
   "id": "45572830-aed0-4875-b4b8-9e2d1ca076c6",
   "metadata": {},
   "source": [
    "#### **Q3.** Build a function *preprocess_news* to tokenise the news articles\n",
    "    - Choose a tokeniser that fits the needs for the type of text you'd expect to encounter in a news article\n",
    "    - Remove non-relevant characters e.g., special characters\n",
    "    - Run Stemming for verbs\n",
    "    - Remove stopwords"
   ]
  },
  {
   "cell_type": "code",
   "execution_count": 30,
   "id": "a9c23edf-36a2-4347-8e77-3908f1ff99eb",
   "metadata": {},
   "outputs": [
    {
     "name": "stdout",
     "output_type": "stream",
     "text": [
      "worldcom ex-boss launches defence lawyers defending former worldcom chief bernie ebbers against a battery of fraud charges have called a company whistleblower as their first witness.  cynthia cooper  worldcom s ex-head of internal accounting  alerted directors to irregular accounting practices at the us telecoms giant in 2002. her warnings led to the collapse of the firm following the discovery of an $11bn (£5.7bn) accounting fraud. mr ebbers has pleaded not guilty to charges of fraud and conspiracy.  prosecution lawyers have argued that mr ebbers orchestrated a series of accounting tricks at worldcom  ordering employees to hide expenses and inflate revenues to meet wall street earnings estimates. but ms cooper  who now runs her own consulting business  told a jury in new york on wednesday that external auditors arthur andersen had approved worldcom s accounting in early 2001 and 2002. she said andersen had given a  green light  to the procedures and practices used by worldcom. mr ebber s lawyers have said he was unaware of the fraud  arguing that auditors did not alert him to any problems.  ms cooper also said that during shareholder meetings mr ebbers often passed over technical questions to the company s finance chief  giving only  brief  answers himself. the prosecution s star witness  former worldcom financial chief scott sullivan  has said that mr ebbers ordered accounting adjustments at the firm  telling him to  hit our books . however  ms cooper said mr sullivan had not mentioned  anything uncomfortable  about worldcom s accounting during a 2001 audit committee meeting. mr ebbers could face a jail sentence of 85 years if convicted of all the charges he is facing. worldcom emerged from bankruptcy protection in 2004  and is now known as mci. last week  mci agreed to a buyout by verizon communications in a deal valued at $6.75bn.\n"
     ]
    }
   ],
   "source": [
    "# Q3. TODO\n",
    "for text in bbc_df[\"Text\"]:\n",
    "    print(text)\n",
    "    break"
   ]
  },
  {
   "cell_type": "code",
   "execution_count": 31,
   "id": "9616ac8b",
   "metadata": {},
   "outputs": [],
   "source": [
    "from nltk.corpus import stopwords\n",
    "from nltk import word_tokenize\n",
    "from nltk.tokenize import RegexpTokenizer\n",
    "from nltk.stem import PorterStemmer"
   ]
  },
  {
   "cell_type": "code",
   "execution_count": 32,
   "id": "93a850fa",
   "metadata": {},
   "outputs": [],
   "source": [
    "def preprocess_news(text):\n",
    "    stop_eng = stopwords.words(\"english\")\n",
    "    regex = RegexpTokenizer(r\"\\w+\")\n",
    "    ps = PorterStemmer()\n",
    "\n",
    "    tokens = regex.tokenize(text)\n",
    "    toks_stop = []\n",
    "    for word in tokens:\n",
    "        if word not in stop_eng:\n",
    "            toks_stop.append(word)\n",
    "\n",
    "    stems = [ps.stem(tok) for tok in toks_stop]\n",
    "\n",
    "    return stems\n"
   ]
  },
  {
   "cell_type": "markdown",
   "id": "87f1795f-09f7-487a-9eb8-1caf1fbc20b7",
   "metadata": {},
   "source": [
    "#### **Q4.** Test the function preprocess_news for the first 5 news articles\n",
    "\n",
    "e.g., the first news article output should be \n",
    "\n",
    "['worldcom', 'ex', 'boss', 'launch', 'defenc', 'lawyer', 'defend', 'former', 'worldcom', 'chief', 'berni', 'ebber', 'batteri', 'fraud', 'charg', 'call', 'compani', 'whistleblow', 'first', 'wit', 'cynthia', 'cooper', 'worldcom', 'ex', 'head', 'intern', 'account', 'alert', 'director', 'irregular', 'account', 'practic', 'us', 'telecom', 'giant', '2002', 'warn', 'led', 'collaps', 'firm', 'follow', 'discoveri', '11bn', '5', '7bn', 'account', 'fraud', 'mr', 'ebber', 'plead', 'guilti', 'charg', 'fraud', 'conspiraci', 'prosecut', 'lawyer', 'argu', 'mr', 'ebber', 'orchestr', 'seri', 'account', 'trick', 'worldcom', 'order', 'employe', 'hide', 'expens', 'inflat', 'revenu', 'meet', 'wall', 'street', 'earn', 'estim', 'ms', 'cooper', 'run', 'consult', 'busi', 'told', 'juri', 'new', 'york', 'wednesday', 'extern', 'auditor', 'arthur', 'andersen', 'approv', 'worldcom', 'account', 'earli', '2001', '2002', 'said', 'andersen', 'given', 'green', 'light', 'procedur', 'practic', 'use', 'worldcom', 'mr', 'ebber', 'lawyer', 'said', 'unawar', 'fraud', 'argu', 'auditor', 'alert', 'ani', 'problem', 'ms', 'cooper', 'also', 'said', 'dure', 'sharehold', 'meet', 'mr', 'ebber', 'often', 'pass', 'technic', 'question', 'compani', 'financ', 'chief', 'give', 'onli', 'brief', 'answer', 'prosecut', 'star', 'wit', 'former', 'worldcom', 'financi', 'chief', 'scott', 'sullivan', 'said', 'mr', 'ebber', 'order', 'account', 'adjust', 'firm', 'tell', 'hit', 'book', 'howev', 'ms', 'cooper', 'said', 'mr', 'sullivan', 'mention', 'anyth', 'uncomfort', 'worldcom', 'account', 'dure', '2001', 'audit', 'committe', 'meet', 'mr', 'ebber', 'could', 'face', 'jail', 'sentenc', '85', 'year', 'convict', 'charg', 'face', 'worldcom', 'emerg', 'bankruptci', 'protect', '2004', 'known', 'mci', 'last', 'week', 'mci', 'agre', 'buyout', 'verizon', 'communic', 'deal', 'valu', '6', '75bn']"
   ]
  },
  {
   "cell_type": "code",
   "execution_count": 33,
   "id": "1020037a-9704-425e-bc4f-c60c7ee5dbf2",
   "metadata": {},
   "outputs": [
    {
     "name": "stdout",
     "output_type": "stream",
     "text": [
      "['worldcom', 'ex', 'boss', 'launch', 'defenc', 'lawyer', 'defend', 'former', 'worldcom', 'chief', 'berni', 'ebber', 'batteri', 'fraud', 'charg', 'call', 'compani', 'whistleblow', 'first', 'wit', 'cynthia', 'cooper', 'worldcom', 'ex', 'head', 'intern', 'account', 'alert', 'director', 'irregular', 'account', 'practic', 'us', 'telecom', 'giant', '2002', 'warn', 'led', 'collaps', 'firm', 'follow', 'discoveri', '11bn', '5', '7bn', 'account', 'fraud', 'mr', 'ebber', 'plead', 'guilti', 'charg', 'fraud', 'conspiraci', 'prosecut', 'lawyer', 'argu', 'mr', 'ebber', 'orchestr', 'seri', 'account', 'trick', 'worldcom', 'order', 'employe', 'hide', 'expens', 'inflat', 'revenu', 'meet', 'wall', 'street', 'earn', 'estim', 'ms', 'cooper', 'run', 'consult', 'busi', 'told', 'juri', 'new', 'york', 'wednesday', 'extern', 'auditor', 'arthur', 'andersen', 'approv', 'worldcom', 'account', 'earli', '2001', '2002', 'said', 'andersen', 'given', 'green', 'light', 'procedur', 'practic', 'use', 'worldcom', 'mr', 'ebber', 'lawyer', 'said', 'unawar', 'fraud', 'argu', 'auditor', 'alert', 'problem', 'ms', 'cooper', 'also', 'said', 'sharehold', 'meet', 'mr', 'ebber', 'often', 'pass', 'technic', 'question', 'compani', 'financ', 'chief', 'give', 'brief', 'answer', 'prosecut', 'star', 'wit', 'former', 'worldcom', 'financi', 'chief', 'scott', 'sullivan', 'said', 'mr', 'ebber', 'order', 'account', 'adjust', 'firm', 'tell', 'hit', 'book', 'howev', 'ms', 'cooper', 'said', 'mr', 'sullivan', 'mention', 'anyth', 'uncomfort', 'worldcom', 'account', '2001', 'audit', 'committe', 'meet', 'mr', 'ebber', 'could', 'face', 'jail', 'sentenc', '85', 'year', 'convict', 'charg', 'face', 'worldcom', 'emerg', 'bankruptci', 'protect', '2004', 'known', 'mci', 'last', 'week', 'mci', 'agre', 'buyout', 'verizon', 'commun', 'deal', 'valu', '6', '75bn']\n"
     ]
    }
   ],
   "source": [
    "# TODO\n",
    "text_1 = preprocess_news(bbc_df[\"Text\"].iloc[0])\n",
    "print(text_1)"
   ]
  },
  {
   "cell_type": "markdown",
   "id": "363b3bf4-0ee2-4d33-abd2-17b0d446b435",
   "metadata": {},
   "source": [
    "#### **Q5.** Prepare your data for classification\n",
    "    - Split your data in train/test use 30% for test and random seed 123\n",
    "    - Represent train and test data in the same feature space by using your custom function (*preprocess_news*) and TFIDF weighting scheme"
   ]
  },
  {
   "cell_type": "code",
   "execution_count": 34,
   "id": "a528b6a6-1392-4cde-a6e2-0e7f467bd222",
   "metadata": {},
   "outputs": [],
   "source": [
    "# TODO - Split your data in train/test use 30% for test and random seed 123\n",
    "from sklearn.model_selection import train_test_split\n",
    "X = bbc_df[\"Text\"]\n",
    "y = bbc_df[\"Category\"]\n",
    "\n",
    "X_train,X_test,y_train,y_test = train_test_split(X,y, test_size=0.3, stratify=y, random_state=123) #the categories are statistically uniformly distributed. But I prefer to keep as much as possible the distribution\n"
   ]
  },
  {
   "cell_type": "code",
   "execution_count": 35,
   "id": "7cfeccf2-17db-49a4-973d-31a63b581950",
   "metadata": {},
   "outputs": [
    {
     "data": {
      "text/plain": [
       "(1043, 1000)"
      ]
     },
     "execution_count": 35,
     "metadata": {},
     "output_type": "execute_result"
    }
   ],
   "source": [
    "# TODO - Represent train and test data in the same feature space by using your custom function (*preprocess_news*) and TFIDF weighting scheme\n",
    "from sklearn.feature_extraction.text import TfidfVectorizer\n",
    "tfidf = TfidfVectorizer(analyzer=preprocess_news, max_features=1000)\n",
    "X_train_vec = tfidf.fit_transform(X_train)\n",
    "X_test_vec = tfidf.transform(X_test)\n",
    "\n",
    "X_train_vec.shape\n"
   ]
  },
  {
   "cell_type": "markdown",
   "id": "5fcdb22a-803b-4cd2-8579-69f76fa5972a",
   "metadata": {},
   "source": [
    "#### **Q6.** Build a supervised model and evaluate the model performance\n",
    "    - Use Support Vector Machines (https://scikit-learn.org/stable/modules/svm.html)\n",
    "    - Evaluate the model performance: use micro and macro averaging (use 4 decimal cases e.g., 0.8123)\n",
    "    - Build a heatmap with seaborn package to see the percentage of TP per each class and the incorrect classifications where they were missclassified. Format the heatmap to \n",
    "        - show the % with 2 decimal cases\n",
    "        - show in x and y ticks the labels for the Categories names e.g., \"tech\"\n",
    "        - show in x and y the the labels for predicted and actual"
   ]
  },
  {
   "cell_type": "code",
   "execution_count": 36,
   "id": "ee6f7e41-cdc9-4c6e-a96c-403db5c93c02",
   "metadata": {},
   "outputs": [],
   "source": [
    "# TODO - Use Support Vector Machines (https://scikit-learn.org/stable/modules/svm.html)\n",
    "from sklearn.decomposition import NMF\n",
    "from sklearn.naive_bayes import MultinomialNB\n",
    "from sklearn.neighbors import KNeighborsClassifier\n",
    "\n",
    "from sklearn.metrics import confusion_matrix, classification_report, precision_score\n"
   ]
  },
  {
   "cell_type": "markdown",
   "id": "dacc7d1d",
   "metadata": {},
   "source": [
    "I will first try the naive bayes without reducing the dimensions as it is said that it works well with big dimensions. If it's not good then I will first reduce the dimensions and use a KNN model."
   ]
  },
  {
   "cell_type": "code",
   "execution_count": 37,
   "id": "77cd9aad-e6e3-4235-aba0-8c2a399a6f16",
   "metadata": {},
   "outputs": [
    {
     "name": "stdout",
     "output_type": "stream",
     "text": [
      "['business' 'entertainment' 'politics' 'sport' 'tech']\n"
     ]
    }
   ],
   "source": [
    "# TODO - Evaluate the model performance: use micro and macro averaging\n",
    "nb = MultinomialNB()\n",
    "nb.fit(X_train_vec,y_train)\n",
    "y_predict = nb.predict(X_test_vec)\n",
    "\n",
    "classes = nb.classes_\n",
    "print(classes)"
   ]
  },
  {
   "cell_type": "code",
   "execution_count": 45,
   "id": "94924c38",
   "metadata": {},
   "outputs": [],
   "source": [
    "def matrix_visu(y_test,y_pred,classes):\n",
    "    cm = confusion_matrix(y_test,y_pred,labels=classes)\n",
    "    sns.heatmap(cm, annot=True)\n",
    "    plt.title('Confusion matrix of the classifier\\n')\n",
    "    plt.xlabel('Predicted')\n",
    "    plt.ylabel('True')\n",
    "    plt.show()"
   ]
  },
  {
   "cell_type": "code",
   "execution_count": 46,
   "id": "3f65386b",
   "metadata": {},
   "outputs": [
    {
     "data": {
      "image/png": "[encoded data removed]",
      "text/plain": [
       "<Figure size 640x480 with 2 Axes>"
      ]
     },
     "metadata": {},
     "output_type": "display_data"
    }
   ],
   "source": [
    "matrix_visu(y_test=y_test, y_pred=y_predict, classes=classes)"
   ]
  },
  {
   "cell_type": "markdown",
   "id": "40f08e90",
   "metadata": {},
   "source": [
    "That's not bad at all. The cells in the diagonale are the TP for each class. "
   ]
  },
  {
   "cell_type": "code",
   "execution_count": 47,
   "id": "9104d029",
   "metadata": {},
   "outputs": [
    {
     "name": "stdout",
     "output_type": "stream",
     "text": [
      "               precision    recall  f1-score   support\n",
      "\n",
      "     business       0.94      0.94      0.94       101\n",
      "entertainment       1.00      0.95      0.97        82\n",
      "     politics       0.94      0.95      0.95        82\n",
      "        sport       0.98      1.00      0.99       104\n",
      "         tech       0.95      0.96      0.96        78\n",
      "\n",
      "     accuracy                           0.96       447\n",
      "    macro avg       0.96      0.96      0.96       447\n",
      " weighted avg       0.96      0.96      0.96       447\n",
      "\n"
     ]
    }
   ],
   "source": [
    "print(classification_report(y_test,y_predict))"
   ]
  },
  {
   "cell_type": "code",
   "execution_count": 48,
   "id": "2f84f824",
   "metadata": {},
   "outputs": [
    {
     "name": "stdout",
     "output_type": "stream",
     "text": [
      "0.96\n"
     ]
    }
   ],
   "source": [
    "precision_NB = round(precision_score(y_test,y_predict, average=\"macro\"),2)\n",
    "print(precision_NB)"
   ]
  },
  {
   "cell_type": "code",
   "execution_count": 21,
   "id": "1a038d53-cc53-4cc8-a119-0ef72fbbea15",
   "metadata": {},
   "outputs": [],
   "source": [
    "# TODO - Build a heatmap with seaborn package to see the percentage of TP per each class and the incorrect classifications where they were missclassified. Format the heatmap to \n",
    "#        - show the % with 2 decimal cases\n",
    "#        - show in x and y ticks the labels for the Categories names e.g., \"tech\"\n",
    "#        - show in x and y the the labels for predicted and actual\n"
   ]
  },
  {
   "cell_type": "code",
   "execution_count": 49,
   "id": "e8f387f6",
   "metadata": {},
   "outputs": [
    {
     "name": "stdout",
     "output_type": "stream",
     "text": [
      "[[ 95   0   3   0   3]\n",
      " [  1  78   2   0   1]\n",
      " [  4   0  78   0   0]\n",
      " [  0   0   0 104   0]\n",
      " [  1   0   0   2  75]]\n"
     ]
    }
   ],
   "source": [
    "conf_matrix = confusion_matrix(y_test,y_predict)\n",
    "print(conf_matrix)"
   ]
  },
  {
   "cell_type": "code",
   "execution_count": 50,
   "id": "ec7bb5dd",
   "metadata": {},
   "outputs": [
    {
     "name": "stdout",
     "output_type": "stream",
     "text": [
      "['business' 'entertainment' 'politics' 'sport' 'tech']\n"
     ]
    },
    {
     "data": {
      "text/html": [
       "<div>\n",
       "<style scoped>\n",
       "    .dataframe tbody tr th:only-of-type {\n",
       "        vertical-align: middle;\n",
       "    }\n",
       "\n",
       "    .dataframe tbody tr th {\n",
       "        vertical-align: top;\n",
       "    }\n",
       "\n",
       "    .dataframe thead th {\n",
       "        text-align: right;\n",
       "    }\n",
       "</style>\n",
       "<table border=\"1\" class=\"dataframe\">\n",
       "  <thead>\n",
       "    <tr style=\"text-align: right;\">\n",
       "      <th></th>\n",
       "      <th>business</th>\n",
       "      <th>entertainment</th>\n",
       "      <th>politics</th>\n",
       "      <th>sport</th>\n",
       "      <th>tech</th>\n",
       "    </tr>\n",
       "  </thead>\n",
       "  <tbody>\n",
       "    <tr>\n",
       "      <th>business</th>\n",
       "      <td>0.21</td>\n",
       "      <td>0.00</td>\n",
       "      <td>0.01</td>\n",
       "      <td>0.00</td>\n",
       "      <td>0.01</td>\n",
       "    </tr>\n",
       "    <tr>\n",
       "      <th>entertainment</th>\n",
       "      <td>0.00</td>\n",
       "      <td>0.17</td>\n",
       "      <td>0.00</td>\n",
       "      <td>0.00</td>\n",
       "      <td>0.00</td>\n",
       "    </tr>\n",
       "    <tr>\n",
       "      <th>politics</th>\n",
       "      <td>0.01</td>\n",
       "      <td>0.00</td>\n",
       "      <td>0.17</td>\n",
       "      <td>0.00</td>\n",
       "      <td>0.00</td>\n",
       "    </tr>\n",
       "    <tr>\n",
       "      <th>sport</th>\n",
       "      <td>0.00</td>\n",
       "      <td>0.00</td>\n",
       "      <td>0.00</td>\n",
       "      <td>0.23</td>\n",
       "      <td>0.00</td>\n",
       "    </tr>\n",
       "    <tr>\n",
       "      <th>tech</th>\n",
       "      <td>0.00</td>\n",
       "      <td>0.00</td>\n",
       "      <td>0.00</td>\n",
       "      <td>0.00</td>\n",
       "      <td>0.17</td>\n",
       "    </tr>\n",
       "  </tbody>\n",
       "</table>\n",
       "</div>"
      ],
      "text/plain": [
       "               business  entertainment  politics  sport  tech\n",
       "business           0.21           0.00      0.01   0.00  0.01\n",
       "entertainment      0.00           0.17      0.00   0.00  0.00\n",
       "politics           0.01           0.00      0.17   0.00  0.00\n",
       "sport              0.00           0.00      0.00   0.23  0.00\n",
       "tech               0.00           0.00      0.00   0.00  0.17"
      ]
     },
     "execution_count": 50,
     "metadata": {},
     "output_type": "execute_result"
    }
   ],
   "source": [
    "conf_matrix = pd.DataFrame(conf_matrix, columns=classes, index=classes)\n",
    "total = len(y_test)\n",
    "print(classes)\n",
    "\n",
    "for col in conf_matrix.columns:\n",
    "   conf_matrix[col] = (conf_matrix[col]/total).round(2)\n",
    "\n",
    "conf_matrix"
   ]
  },
  {
   "cell_type": "code",
   "execution_count": 51,
   "id": "401c9d44",
   "metadata": {},
   "outputs": [
    {
     "data": {
      "image/png": "[encoded data removed]",
      "text/plain": [
       "<Figure size 640x480 with 2 Axes>"
      ]
     },
     "metadata": {},
     "output_type": "display_data"
    }
   ],
   "source": [
    "sns.heatmap(conf_matrix, annot=True)\n",
    "plt.xlabel(\"Actual\")\n",
    "plt.ylabel(\"Predicted\")\n",
    "plt.show()"
   ]
  },
  {
   "cell_type": "markdown",
   "id": "267cb86b-b2ff-4778-8ed1-3a88d0dae8da",
   "metadata": {},
   "source": [
    "#### **Q7.** Use Word2Vec Gensim model to build the word vectors for the BBC News Articles\n",
    "    - For tokenisation use the function implemented before *preprocess_news*\n",
    "    - Use minimum frequency of each token of 2"
   ]
  },
  {
   "cell_type": "code",
   "execution_count": 52,
   "id": "22d16b0e-7c2a-4dbe-a2a9-8e9269156b05",
   "metadata": {},
   "outputs": [
    {
     "name": "stdout",
     "output_type": "stream",
     "text": [
      "\u001b[1;31mInit signature:\u001b[0m\n",
      "\u001b[0mWord2Vec\u001b[0m\u001b[1;33m(\u001b[0m\u001b[1;33m\n",
      "\u001b[0m    \u001b[0msentences\u001b[0m\u001b[1;33m=\u001b[0m\u001b[1;32mNone\u001b[0m\u001b[1;33m,\u001b[0m\u001b[1;33m\n",
      "\u001b[0m    \u001b[0mcorpus_file\u001b[0m\u001b[1;33m=\u001b[0m\u001b[1;32mNone\u001b[0m\u001b[1;33m,\u001b[0m\u001b[1;33m\n",
      "\u001b[0m    \u001b[0mvector_size\u001b[0m\u001b[1;33m=\u001b[0m\u001b[1;36m100\u001b[0m\u001b[1;33m,\u001b[0m\u001b[1;33m\n",
      "\u001b[0m    \u001b[0malpha\u001b[0m\u001b[1;33m=\u001b[0m\u001b[1;36m0.025\u001b[0m\u001b[1;33m,\u001b[0m\u001b[1;33m\n",
      "\u001b[0m    \u001b[0mwindow\u001b[0m\u001b[1;33m=\u001b[0m\u001b[1;36m5\u001b[0m\u001b[1;33m,\u001b[0m\u001b[1;33m\n",
      "\u001b[0m    \u001b[0mmin_count\u001b[0m\u001b[1;33m=\u001b[0m\u001b[1;36m5\u001b[0m\u001b[1;33m,\u001b[0m\u001b[1;33m\n",
      "\u001b[0m    \u001b[0mmax_vocab_size\u001b[0m\u001b[1;33m=\u001b[0m\u001b[1;32mNone\u001b[0m\u001b[1;33m,\u001b[0m\u001b[1;33m\n",
      "\u001b[0m    \u001b[0msample\u001b[0m\u001b[1;33m=\u001b[0m\u001b[1;36m0.001\u001b[0m\u001b[1;33m,\u001b[0m\u001b[1;33m\n",
      "\u001b[0m    \u001b[0mseed\u001b[0m\u001b[1;33m=\u001b[0m\u001b[1;36m1\u001b[0m\u001b[1;33m,\u001b[0m\u001b[1;33m\n",
      "\u001b[0m    \u001b[0mworkers\u001b[0m\u001b[1;33m=\u001b[0m\u001b[1;36m3\u001b[0m\u001b[1;33m,\u001b[0m\u001b[1;33m\n",
      "\u001b[0m    \u001b[0mmin_alpha\u001b[0m\u001b[1;33m=\u001b[0m\u001b[1;36m0.0001\u001b[0m\u001b[1;33m,\u001b[0m\u001b[1;33m\n",
      "\u001b[0m    \u001b[0msg\u001b[0m\u001b[1;33m=\u001b[0m\u001b[1;36m0\u001b[0m\u001b[1;33m,\u001b[0m\u001b[1;33m\n",
      "\u001b[0m    \u001b[0mhs\u001b[0m\u001b[1;33m=\u001b[0m\u001b[1;36m0\u001b[0m\u001b[1;33m,\u001b[0m\u001b[1;33m\n",
      "\u001b[0m    \u001b[0mnegative\u001b[0m\u001b[1;33m=\u001b[0m\u001b[1;36m5\u001b[0m\u001b[1;33m,\u001b[0m\u001b[1;33m\n",
      "\u001b[0m    \u001b[0mns_exponent\u001b[0m\u001b[1;33m=\u001b[0m\u001b[1;36m0.75\u001b[0m\u001b[1;33m,\u001b[0m\u001b[1;33m\n",
      "\u001b[0m    \u001b[0mcbow_mean\u001b[0m\u001b[1;33m=\u001b[0m\u001b[1;36m1\u001b[0m\u001b[1;33m,\u001b[0m\u001b[1;33m\n",
      "\u001b[0m    \u001b[0mhashfxn\u001b[0m\u001b[1;33m=\u001b[0m\u001b[1;33m<\u001b[0m\u001b[0mbuilt\u001b[0m\u001b[1;33m-\u001b[0m\u001b[1;32min\u001b[0m \u001b[0mfunction\u001b[0m \u001b[0mhash\u001b[0m\u001b[1;33m>\u001b[0m\u001b[1;33m,\u001b[0m\u001b[1;33m\n",
      "\u001b[0m    \u001b[0mepochs\u001b[0m\u001b[1;33m=\u001b[0m\u001b[1;36m5\u001b[0m\u001b[1;33m,\u001b[0m\u001b[1;33m\n",
      "\u001b[0m    \u001b[0mnull_word\u001b[0m\u001b[1;33m=\u001b[0m\u001b[1;36m0\u001b[0m\u001b[1;33m,\u001b[0m\u001b[1;33m\n",
      "\u001b[0m    \u001b[0mtrim_rule\u001b[0m\u001b[1;33m=\u001b[0m\u001b[1;32mNone\u001b[0m\u001b[1;33m,\u001b[0m\u001b[1;33m\n",
      "\u001b[0m    \u001b[0msorted_vocab\u001b[0m\u001b[1;33m=\u001b[0m\u001b[1;36m1\u001b[0m\u001b[1;33m,\u001b[0m\u001b[1;33m\n",
      "\u001b[0m    \u001b[0mbatch_words\u001b[0m\u001b[1;33m=\u001b[0m\u001b[1;36m10000\u001b[0m\u001b[1;33m,\u001b[0m\u001b[1;33m\n",
      "\u001b[0m    \u001b[0mcompute_loss\u001b[0m\u001b[1;33m=\u001b[0m\u001b[1;32mFalse\u001b[0m\u001b[1;33m,\u001b[0m\u001b[1;33m\n",
      "\u001b[0m    \u001b[0mcallbacks\u001b[0m\u001b[1;33m=\u001b[0m\u001b[1;33m(\u001b[0m\u001b[1;33m)\u001b[0m\u001b[1;33m,\u001b[0m\u001b[1;33m\n",
      "\u001b[0m    \u001b[0mcomment\u001b[0m\u001b[1;33m=\u001b[0m\u001b[1;32mNone\u001b[0m\u001b[1;33m,\u001b[0m\u001b[1;33m\n",
      "\u001b[0m    \u001b[0mmax_final_vocab\u001b[0m\u001b[1;33m=\u001b[0m\u001b[1;32mNone\u001b[0m\u001b[1;33m,\u001b[0m\u001b[1;33m\n",
      "\u001b[0m    \u001b[0mshrink_windows\u001b[0m\u001b[1;33m=\u001b[0m\u001b[1;32mTrue\u001b[0m\u001b[1;33m,\u001b[0m\u001b[1;33m\n",
      "\u001b[0m\u001b[1;33m)\u001b[0m\u001b[1;33m\u001b[0m\u001b[1;33m\u001b[0m\u001b[0m\n",
      "\u001b[1;31mDocstring:\u001b[0m     \n",
      "Serialize/deserialize objects from disk, by equipping them with the `save()` / `load()` methods.\n",
      "\n",
      "Warnings\n",
      "--------\n",
      "This uses pickle internally (among other techniques), so objects must not contain unpicklable attributes\n",
      "such as lambda functions etc.\n",
      "\u001b[1;31mInit docstring:\u001b[0m\n",
      "Train, use and evaluate neural networks described in https://code.google.com/p/word2vec/.\n",
      "\n",
      "Once you're finished training a model (=no more updates, only querying)\n",
      "store and use only the :class:`~gensim.models.keyedvectors.KeyedVectors` instance in ``self.wv``\n",
      "to reduce memory.\n",
      "\n",
      "The full model can be stored/loaded via its :meth:`~gensim.models.word2vec.Word2Vec.save` and\n",
      ":meth:`~gensim.models.word2vec.Word2Vec.load` methods.\n",
      "\n",
      "The trained word vectors can also be stored/loaded from a format compatible with the\n",
      "original word2vec implementation via `self.wv.save_word2vec_format`\n",
      "and :meth:`gensim.models.keyedvectors.KeyedVectors.load_word2vec_format`.\n",
      "\n",
      "Parameters\n",
      "----------\n",
      "sentences : iterable of iterables, optional\n",
      "    The `sentences` iterable can be simply a list of lists of tokens, but for larger corpora,\n",
      "    consider an iterable that streams the sentences directly from disk/network.\n",
      "    See :class:`~gensim.models.word2vec.BrownCorpus`, :class:`~gensim.models.word2vec.Text8Corpus`\n",
      "    or :class:`~gensim.models.word2vec.LineSentence` in :mod:`~gensim.models.word2vec` module for such examples.\n",
      "    See also the `tutorial on data streaming in Python\n",
      "    <https://rare-technologies.com/data-streaming-in-python-generators-iterators-iterables/>`_.\n",
      "    If you don't supply `sentences`, the model is left uninitialized -- use if you plan to initialize it\n",
      "    in some other way.\n",
      "corpus_file : str, optional\n",
      "    Path to a corpus file in :class:`~gensim.models.word2vec.LineSentence` format.\n",
      "    You may use this argument instead of `sentences` to get performance boost. Only one of `sentences` or\n",
      "    `corpus_file` arguments need to be passed (or none of them, in that case, the model is left uninitialized).\n",
      "vector_size : int, optional\n",
      "    Dimensionality of the word vectors.\n",
      "window : int, optional\n",
      "    Maximum distance between the current and predicted word within a sentence.\n",
      "min_count : int, optional\n",
      "    Ignores all words with total frequency lower than this.\n",
      "workers : int, optional\n",
      "    Use these many worker threads to train the model (=faster training with multicore machines).\n",
      "sg : {0, 1}, optional\n",
      "    Training algorithm: 1 for skip-gram; otherwise CBOW.\n",
      "hs : {0, 1}, optional\n",
      "    If 1, hierarchical softmax will be used for model training.\n",
      "    If 0, hierarchical softmax will not be used for model training.\n",
      "negative : int, optional\n",
      "    If > 0, negative sampling will be used, the int for negative specifies how many \"noise words\"\n",
      "    should be drawn (usually between 5-20).\n",
      "    If 0, negative sampling will not be used.\n",
      "ns_exponent : float, optional\n",
      "    The exponent used to shape the negative sampling distribution. A value of 1.0 samples exactly in proportion\n",
      "    to the frequencies, 0.0 samples all words equally, while a negative value samples low-frequency words more\n",
      "    than high-frequency words. The popular default value of 0.75 was chosen by the original Word2Vec paper.\n",
      "    More recently, in https://arxiv.org/abs/1804.04212, Caselles-Dupré, Lesaint, & Royo-Letelier suggest that\n",
      "    other values may perform better for recommendation applications.\n",
      "cbow_mean : {0, 1}, optional\n",
      "    If 0, use the sum of the context word vectors. If 1, use the mean, only applies when cbow is used.\n",
      "alpha : float, optional\n",
      "    The initial learning rate.\n",
      "min_alpha : float, optional\n",
      "    Learning rate will linearly drop to `min_alpha` as training progresses.\n",
      "seed : int, optional\n",
      "    Seed for the random number generator. Initial vectors for each word are seeded with a hash of\n",
      "    the concatenation of word + `str(seed)`. Note that for a fully deterministically-reproducible run,\n",
      "    you must also limit the model to a single worker thread (`workers=1`), to eliminate ordering jitter\n",
      "    from OS thread scheduling. (In Python 3, reproducibility between interpreter launches also requires\n",
      "    use of the `PYTHONHASHSEED` environment variable to control hash randomization).\n",
      "max_vocab_size : int, optional\n",
      "    Limits the RAM during vocabulary building; if there are more unique\n",
      "    words than this, then prune the infrequent ones. Every 10 million word types need about 1GB of RAM.\n",
      "    Set to `None` for no limit.\n",
      "max_final_vocab : int, optional\n",
      "    Limits the vocab to a target vocab size by automatically picking a matching min_count. If the specified\n",
      "    min_count is more than the calculated min_count, the specified min_count will be used.\n",
      "    Set to `None` if not required.\n",
      "sample : float, optional\n",
      "    The threshold for configuring which higher-frequency words are randomly downsampled,\n",
      "    useful range is (0, 1e-5).\n",
      "hashfxn : function, optional\n",
      "    Hash function to use to randomly initialize weights, for increased training reproducibility.\n",
      "epochs : int, optional\n",
      "    Number of iterations (epochs) over the corpus. (Formerly: `iter`)\n",
      "trim_rule : function, optional\n",
      "    Vocabulary trimming rule, specifies whether certain words should remain in the vocabulary,\n",
      "    be trimmed away, or handled using the default (discard if word count < min_count).\n",
      "    Can be None (min_count will be used, look to :func:`~gensim.utils.keep_vocab_item`),\n",
      "    or a callable that accepts parameters (word, count, min_count) and returns either\n",
      "    :attr:`gensim.utils.RULE_DISCARD`, :attr:`gensim.utils.RULE_KEEP` or :attr:`gensim.utils.RULE_DEFAULT`.\n",
      "    The rule, if given, is only used to prune vocabulary during build_vocab() and is not stored as part of the\n",
      "    model.\n",
      "\n",
      "    The input parameters are of the following types:\n",
      "        * `word` (str) - the word we are examining\n",
      "        * `count` (int) - the word's frequency count in the corpus\n",
      "        * `min_count` (int) - the minimum count threshold.\n",
      "sorted_vocab : {0, 1}, optional\n",
      "    If 1, sort the vocabulary by descending frequency before assigning word indexes.\n",
      "    See :meth:`~gensim.models.keyedvectors.KeyedVectors.sort_by_descending_frequency()`.\n",
      "batch_words : int, optional\n",
      "    Target size (in words) for batches of examples passed to worker threads (and\n",
      "    thus cython routines).(Larger batches will be passed if individual\n",
      "    texts are longer than 10000 words, but the standard cython code truncates to that maximum.)\n",
      "compute_loss: bool, optional\n",
      "    If True, computes and stores loss value which can be retrieved using\n",
      "    :meth:`~gensim.models.word2vec.Word2Vec.get_latest_training_loss`.\n",
      "callbacks : iterable of :class:`~gensim.models.callbacks.CallbackAny2Vec`, optional\n",
      "    Sequence of callbacks to be executed at specific stages during training.\n",
      "shrink_windows : bool, optional\n",
      "    New in 4.1. Experimental.\n",
      "    If True, the effective window size is uniformly sampled from  [1, `window`]\n",
      "    for each target word during training, to match the original word2vec algorithm's\n",
      "    approximate weighting of context words by distance. Otherwise, the effective\n",
      "    window size is always fixed to `window` words to either side.\n",
      "\n",
      "Examples\n",
      "--------\n",
      "Initialize and train a :class:`~gensim.models.word2vec.Word2Vec` model\n",
      "\n",
      ".. sourcecode:: pycon\n",
      "\n",
      "    >>> from gensim.models import Word2Vec\n",
      "    >>> sentences = [[\"cat\", \"say\", \"meow\"], [\"dog\", \"say\", \"woof\"]]\n",
      "    >>> model = Word2Vec(sentences, min_count=1)\n",
      "\n",
      "Attributes\n",
      "----------\n",
      "wv : :class:`~gensim.models.keyedvectors.KeyedVectors`\n",
      "    This object essentially contains the mapping between words and embeddings. After training, it can be used\n",
      "    directly to query those embeddings in various ways. See the module level docstring for examples.\n",
      "\u001b[1;31mFile:\u001b[0m           c:\\users\\angelique\\anaconda3\\envs\\essai\\lib\\site-packages\\gensim\\models\\word2vec.py\n",
      "\u001b[1;31mType:\u001b[0m           type\n",
      "\u001b[1;31mSubclasses:\u001b[0m     Doc2Vec, FastText"
     ]
    }
   ],
   "source": [
    "# TODO - Use Word2Vec Gensim model to build the word vectors for the BBC News Articles\n",
    "from gensim.models import Word2Vec\n",
    "\n",
    "Word2Vec?"
   ]
  },
  {
   "cell_type": "code",
   "execution_count": 53,
   "id": "eacaa071",
   "metadata": {},
   "outputs": [],
   "source": [
    "bbc_df[\"tokens\"] = bbc_df[\"Text\"].apply(lambda text:preprocess_news(text))\n"
   ]
  },
  {
   "cell_type": "code",
   "execution_count": 54,
   "id": "5adc57fd",
   "metadata": {},
   "outputs": [],
   "source": [
    "word_vec = Word2Vec(sentences=bbc_df[\"tokens\"], min_count=2)"
   ]
  },
  {
   "cell_type": "markdown",
   "id": "1183216c-1324-4dd3-8d75-60edf5247aac",
   "metadata": {},
   "source": [
    "#### **Q8.** Check what are the words more similar to \"earth\", \"love\", \"sad\""
   ]
  },
  {
   "cell_type": "code",
   "execution_count": 59,
   "id": "c19add06-ac26-42fd-8f8b-dad31ae6a220",
   "metadata": {},
   "outputs": [],
   "source": [
    "# TODO **Q7.** Check what are the words more similar to \"earth\", \"love\", \"sad\"\n",
    "simil_earth = word_vec.wv.most_similar(\"earth\", topn=5)\n",
    "simil_love = word_vec.wv.most_similar(\"love\", topn=5)\n",
    "simil_sad = word_vec.wv.most_similar(\"sad\", topn=5)"
   ]
  },
  {
   "cell_type": "code",
   "execution_count": 60,
   "id": "f62d0115",
   "metadata": {},
   "outputs": [
    {
     "data": {
      "text/plain": [
       "[('unlik', 0.9979330897331238),\n",
       " ('ground', 0.9978745579719543),\n",
       " ('determin', 0.9977539777755737),\n",
       " ('southern', 0.9976671934127808),\n",
       " ('eventu', 0.997575044631958)]"
      ]
     },
     "execution_count": 60,
     "metadata": {},
     "output_type": "execute_result"
    }
   ],
   "source": [
    "simil_earth"
   ]
  },
  {
   "cell_type": "code",
   "execution_count": 61,
   "id": "1f0a329b",
   "metadata": {},
   "outputs": [
    {
     "data": {
      "text/plain": [
       "[('special', 0.9931513667106628),\n",
       " ('career', 0.9924404621124268),\n",
       " ('compet', 0.9910933375358582),\n",
       " ('outstand', 0.9904949069023132),\n",
       " ('moment', 0.9901472330093384)]"
      ]
     },
     "execution_count": 61,
     "metadata": {},
     "output_type": "execute_result"
    }
   ],
   "source": [
    "simil_love"
   ]
  },
  {
   "cell_type": "code",
   "execution_count": 62,
   "id": "2774a38c",
   "metadata": {},
   "outputs": [
    {
     "data": {
      "text/plain": [
       "[('concentr', 0.9901858568191528),\n",
       " ('challeng', 0.9888014197349548),\n",
       " ('stay', 0.9886149168014526),\n",
       " ('unlik', 0.9885237216949463),\n",
       " ('posit', 0.9885185956954956)]"
      ]
     },
     "execution_count": 62,
     "metadata": {},
     "output_type": "execute_result"
    }
   ],
   "source": [
    "simil_sad"
   ]
  },
  {
   "cell_type": "markdown",
   "id": "6eac2f6c-3ed5-4ea6-9cf7-bb7b79ef73fd",
   "metadata": {},
   "source": [
    "# Review - Recommender Systems\n",
    "- Popularity based\n",
    "- Content based\n",
    "- Collaborative filtering"
   ]
  },
  {
   "cell_type": "markdown",
   "id": "45ebc2bd-e054-4c21-9f0c-704de80a994d",
   "metadata": {},
   "source": [
    "#### **Q1.** Explain in your own words what is the difference between the 3 types of recommender systems that you've learned: Popularity, Content-based and Collaborative Filtering"
   ]
  },
  {
   "cell_type": "markdown",
   "id": "33cd50d2",
   "metadata": {},
   "source": [
    "Popularity : it's only based on the popularity, which how many times an item has been bought or rated.  \n",
    "\n",
    "Content_based: it recommends based on the similarity of the content.  \n",
    "\n",
    "Collaborative filtering: recommends a user based on its similar behaviour with other users. "
   ]
  },
  {
   "cell_type": "markdown",
   "id": "7ba5bfcc-038c-4c23-aea7-c9925309f979",
   "metadata": {},
   "source": [
    "#### **Q2.** Popularity based\n",
    "    - Recommend TOP 10 most popular products\n",
    "    - Only for Beauty & Hygiene and Beverages\n",
    "        - Make sure TOP 5 products are from each category\n",
    "    - Normalise ratings by rounding the rating e.g., 4.3 -> 4\n",
    "    - Products with ratings below 4 should not be recommended"
   ]
  },
  {
   "cell_type": "code",
   "execution_count": 32,
   "id": "de853a7a-ff28-4f60-8565-811a614b1f45",
   "metadata": {},
   "outputs": [
    {
     "data": {
      "text/html": [
       "<div>\n",
       "<style scoped>\n",
       "    .dataframe tbody tr th:only-of-type {\n",
       "        vertical-align: middle;\n",
       "    }\n",
       "\n",
       "    .dataframe tbody tr th {\n",
       "        vertical-align: top;\n",
       "    }\n",
       "\n",
       "    .dataframe thead th {\n",
       "        text-align: right;\n",
       "    }\n",
       "</style>\n",
       "<table border=\"1\" class=\"dataframe\">\n",
       "  <thead>\n",
       "    <tr style=\"text-align: right;\">\n",
       "      <th></th>\n",
       "      <th>index</th>\n",
       "      <th>product</th>\n",
       "      <th>category</th>\n",
       "      <th>sub_category</th>\n",
       "      <th>brand</th>\n",
       "      <th>sale_price</th>\n",
       "      <th>market_price</th>\n",
       "      <th>type</th>\n",
       "      <th>rating</th>\n",
       "      <th>description</th>\n",
       "    </tr>\n",
       "  </thead>\n",
       "  <tbody>\n",
       "    <tr>\n",
       "      <th>0</th>\n",
       "      <td>1</td>\n",
       "      <td>Garlic Oil - Vegetarian Capsule 500 mg</td>\n",
       "      <td>Beauty &amp; Hygiene</td>\n",
       "      <td>Hair Care</td>\n",
       "      <td>Sri Sri Ayurveda</td>\n",
       "      <td>220.0</td>\n",
       "      <td>220.0</td>\n",
       "      <td>Hair Oil &amp; Serum</td>\n",
       "      <td>4.1</td>\n",
       "      <td>This Product contains Garlic Oil that is known...</td>\n",
       "    </tr>\n",
       "    <tr>\n",
       "      <th>1</th>\n",
       "      <td>2</td>\n",
       "      <td>Water Bottle - Orange</td>\n",
       "      <td>Kitchen, Garden &amp; Pets</td>\n",
       "      <td>Storage &amp; Accessories</td>\n",
       "      <td>Mastercook</td>\n",
       "      <td>180.0</td>\n",
       "      <td>180.0</td>\n",
       "      <td>Water &amp; Fridge Bottles</td>\n",
       "      <td>2.3</td>\n",
       "      <td>Each product is microwave safe (without lid), ...</td>\n",
       "    </tr>\n",
       "  </tbody>\n",
       "</table>\n",
       "</div>"
      ],
      "text/plain": [
       "   index                                 product                category  \\\n",
       "0      1  Garlic Oil - Vegetarian Capsule 500 mg        Beauty & Hygiene   \n",
       "1      2                   Water Bottle - Orange  Kitchen, Garden & Pets   \n",
       "\n",
       "            sub_category              brand  sale_price  market_price  \\\n",
       "0              Hair Care  Sri Sri Ayurveda        220.0         220.0   \n",
       "1  Storage & Accessories         Mastercook       180.0         180.0   \n",
       "\n",
       "                     type  rating  \\\n",
       "0        Hair Oil & Serum     4.1   \n",
       "1  Water & Fridge Bottles     2.3   \n",
       "\n",
       "                                         description  \n",
       "0  This Product contains Garlic Oil that is known...  \n",
       "1  Each product is microwave safe (without lid), ...  "
      ]
     },
     "execution_count": 32,
     "metadata": {},
     "output_type": "execute_result"
    }
   ],
   "source": [
    "# Load data\n",
    "bigbasket_df = pd.read_csv(\"data/bigbasket/BigBasketProducts.csv\")\n",
    "\n",
    "bigbasket_df.head(2)"
   ]
  },
  {
   "cell_type": "code",
   "execution_count": 33,
   "id": "118662ad",
   "metadata": {},
   "outputs": [
    {
     "name": "stdout",
     "output_type": "stream",
     "text": [
      "    index                                 product                category  \\\n",
      "0       1  Garlic Oil - Vegetarian Capsule 500 mg        Beauty & Hygiene   \n",
      "9      10    Scrub Pad - Anti- Bacterial, Regular    Cleaning & Household   \n",
      "11     12          Butter Cookies Gold Collection    Gourmet & World Food   \n",
      "16     17          Smooth Skin Oil - For Dry Skin        Beauty & Hygiene   \n",
      "26     27                 Granola - Happy Berries  Snacks & Branded Foods   \n",
      "\n",
      "              sub_category              brand  sale_price  market_price  \\\n",
      "0                Hair Care  Sri Sri Ayurveda        220.0         220.0   \n",
      "9   Mops, Brushes & Scrubs       Scotch brite        20.0          20.0   \n",
      "11   Chocolates & Biscuits           Sapphire       600.0         600.0   \n",
      "16               Skin Care    Aroma Treasures       324.0         360.0   \n",
      "26       Breakfast Cereals         Fit & Flex       245.0         265.0   \n",
      "\n",
      "                        type  rating  \\\n",
      "0           Hair Oil & Serum     4.1   \n",
      "9   Utensil Scrub-Pad, Glove     4.3   \n",
      "11  Luxury Chocolates, Gifts     2.2   \n",
      "16              Aromatherapy     5.0   \n",
      "26     Granola & Cereal Bars     3.5   \n",
      "\n",
      "                                          description  \n",
      "0   This Product contains Garlic Oil that is known...  \n",
      "9   Scotch Brite Anti- Bacterial Scrub Pad thoroug...  \n",
      "11  Enjoy a tin full of delicious butter cookies m...  \n",
      "16  Specially crafted for dry skin, this richly fo...  \n",
      "26  Fit & Flex granola is not just crunchy and tas...  \n",
      "3999\n"
     ]
    }
   ],
   "source": [
    "duplicates_products = bigbasket_df[bigbasket_df.duplicated(subset=[\"product\",\"brand\",\"description\"], \\\n",
    "                                                           keep=False)]\n",
    "print(duplicates_products.head())\n",
    "print(len(duplicates_products))"
   ]
  },
  {
   "cell_type": "code",
   "execution_count": 34,
   "id": "61ec1f62",
   "metadata": {},
   "outputs": [
    {
     "name": "stdout",
     "output_type": "stream",
     "text": [
      "       index                             product                category  \\\n",
      "20241  20242     1-2-3 Noodles - Chicken Flavour  Snacks & Branded Foods   \n",
      "21400  21401     1-2-3 Noodles - Chicken Flavour  Snacks & Branded Foods   \n",
      "25403  25404     1-2-3 Noodles - Pure Vegetarian  Snacks & Branded Foods   \n",
      "17372  17373     1-2-3 Noodles - Pure Vegetarian  Snacks & Branded Foods   \n",
      "9485    9486  1-2-3 Noodles - Veg Masala Flavour  Snacks & Branded Foods   \n",
      "\n",
      "                    sub_category    brand  sale_price  market_price  \\\n",
      "20241           Snacks & Namkeen  Wai Wai        12.0          12.0   \n",
      "21400  Noodle, Pasta, Vermicelli  Wai Wai        12.0          12.0   \n",
      "25403  Noodle, Pasta, Vermicelli  Wai Wai        28.0          35.0   \n",
      "17372           Snacks & Namkeen  Wai Wai        28.0          35.0   \n",
      "9485   Noodle, Pasta, Vermicelli  Wai Wai        12.0          12.0   \n",
      "\n",
      "                  type  rating  \\\n",
      "20241  Instant Noodles     4.2   \n",
      "21400  Instant Noodles     4.2   \n",
      "25403  Instant Noodles     4.0   \n",
      "17372  Instant Noodles     4.0   \n",
      "9485   Instant Noodles     4.2   \n",
      "\n",
      "                                             description  \n",
      "20241  Wai Wai, the instant way to mouthwatering nood...  \n",
      "21400  Wai Wai, the instant way to mouthwatering nood...  \n",
      "25403  Wai Wai-the instant way to mouthwatering noodl...  \n",
      "17372  Wai Wai-the instant way to mouthwatering noodl...  \n",
      "9485   Wai Wai, the instant way to mouthwatering nood...  \n"
     ]
    },
    {
     "name": "stderr",
     "output_type": "stream",
     "text": [
      "C:\\Users\\Angelique\\AppData\\Local\\Temp\\ipykernel_3520\\817044755.py:1: SettingWithCopyWarning: \n",
      "A value is trying to be set on a copy of a slice from a DataFrame\n",
      "\n",
      "See the caveats in the documentation: https://pandas.pydata.org/pandas-docs/stable/user_guide/indexing.html#returning-a-view-versus-a-copy\n",
      "  duplicates_products.sort_values(by=\"product\", inplace=True)\n"
     ]
    }
   ],
   "source": [
    "duplicates_products.sort_values(by=\"product\", inplace=True)\n",
    "print(duplicates_products.head())"
   ]
  },
  {
   "cell_type": "code",
   "execution_count": 35,
   "id": "eb3cdea4-9c6a-4ebc-9be7-d5f06fa469ec",
   "metadata": {},
   "outputs": [
    {
     "name": "stdout",
     "output_type": "stream",
     "text": [
      "<class 'pandas.core.frame.DataFrame'>\n",
      "RangeIndex: 27555 entries, 0 to 27554\n",
      "Data columns (total 10 columns):\n",
      " #   Column        Non-Null Count  Dtype  \n",
      "---  ------        --------------  -----  \n",
      " 0   index         27555 non-null  int64  \n",
      " 1   product       27554 non-null  object \n",
      " 2   category      27555 non-null  object \n",
      " 3   sub_category  27555 non-null  object \n",
      " 4   brand         27554 non-null  object \n",
      " 5   sale_price    27555 non-null  float64\n",
      " 6   market_price  27555 non-null  float64\n",
      " 7   type          27555 non-null  object \n",
      " 8   rating        18929 non-null  float64\n",
      " 9   description   27440 non-null  object \n",
      "dtypes: float64(3), int64(1), object(6)\n",
      "memory usage: 2.1+ MB\n"
     ]
    }
   ],
   "source": [
    "# TODO - Only for Beauty & Hygiene and Beverages\n",
    "bigbasket_df.info()"
   ]
  },
  {
   "cell_type": "code",
   "execution_count": 36,
   "id": "e92929a6",
   "metadata": {},
   "outputs": [
    {
     "data": {
      "text/plain": [
       "Index(['Baby Care', 'Bakery, Cakes & Dairy', 'Beauty & Hygiene', 'Beverages',\n",
       "       'Cleaning & Household', 'Eggs, Meat & Fish', 'Foodgrains, Oil & Masala',\n",
       "       'Fruits & Vegetables', 'Gourmet & World Food', 'Kitchen, Garden & Pets',\n",
       "       'Snacks & Branded Foods'],\n",
       "      dtype='object')"
      ]
     },
     "execution_count": 36,
     "metadata": {},
     "output_type": "execute_result"
    }
   ],
   "source": [
    "bigbasket_df[\"category\"] = bigbasket_df[\"category\"].astype(\"category\")\n",
    "categories = bigbasket_df[\"category\"].cat.categories\n",
    "categories"
   ]
  },
  {
   "cell_type": "code",
   "execution_count": 37,
   "id": "93385938-76a9-4d47-8b89-783db4be94e9",
   "metadata": {},
   "outputs": [
    {
     "name": "stdout",
     "output_type": "stream",
     "text": [
      "<class 'pandas.core.frame.DataFrame'>\n",
      "Index: 8752 entries, 0 to 27554\n",
      "Data columns (total 10 columns):\n",
      " #   Column        Non-Null Count  Dtype   \n",
      "---  ------        --------------  -----   \n",
      " 0   index         8752 non-null   int64   \n",
      " 1   product       8751 non-null   object  \n",
      " 2   category      8752 non-null   category\n",
      " 3   sub_category  8752 non-null   object  \n",
      " 4   brand         8752 non-null   object  \n",
      " 5   sale_price    8752 non-null   float64 \n",
      " 6   market_price  8752 non-null   float64 \n",
      " 7   type          8752 non-null   object  \n",
      " 8   rating        6098 non-null   float64 \n",
      " 9   description   8738 non-null   object  \n",
      "dtypes: category(1), float64(3), int64(1), object(5)\n",
      "memory usage: 692.7+ KB\n"
     ]
    }
   ],
   "source": [
    "# TODO -  Normalise ratings\n",
    "beauty_bevr = bigbasket_df[(bigbasket_df[\"category\"] == \"Beauty & Hygiene\") |\\\n",
    "                            (bigbasket_df[\"category\"] == \"Beverages\")]\n",
    "\n",
    "beauty_bevr.info()"
   ]
  },
  {
   "cell_type": "code",
   "execution_count": 38,
   "id": "ee5aedd1",
   "metadata": {},
   "outputs": [
    {
     "data": {
      "text/plain": [
       "0    4.1\n",
       "4    4.4\n",
       "6    3.6\n",
       "7    4.0\n",
       "8    3.5\n",
       "Name: rating, dtype: float64"
      ]
     },
     "execution_count": 38,
     "metadata": {},
     "output_type": "execute_result"
    }
   ],
   "source": [
    "beauty_bevr[\"rating\"].head()"
   ]
  },
  {
   "cell_type": "code",
   "execution_count": 39,
   "id": "4041c209",
   "metadata": {},
   "outputs": [
    {
     "name": "stderr",
     "output_type": "stream",
     "text": [
      "C:\\Users\\Angelique\\AppData\\Local\\Temp\\ipykernel_3520\\2921521505.py:1: SettingWithCopyWarning: \n",
      "A value is trying to be set on a copy of a slice from a DataFrame.\n",
      "Try using .loc[row_indexer,col_indexer] = value instead\n",
      "\n",
      "See the caveats in the documentation: https://pandas.pydata.org/pandas-docs/stable/user_guide/indexing.html#returning-a-view-versus-a-copy\n",
      "  beauty_bevr[\"category\"] = beauty_bevr[\"category\"].cat.remove_categories(['Baby Care', 'Bakery, Cakes & Dairy',\n"
     ]
    }
   ],
   "source": [
    "beauty_bevr[\"category\"] = beauty_bevr[\"category\"].cat.remove_categories(['Baby Care', 'Bakery, Cakes & Dairy',\n",
    "       'Cleaning & Household', 'Eggs, Meat & Fish', 'Foodgrains, Oil & Masala',\n",
    "       'Fruits & Vegetables', 'Gourmet & World Food', 'Kitchen, Garden & Pets',\n",
    "       'Snacks & Branded Foods'])"
   ]
  },
  {
   "cell_type": "code",
   "execution_count": 40,
   "id": "20f406fb",
   "metadata": {},
   "outputs": [
    {
     "name": "stderr",
     "output_type": "stream",
     "text": [
      "C:\\Users\\Angelique\\AppData\\Local\\Temp\\ipykernel_3520\\2246711724.py:1: SettingWithCopyWarning: \n",
      "A value is trying to be set on a copy of a slice from a DataFrame.\n",
      "Try using .loc[row_indexer,col_indexer] = value instead\n",
      "\n",
      "See the caveats in the documentation: https://pandas.pydata.org/pandas-docs/stable/user_guide/indexing.html#returning-a-view-versus-a-copy\n",
      "  beauty_bevr[\"rating\"] = beauty_bevr[\"rating\"].round(0)\n"
     ]
    },
    {
     "data": {
      "text/plain": [
       "0    4.0\n",
       "4    4.0\n",
       "6    4.0\n",
       "7    4.0\n",
       "8    4.0\n",
       "Name: rating, dtype: float64"
      ]
     },
     "execution_count": 40,
     "metadata": {},
     "output_type": "execute_result"
    }
   ],
   "source": [
    "beauty_bevr[\"rating\"] = beauty_bevr[\"rating\"].round(0)\n",
    "beauty_bevr[\"rating\"].head()"
   ]
  },
  {
   "cell_type": "code",
   "execution_count": 41,
   "id": "00325162",
   "metadata": {},
   "outputs": [
    {
     "name": "stdout",
     "output_type": "stream",
     "text": [
      "5.0\n",
      "1.0\n"
     ]
    }
   ],
   "source": [
    "print(beauty_bevr[\"rating\"].max())\n",
    "print(beauty_bevr[\"rating\"].min())"
   ]
  },
  {
   "cell_type": "code",
   "execution_count": 42,
   "id": "b30b6914",
   "metadata": {},
   "outputs": [
    {
     "name": "stdout",
     "output_type": "stream",
     "text": [
      "<class 'pandas.core.frame.DataFrame'>\n",
      "Index: 2654 entries, 55 to 27514\n",
      "Data columns (total 10 columns):\n",
      " #   Column        Non-Null Count  Dtype   \n",
      "---  ------        --------------  -----   \n",
      " 0   index         2654 non-null   int64   \n",
      " 1   product       2654 non-null   object  \n",
      " 2   category      2654 non-null   category\n",
      " 3   sub_category  2654 non-null   object  \n",
      " 4   brand         2654 non-null   object  \n",
      " 5   sale_price    2654 non-null   float64 \n",
      " 6   market_price  2654 non-null   float64 \n",
      " 7   type          2654 non-null   object  \n",
      " 8   rating        0 non-null      float64 \n",
      " 9   description   2647 non-null   object  \n",
      "dtypes: category(1), float64(3), int64(1), object(5)\n",
      "memory usage: 210.1+ KB\n"
     ]
    }
   ],
   "source": [
    "null_ratings = beauty_bevr[beauty_bevr[\"rating\"].isna()]\n",
    "null_ratings.info()"
   ]
  },
  {
   "cell_type": "code",
   "execution_count": 43,
   "id": "bce0b10f",
   "metadata": {},
   "outputs": [
    {
     "data": {
      "text/plain": [
       "category\n",
       "Beauty & Hygiene    2403\n",
       "Beverages            251\n",
       "Name: count, dtype: int64"
      ]
     },
     "execution_count": 43,
     "metadata": {},
     "output_type": "execute_result"
    }
   ],
   "source": [
    "null_ratings[\"category\"].value_counts()"
   ]
  },
  {
   "cell_type": "code",
   "execution_count": 44,
   "id": "e2de6c21",
   "metadata": {},
   "outputs": [
    {
     "name": "stderr",
     "output_type": "stream",
     "text": [
      "C:\\Users\\Angelique\\AppData\\Local\\Temp\\ipykernel_3520\\814451769.py:1: FutureWarning: The default of observed=False is deprecated and will be changed to True in a future version of pandas. Pass observed=False to retain current behavior or observed=True to adopt the future default and silence this warning.\n",
      "  null_ratings.groupby(\"category\")[\"sub_category\"].value_counts()\n"
     ]
    },
    {
     "data": {
      "text/plain": [
       "category          sub_category            \n",
       "Beauty & Hygiene  Health & Medicine           732\n",
       "                  Skin Care                   653\n",
       "                  Fragrances & Deos           373\n",
       "                  Hair Care                   210\n",
       "                  Bath & Hand Wash            186\n",
       "                  Men's Grooming              155\n",
       "                  Feminine Hygiene             59\n",
       "                  Oral Care                    29\n",
       "                  Makeup                        5\n",
       "                  Mothers & Maternity           1\n",
       "                  Coffee                        0\n",
       "                  Energy & Soft Drinks          0\n",
       "                  Fruit Juices & Drinks         0\n",
       "                  Health Drink, Supplement      0\n",
       "                  Tea                           0\n",
       "                  Water                         0\n",
       "Beverages         Fruit Juices & Drinks       141\n",
       "                  Tea                          65\n",
       "                  Energy & Soft Drinks         22\n",
       "                  Health Drink, Supplement     16\n",
       "                  Coffee                        6\n",
       "                  Water                         1\n",
       "                  Bath & Hand Wash              0\n",
       "                  Feminine Hygiene              0\n",
       "                  Fragrances & Deos             0\n",
       "                  Hair Care                     0\n",
       "                  Health & Medicine             0\n",
       "                  Makeup                        0\n",
       "                  Men's Grooming                0\n",
       "                  Mothers & Maternity           0\n",
       "                  Oral Care                     0\n",
       "                  Skin Care                     0\n",
       "Name: count, dtype: int64"
      ]
     },
     "execution_count": 44,
     "metadata": {},
     "output_type": "execute_result"
    }
   ],
   "source": [
    "null_ratings.groupby(\"category\")[\"sub_category\"].value_counts()"
   ]
  },
  {
   "cell_type": "code",
   "execution_count": 45,
   "id": "a64ce8e0",
   "metadata": {},
   "outputs": [
    {
     "name": "stderr",
     "output_type": "stream",
     "text": [
      "C:\\Users\\Angelique\\AppData\\Local\\Temp\\ipykernel_3520\\2851162591.py:1: FutureWarning: The default of observed=False is deprecated and will be changed to True in a future version of pandas. Pass observed=False to retain current behavior or observed=True to adopt the future default and silence this warning.\n",
      "  null_ratings_prices = null_ratings.groupby(\"category\")[\"sale_price\"].describe()\n"
     ]
    },
    {
     "data": {
      "text/html": [
       "<div>\n",
       "<style scoped>\n",
       "    .dataframe tbody tr th:only-of-type {\n",
       "        vertical-align: middle;\n",
       "    }\n",
       "\n",
       "    .dataframe tbody tr th {\n",
       "        vertical-align: top;\n",
       "    }\n",
       "\n",
       "    .dataframe thead th {\n",
       "        text-align: right;\n",
       "    }\n",
       "</style>\n",
       "<table border=\"1\" class=\"dataframe\">\n",
       "  <thead>\n",
       "    <tr style=\"text-align: right;\">\n",
       "      <th></th>\n",
       "      <th>count</th>\n",
       "      <th>mean</th>\n",
       "      <th>std</th>\n",
       "      <th>min</th>\n",
       "      <th>25%</th>\n",
       "      <th>50%</th>\n",
       "      <th>75%</th>\n",
       "      <th>max</th>\n",
       "    </tr>\n",
       "    <tr>\n",
       "      <th>category</th>\n",
       "      <th></th>\n",
       "      <th></th>\n",
       "      <th></th>\n",
       "      <th></th>\n",
       "      <th></th>\n",
       "      <th></th>\n",
       "      <th></th>\n",
       "      <th></th>\n",
       "    </tr>\n",
       "  </thead>\n",
       "  <tbody>\n",
       "    <tr>\n",
       "      <th>Beauty &amp; Hygiene</th>\n",
       "      <td>2403.0</td>\n",
       "      <td>658.907524</td>\n",
       "      <td>855.437579</td>\n",
       "      <td>22.5</td>\n",
       "      <td>200.00</td>\n",
       "      <td>360.0</td>\n",
       "      <td>750.0</td>\n",
       "      <td>8184.44</td>\n",
       "    </tr>\n",
       "    <tr>\n",
       "      <th>Beverages</th>\n",
       "      <td>251.0</td>\n",
       "      <td>265.374382</td>\n",
       "      <td>322.567072</td>\n",
       "      <td>10.0</td>\n",
       "      <td>92.95</td>\n",
       "      <td>178.2</td>\n",
       "      <td>312.5</td>\n",
       "      <td>2330.00</td>\n",
       "    </tr>\n",
       "  </tbody>\n",
       "</table>\n",
       "</div>"
      ],
      "text/plain": [
       "                   count        mean         std   min     25%    50%    75%  \\\n",
       "category                                                                       \n",
       "Beauty & Hygiene  2403.0  658.907524  855.437579  22.5  200.00  360.0  750.0   \n",
       "Beverages          251.0  265.374382  322.567072  10.0   92.95  178.2  312.5   \n",
       "\n",
       "                      max  \n",
       "category                   \n",
       "Beauty & Hygiene  8184.44  \n",
       "Beverages         2330.00  "
      ]
     },
     "execution_count": 45,
     "metadata": {},
     "output_type": "execute_result"
    }
   ],
   "source": [
    "null_ratings_prices = null_ratings.groupby(\"category\")[\"sale_price\"].describe()\n",
    "null_ratings_prices"
   ]
  },
  {
   "cell_type": "code",
   "execution_count": 46,
   "id": "958120f8",
   "metadata": {},
   "outputs": [
    {
     "name": "stderr",
     "output_type": "stream",
     "text": [
      "C:\\Users\\Angelique\\AppData\\Local\\Temp\\ipykernel_3520\\2436140605.py:2: FutureWarning: The default of observed=False is deprecated and will be changed to True in a future version of pandas. Pass observed=False to retain current behavior or observed=True to adopt the future default and silence this warning.\n",
      "  b_and_B_price = non_null.groupby(\"category\")[\"sale_price\"].describe()\n"
     ]
    },
    {
     "data": {
      "text/html": [
       "<div>\n",
       "<style scoped>\n",
       "    .dataframe tbody tr th:only-of-type {\n",
       "        vertical-align: middle;\n",
       "    }\n",
       "\n",
       "    .dataframe tbody tr th {\n",
       "        vertical-align: top;\n",
       "    }\n",
       "\n",
       "    .dataframe thead th {\n",
       "        text-align: right;\n",
       "    }\n",
       "</style>\n",
       "<table border=\"1\" class=\"dataframe\">\n",
       "  <thead>\n",
       "    <tr style=\"text-align: right;\">\n",
       "      <th></th>\n",
       "      <th>count</th>\n",
       "      <th>mean</th>\n",
       "      <th>std</th>\n",
       "      <th>min</th>\n",
       "      <th>25%</th>\n",
       "      <th>50%</th>\n",
       "      <th>75%</th>\n",
       "      <th>max</th>\n",
       "    </tr>\n",
       "    <tr>\n",
       "      <th>category</th>\n",
       "      <th></th>\n",
       "      <th></th>\n",
       "      <th></th>\n",
       "      <th></th>\n",
       "      <th></th>\n",
       "      <th></th>\n",
       "      <th></th>\n",
       "      <th></th>\n",
       "    </tr>\n",
       "  </thead>\n",
       "  <tbody>\n",
       "    <tr>\n",
       "      <th>Beauty &amp; Hygiene</th>\n",
       "      <td>5464.0</td>\n",
       "      <td>313.029733</td>\n",
       "      <td>378.382353</td>\n",
       "      <td>3.0</td>\n",
       "      <td>119.2375</td>\n",
       "      <td>204.965</td>\n",
       "      <td>374.250</td>\n",
       "      <td>6660.0</td>\n",
       "    </tr>\n",
       "    <tr>\n",
       "      <th>Beverages</th>\n",
       "      <td>634.0</td>\n",
       "      <td>229.617823</td>\n",
       "      <td>225.253780</td>\n",
       "      <td>9.0</td>\n",
       "      <td>100.0000</td>\n",
       "      <td>175.000</td>\n",
       "      <td>293.625</td>\n",
       "      <td>3480.0</td>\n",
       "    </tr>\n",
       "  </tbody>\n",
       "</table>\n",
       "</div>"
      ],
      "text/plain": [
       "                   count        mean         std  min       25%      50%  \\\n",
       "category                                                                   \n",
       "Beauty & Hygiene  5464.0  313.029733  378.382353  3.0  119.2375  204.965   \n",
       "Beverages          634.0  229.617823  225.253780  9.0  100.0000  175.000   \n",
       "\n",
       "                      75%     max  \n",
       "category                           \n",
       "Beauty & Hygiene  374.250  6660.0  \n",
       "Beverages         293.625  3480.0  "
      ]
     },
     "execution_count": 46,
     "metadata": {},
     "output_type": "execute_result"
    }
   ],
   "source": [
    "non_null = beauty_bevr[~(beauty_bevr.isin(null_ratings))]\n",
    "b_and_B_price = non_null.groupby(\"category\")[\"sale_price\"].describe()\n",
    "b_and_B_price"
   ]
  },
  {
   "cell_type": "markdown",
   "id": "4db31613",
   "metadata": {},
   "source": [
    "It seems that the products that do not have any ratings are more expensive."
   ]
  },
  {
   "cell_type": "code",
   "execution_count": 47,
   "id": "06db34a7",
   "metadata": {},
   "outputs": [
    {
     "name": "stdout",
     "output_type": "stream",
     "text": [
      "<class 'pandas.core.frame.DataFrame'>\n",
      "Index: 53 entries, 1280 to 27474\n",
      "Data columns (total 10 columns):\n",
      " #   Column        Non-Null Count  Dtype   \n",
      "---  ------        --------------  -----   \n",
      " 0   index         53 non-null     int64   \n",
      " 1   product       53 non-null     object  \n",
      " 2   category      53 non-null     category\n",
      " 3   sub_category  53 non-null     object  \n",
      " 4   brand         53 non-null     object  \n",
      " 5   sale_price    53 non-null     float64 \n",
      " 6   market_price  53 non-null     float64 \n",
      " 7   type          53 non-null     object  \n",
      " 8   rating        31 non-null     float64 \n",
      " 9   description   53 non-null     object  \n",
      "dtypes: category(1), float64(3), int64(1), object(5)\n",
      "memory usage: 4.3+ KB\n"
     ]
    }
   ],
   "source": [
    "from outliers_modules import Outliers\n",
    "\n",
    "outl_bev_price = Outliers(beauty_bevr[beauty_bevr[\"category\"] == \"Beverages\"],\"sale_price\")\n",
    "outl_bev_price.percentiles()\n",
    "bev_price_max_Out = outl_bev_price.outliers_max()\n",
    "\n",
    "bev_outl = beauty_bevr[(beauty_bevr[\"category\"] == \"Beverages\") &\\\n",
    "                       (beauty_bevr[\"sale_price\"] >= bev_price_max_Out)]\n",
    "\n",
    "bev_outl.info()\n"
   ]
  },
  {
   "cell_type": "markdown",
   "id": "0324e009",
   "metadata": {},
   "source": [
    "Among the 53 beverages with an outlier price, 22 do not have a rating"
   ]
  },
  {
   "cell_type": "code",
   "execution_count": 48,
   "id": "a39838ce",
   "metadata": {},
   "outputs": [
    {
     "name": "stdout",
     "output_type": "stream",
     "text": [
      "count    31.000000\n",
      "mean      4.161290\n",
      "std       0.582911\n",
      "min       3.000000\n",
      "25%       4.000000\n",
      "50%       4.000000\n",
      "75%       4.500000\n",
      "max       5.000000\n",
      "Name: rating, dtype: float64\n"
     ]
    }
   ],
   "source": [
    "bev_outl_rating = bev_outl[\"rating\"].describe()\n",
    "print(bev_outl_rating)"
   ]
  },
  {
   "cell_type": "code",
   "execution_count": 49,
   "id": "4e2fecbd",
   "metadata": {},
   "outputs": [
    {
     "name": "stdout",
     "output_type": "stream",
     "text": [
      "<class 'pandas.core.frame.DataFrame'>\n",
      "Index: 705 entries, 8 to 27542\n",
      "Data columns (total 10 columns):\n",
      " #   Column        Non-Null Count  Dtype   \n",
      "---  ------        --------------  -----   \n",
      " 0   index         705 non-null    int64   \n",
      " 1   product       705 non-null    object  \n",
      " 2   category      705 non-null    category\n",
      " 3   sub_category  705 non-null    object  \n",
      " 4   brand         705 non-null    object  \n",
      " 5   sale_price    705 non-null    float64 \n",
      " 6   market_price  705 non-null    float64 \n",
      " 7   type          705 non-null    object  \n",
      " 8   rating        250 non-null    float64 \n",
      " 9   description   705 non-null    object  \n",
      "dtypes: category(1), float64(3), int64(1), object(5)\n",
      "memory usage: 55.9+ KB\n"
     ]
    }
   ],
   "source": [
    "beauOutl = Outliers(beauty_bevr[beauty_bevr[\"category\"] == \"Beauty & Hygiene\"],\"sale_price\")\n",
    "beauOutl.percentiles()\n",
    "max_beautOutl = beauOutl.outliers_max()\n",
    "\n",
    "beaut_outl = beauty_bevr[(beauty_bevr[\"category\"] == \"Beauty & Hygiene\") &\\\n",
    "                         (beauty_bevr[\"sale_price\"] >= max_beautOutl)]\n",
    "beaut_outl.info()"
   ]
  },
  {
   "cell_type": "markdown",
   "id": "840a2837",
   "metadata": {},
   "source": [
    "Among the beauty price outliers 455 do not have any ratings."
   ]
  },
  {
   "cell_type": "code",
   "execution_count": 50,
   "id": "7eeadd7f",
   "metadata": {},
   "outputs": [
    {
     "data": {
      "text/plain": [
       "count    250.000000\n",
       "mean       3.644000\n",
       "std        1.303865\n",
       "min        1.000000\n",
       "25%        3.000000\n",
       "50%        4.000000\n",
       "75%        5.000000\n",
       "max        5.000000\n",
       "Name: rating, dtype: float64"
      ]
     },
     "execution_count": 50,
     "metadata": {},
     "output_type": "execute_result"
    }
   ],
   "source": [
    "ratings_beauty_outl = beaut_outl[\"rating\"].describe()\n",
    "ratings_beauty_outl"
   ]
  },
  {
   "cell_type": "code",
   "execution_count": 51,
   "id": "7a6bce6e",
   "metadata": {},
   "outputs": [
    {
     "name": "stdout",
     "output_type": "stream",
     "text": [
      "sub_category\n",
      "Bath & Hand Wash     4.0\n",
      "Feminine Hygiene     4.0\n",
      "Fragrances & Deos    4.0\n",
      "Hair Care            3.0\n",
      "Health & Medicine    4.0\n",
      "Makeup               NaN\n",
      "Men's Grooming       4.0\n",
      "Oral Care            3.5\n",
      "Skin Care            4.0\n",
      "Name: rating, dtype: float64\n"
     ]
    }
   ],
   "source": [
    "print(beaut_outl.groupby(\"sub_category\")[\"rating\"].median())"
   ]
  },
  {
   "cell_type": "code",
   "execution_count": 52,
   "id": "db99a9dc-83e5-42fd-9764-1e5acb7042cd",
   "metadata": {},
   "outputs": [],
   "source": [
    "# TODO - Products with ratings below 4 should not be recommended\n",
    "rating_4_and_above = beauty_bevr.copy().loc[beauty_bevr[\"rating\"] >= 4]"
   ]
  },
  {
   "cell_type": "code",
   "execution_count": 53,
   "id": "ff8a6bba",
   "metadata": {},
   "outputs": [
    {
     "name": "stdout",
     "output_type": "stream",
     "text": [
      "<class 'pandas.core.frame.DataFrame'>\n",
      "Index: 5075 entries, 0 to 27554\n",
      "Data columns (total 10 columns):\n",
      " #   Column        Non-Null Count  Dtype   \n",
      "---  ------        --------------  -----   \n",
      " 0   index         5075 non-null   int64   \n",
      " 1   product       5074 non-null   object  \n",
      " 2   category      5075 non-null   category\n",
      " 3   sub_category  5075 non-null   object  \n",
      " 4   brand         5075 non-null   object  \n",
      " 5   sale_price    5075 non-null   float64 \n",
      " 6   market_price  5075 non-null   float64 \n",
      " 7   type          5075 non-null   object  \n",
      " 8   rating        5075 non-null   float64 \n",
      " 9   description   5069 non-null   object  \n",
      "dtypes: category(1), float64(3), int64(1), object(5)\n",
      "memory usage: 401.6+ KB\n"
     ]
    }
   ],
   "source": [
    "rating_4_and_above.info()"
   ]
  },
  {
   "cell_type": "code",
   "execution_count": 54,
   "id": "6782336a-a42e-41af-9311-037f3f2024a0",
   "metadata": {},
   "outputs": [
    {
     "name": "stdout",
     "output_type": "stream",
     "text": [
      "            category              sub_category  rating  rank\n",
      "0   Beauty & Hygiene         Health & Medicine     4.0   1.0\n",
      "2          Beverages                       Tea     4.0   1.0\n",
      "1   Beauty & Hygiene                 Skin Care     4.0   2.0\n",
      "10         Beverages                       Tea     4.0   2.0\n",
      "3   Beauty & Hygiene                 Hair Care     4.0   3.0\n",
      "31         Beverages  Health Drink, Supplement     4.0   3.0\n",
      "4   Beauty & Hygiene         Health & Medicine     4.0   4.0\n",
      "68         Beverages     Fruit Juices & Drinks     4.0   4.0\n",
      "5   Beauty & Hygiene         Health & Medicine     4.0   5.0\n",
      "85         Beverages                    Coffee     4.0   5.0\n"
     ]
    },
    {
     "name": "stderr",
     "output_type": "stream",
     "text": [
      "C:\\Users\\Angelique\\AppData\\Local\\Temp\\ipykernel_3520\\2280122564.py:3: FutureWarning: The default of observed=False is deprecated and will be changed to True in a future version of pandas. Pass observed=False to retain current behavior or observed=True to adopt the future default and silence this warning.\n",
      "  rating_4_and_above[\"rank\"] = rating_4_and_above.groupby(\"category\")[\"rating\"].rank(method=\"first\")\n"
     ]
    }
   ],
   "source": [
    "# TODO - TOP 10 - Most popular recommendations for Beauty & Higiene and Beverages\n",
    "rating_4_and_above = rating_4_and_above.sample(frac=1, random_state=1984).reset_index(drop=True)\n",
    "rating_4_and_above[\"rank\"] = rating_4_and_above.groupby(\"category\")[\"rating\"].rank(method=\"first\")\n",
    "top10_beauty_bevr = rating_4_and_above.sort_values(by=[\"rating\",\"rank\"]).iloc[:10]\n",
    "print(top10_beauty_bevr[[\"category\",\"sub_category\",\"rating\",\"rank\"]])"
   ]
  },
  {
   "cell_type": "markdown",
   "id": "22423f38-8b57-4dc3-b02c-c1a0fc39c9a4",
   "metadata": {},
   "source": [
    "#### **Q3.** Content-based\n",
    "    - Build a content-based recommender model for BigBasket\n",
    "    - Use the product description, category, sub_category, type and brand information\n",
    "        - Make sure that e.g., the product \"type\" \"Lamp & Lamp Oil\" is not tokenised by word instead should be \"lamp_lamp_oil\"\n",
    "    - Use TFIDF weighting scheme, and build a custom function\n",
    "        - custom function *preprocess_text* should remove special characters, use lemmatization for verbs and remove stopwords\n",
    "    - Use linear kernel to compute the similarity matrix"
   ]
  },
  {
   "cell_type": "code",
   "execution_count": 55,
   "id": "496a6ced-afdf-49ac-b52a-a68ad17f275e",
   "metadata": {},
   "outputs": [
    {
     "data": {
      "text/plain": [
       "(27555, 10)"
      ]
     },
     "execution_count": 55,
     "metadata": {},
     "output_type": "execute_result"
    }
   ],
   "source": [
    "bigbasket_df.shape"
   ]
  },
  {
   "cell_type": "code",
   "execution_count": 122,
   "id": "c288166b-ae8f-40b4-b498-471125e21277",
   "metadata": {},
   "outputs": [],
   "source": [
    "columns = [\"product\", \"category\", \"sub_category\", \"type\", \"brand\", \"description\"]\n",
    "\n",
    "bigbasket_products_df = bigbasket_df[columns].copy()\n",
    "bigbasket_products_df = bigbasket_products_df.drop_duplicates(subset=[\"product\",\"brand\"], keep=\"first\")\n",
    "bigbasket_products_df = bigbasket_products_df.reset_index()"
   ]
  },
  {
   "cell_type": "code",
   "execution_count": 123,
   "id": "8f92477c-f9c4-4280-9af7-454552847e8a",
   "metadata": {},
   "outputs": [
    {
     "data": {
      "text/plain": [
       "(24616, 7)"
      ]
     },
     "execution_count": 123,
     "metadata": {},
     "output_type": "execute_result"
    }
   ],
   "source": [
    "bigbasket_products_df.shape"
   ]
  },
  {
   "cell_type": "code",
   "execution_count": 124,
   "id": "55f23e64-da70-4c8e-bcf2-330ae1c4f2f0",
   "metadata": {},
   "outputs": [
    {
     "name": "stdout",
     "output_type": "stream",
     "text": [
      "<class 'pandas.core.frame.DataFrame'>\n",
      "RangeIndex: 24616 entries, 0 to 24615\n",
      "Data columns (total 7 columns):\n",
      " #   Column        Non-Null Count  Dtype   \n",
      "---  ------        --------------  -----   \n",
      " 0   index         24616 non-null  int64   \n",
      " 1   product       24615 non-null  object  \n",
      " 2   category      24616 non-null  category\n",
      " 3   sub_category  24616 non-null  object  \n",
      " 4   type          24616 non-null  object  \n",
      " 5   brand         24615 non-null  object  \n",
      " 6   description   24511 non-null  object  \n",
      "dtypes: category(1), int64(1), object(5)\n",
      "memory usage: 1.2+ MB\n"
     ]
    }
   ],
   "source": [
    "# TODO - Use the product description, category, sub_category, type and brand information\n",
    "bigbasket_products_df.info()"
   ]
  },
  {
   "cell_type": "code",
   "execution_count": 125,
   "id": "f1556f81",
   "metadata": {},
   "outputs": [
    {
     "name": "stdout",
     "output_type": "stream",
     "text": [
      "      index                product              category  \\\n",
      "9311   9765  Food Package - Medium  Cleaning & Household   \n",
      "\n",
      "                  sub_category                       type brand description  \n",
      "9311  Disposables, Garbage Bag  Aluminium Foil, Clingwrap   NaN         NaN  \n"
     ]
    }
   ],
   "source": [
    "print(bigbasket_products_df[bigbasket_products_df[\"brand\"].isna()])"
   ]
  },
  {
   "cell_type": "code",
   "execution_count": 126,
   "id": "083fc81c",
   "metadata": {},
   "outputs": [],
   "source": [
    "bigbasket_products_df[\"brand\"] = bigbasket_products_df[\"brand\"].fillna(\"no_brand\")\n",
    "bigbasket_products_df[\"description\"] = bigbasket_products_df[\"description\"].fillna(\"no_description\")"
   ]
  },
  {
   "cell_type": "code",
   "execution_count": 127,
   "id": "833c3554",
   "metadata": {},
   "outputs": [],
   "source": [
    "def categories_to_toks(df,col):\n",
    "    tok_list = df[col].str.replace(\",\",\"\")\n",
    "    tok_list = tok_list.str.replace(\"-\",\"\")\n",
    "    tok_list = tok_list.str.replace(\" \",\"_\")\n",
    "    return tok_list"
   ]
  },
  {
   "cell_type": "code",
   "execution_count": 128,
   "id": "b96771c5",
   "metadata": {},
   "outputs": [
    {
     "name": "stdout",
     "output_type": "stream",
     "text": [
      "                category           sub_category                     type  \\\n",
      "0       Beauty_&_Hygiene              Hair_Care         Hair_Oil_&_Serum   \n",
      "1  Kitchen_Garden_&_Pets  Storage_&_Accessories   Water_&_Fridge_Bottles   \n",
      "2   Cleaning_&_Household            Pooja_Needs          Lamp_&_Lamp_Oil   \n",
      "3   Cleaning_&_Household   Bins_&_Bathroom_Ware  Laundry_Storage_Baskets   \n",
      "4       Beauty_&_Hygiene       Bath_&_Hand_Wash     Bathing_Bars_&_Soaps   \n",
      "\n",
      "               brand  \n",
      "0  Sri_Sri_Ayurveda_  \n",
      "1         Mastercook  \n",
      "2                Trm  \n",
      "3             Nakoda  \n",
      "4              Nivea  \n"
     ]
    }
   ],
   "source": [
    "cols = [\"category\",\"sub_category\",\"type\",\"brand\"] \n",
    "for col in cols:\n",
    "    bigbasket_products_df[col] = categories_to_toks(bigbasket_products_df,col)\n",
    "\n",
    "print(bigbasket_products_df[cols].head())"
   ]
  },
  {
   "cell_type": "code",
   "execution_count": 129,
   "id": "c828d9bd",
   "metadata": {},
   "outputs": [
    {
     "name": "stdout",
     "output_type": "stream",
     "text": [
      "['category', 'sub_category', 'type', 'brand', 'description']\n",
      "0    Beauty_&_Hygiene Hair_Care Hair_Oil_&_Serum Sr...\n",
      "1    Kitchen_Garden_&_Pets Storage_&_Accessories Wa...\n",
      "2    Cleaning_&_Household Pooja_Needs Lamp_&_Lamp_O...\n",
      "3    Cleaning_&_Household Bins_&_Bathroom_Ware Laun...\n",
      "4    Beauty_&_Hygiene Bath_&_Hand_Wash Bathing_Bars...\n",
      "Name: Bag_of_words, dtype: object\n"
     ]
    }
   ],
   "source": [
    "# Bag-Of-Words list\n",
    "cols = cols + [\"description\"]\n",
    "bag_of_words = []\n",
    "print(cols)\n",
    "\n",
    "for _,row in bigbasket_products_df.iterrows():\n",
    "    list_strings = []\n",
    "    bow = []\n",
    "    for col in cols:\n",
    "        list_strings.append(row[col])\n",
    "    bow = \" \".join(list_strings)\n",
    "    bag_of_words.append(bow)\n",
    "\n",
    "bigbasket_products_df[\"Bag_of_words\"] = bag_of_words\n",
    "print(bigbasket_products_df[\"Bag_of_words\"].head())\n",
    "        "
   ]
  },
  {
   "cell_type": "code",
   "execution_count": 130,
   "id": "97405614-3655-4e4b-a16c-da124f215672",
   "metadata": {},
   "outputs": [],
   "source": [
    "# TODO - Use TFIDF weighting scheme, and build a custom function\n",
    "#         - custom function should use lemmatization for verbs and remove stopwords\n",
    "from nltk.corpus import stopwords\n",
    "from nltk import word_tokenize\n",
    "from nltk.tokenize import RegexpTokenizer\n",
    "from nltk.stem import WordNetLemmatizer\n",
    "def preprocess_text(text):\n",
    "    stop_eng = stopwords.words(\"english\")\n",
    "    regex = RegexpTokenizer(r\"\\w+\")\n",
    "    lemmatizer = WordNetLemmatizer()\n",
    "\n",
    "    tokens = regex.tokenize(text)\n",
    "    toks_stop = []\n",
    "    for word in tokens:\n",
    "        if word not in stop_eng:\n",
    "            toks_stop.append(word)\n",
    "\n",
    "    lems = [lemmatizer.lemmatize(tok, pos=\"v\") for tok in toks_stop]\n",
    "\n",
    "    return lems"
   ]
  },
  {
   "cell_type": "code",
   "execution_count": 131,
   "id": "5fe26de2",
   "metadata": {},
   "outputs": [
    {
     "name": "stdout",
     "output_type": "stream",
     "text": [
      "<class 'pandas.core.frame.DataFrame'>\n",
      "RangeIndex: 24616 entries, 0 to 24615\n",
      "Data columns (total 8 columns):\n",
      " #   Column        Non-Null Count  Dtype \n",
      "---  ------        --------------  ----- \n",
      " 0   index         24616 non-null  int64 \n",
      " 1   product       24615 non-null  object\n",
      " 2   category      24616 non-null  object\n",
      " 3   sub_category  24616 non-null  object\n",
      " 4   type          24616 non-null  object\n",
      " 5   brand         24616 non-null  object\n",
      " 6   description   24616 non-null  object\n",
      " 7   Bag_of_words  24616 non-null  object\n",
      "dtypes: int64(1), object(7)\n",
      "memory usage: 1.5+ MB\n"
     ]
    }
   ],
   "source": [
    "bigbasket_products_df.info()"
   ]
  },
  {
   "cell_type": "code",
   "execution_count": 132,
   "id": "2122a4d8",
   "metadata": {},
   "outputs": [],
   "source": [
    "from sklearn.feature_extraction.text import TfidfVectorizer\n",
    "tfidf2 = TfidfVectorizer(analyzer=preprocess_text, max_features=500)\n",
    "Bag_of_words = bigbasket_products_df[\"Bag_of_words\"]\n",
    "\n",
    "descrip_vect = tfidf2.fit_transform(Bag_of_words)"
   ]
  },
  {
   "cell_type": "code",
   "execution_count": 133,
   "id": "af15b365",
   "metadata": {},
   "outputs": [
    {
     "data": {
      "text/plain": [
       "(24616, 500)"
      ]
     },
     "execution_count": 133,
     "metadata": {},
     "output_type": "execute_result"
    }
   ],
   "source": [
    "descrip_vect.shape"
   ]
  },
  {
   "cell_type": "code",
   "execution_count": 134,
   "id": "7c2656eb",
   "metadata": {},
   "outputs": [],
   "source": [
    "products = bigbasket_products_df[\"product\"]"
   ]
  },
  {
   "cell_type": "code",
   "execution_count": 135,
   "id": "59d107c1",
   "metadata": {},
   "outputs": [
    {
     "name": "stdout",
     "output_type": "stream",
     "text": [
      "(24616, 15)\n"
     ]
    }
   ],
   "source": [
    "from sklearn.decomposition import NMF\n",
    "nmf = NMF(n_components=15)\n",
    "nmf.fit(descrip_vect)\n",
    "nmf_features = nmf.transform(descrip_vect)\n",
    "\n",
    "print(nmf_features.shape)"
   ]
  },
  {
   "cell_type": "code",
   "execution_count": 136,
   "id": "bca4936e",
   "metadata": {},
   "outputs": [],
   "source": [
    "from sklearn.preprocessing import normalize\n",
    "normalize_features = normalize(nmf_features)"
   ]
  },
  {
   "cell_type": "code",
   "execution_count": 137,
   "id": "b412f7e4-a89d-4fb1-af42-990c58239307",
   "metadata": {},
   "outputs": [],
   "source": [
    "# TODO - Use linear kernel to compute the similarity matrix\n",
    "# Compute the cosine similarity matrix\n",
    "from sklearn.metrics.pairwise import linear_kernel\n",
    "normalize_features = np.float32(normalize_features)\n",
    "simil_matrix = linear_kernel(normalize_features)\n"
   ]
  },
  {
   "cell_type": "code",
   "execution_count": 138,
   "id": "88931bbb",
   "metadata": {},
   "outputs": [
    {
     "data": {
      "text/plain": [
       "(24616, 24616)"
      ]
     },
     "execution_count": 138,
     "metadata": {},
     "output_type": "execute_result"
    }
   ],
   "source": [
    "simil_matrix.shape"
   ]
  },
  {
   "cell_type": "code",
   "execution_count": 139,
   "id": "91f56f0e-53a3-478f-8a22-5f7eb1f322f8",
   "metadata": {},
   "outputs": [],
   "source": [
    "# Construct a reverse map of indices and movie titles\n",
    "simil_pdcts_df = pd.DataFrame(simil_matrix, index=products, columns=products)\n"
   ]
  },
  {
   "cell_type": "code",
   "execution_count": 140,
   "id": "c916a83c",
   "metadata": {},
   "outputs": [
    {
     "name": "stdout",
     "output_type": "stream",
     "text": [
      "Index(['Garlic Oil - Vegetarian Capsule 500 mg', 'Water Bottle - Orange',\n",
      "       'Brass Angle Deep - Plain, No.2',\n",
      "       'Cereal Flip Lid Container/Storage Jar - Assorted Colour',\n",
      "       'Creme Soft Soap - For Hands & Body',\n",
      "       'Germ - Removal Multipurpose Wipes', 'Multani Mati',\n",
      "       'Hand Sanitizer - 70% Alcohol Base',\n",
      "       'Biotin & Collagen Volumizing Hair Shampoo + Biotin & Collagen Hair Conditioner',\n",
      "       'Scrub Pad - Anti- Bacterial, Regular', 'Wheat Grass Powder - Raw',\n",
      "       'Butter Cookies Gold Collection', 'Face Wash - Oil Control, Active',\n",
      "       'Mold & Mildew Remover with Bleach',\n",
      "       'Just Spray - Mosquito Repellent Room Spray',\n",
      "       'Dove Plastic Soap Case - Assorted Colour',\n",
      "       'Smooth Skin Oil - For Dry Skin', 'Salted Pumpkin',\n",
      "       'Flax Seeds - Roasted', 'Organic Tofu - Soy Paneer'],\n",
      "      dtype='object', name='product')\n",
      "Index(['Garlic Oil - Vegetarian Capsule 500 mg', 'Water Bottle - Orange',\n",
      "       'Brass Angle Deep - Plain, No.2',\n",
      "       'Cereal Flip Lid Container/Storage Jar - Assorted Colour',\n",
      "       'Creme Soft Soap - For Hands & Body',\n",
      "       'Germ - Removal Multipurpose Wipes', 'Multani Mati',\n",
      "       'Hand Sanitizer - 70% Alcohol Base',\n",
      "       'Biotin & Collagen Volumizing Hair Shampoo + Biotin & Collagen Hair Conditioner',\n",
      "       'Scrub Pad - Anti- Bacterial, Regular', 'Wheat Grass Powder - Raw',\n",
      "       'Butter Cookies Gold Collection', 'Face Wash - Oil Control, Active',\n",
      "       'Mold & Mildew Remover with Bleach',\n",
      "       'Just Spray - Mosquito Repellent Room Spray',\n",
      "       'Dove Plastic Soap Case - Assorted Colour',\n",
      "       'Smooth Skin Oil - For Dry Skin', 'Salted Pumpkin',\n",
      "       'Flax Seeds - Roasted', 'Organic Tofu - Soy Paneer'],\n",
      "      dtype='object', name='product')\n"
     ]
    }
   ],
   "source": [
    "products_list = simil_pdcts_df.columns\n",
    "print(products_list[:20])\n",
    "products_index = simil_pdcts_df.index\n",
    "print(products_index[:20])"
   ]
  },
  {
   "cell_type": "code",
   "execution_count": 141,
   "id": "5a8c76df",
   "metadata": {},
   "outputs": [
    {
     "data": {
      "text/html": [
       "<div>\n",
       "<style scoped>\n",
       "    .dataframe tbody tr th:only-of-type {\n",
       "        vertical-align: middle;\n",
       "    }\n",
       "\n",
       "    .dataframe tbody tr th {\n",
       "        vertical-align: top;\n",
       "    }\n",
       "\n",
       "    .dataframe thead th {\n",
       "        text-align: right;\n",
       "    }\n",
       "</style>\n",
       "<table border=\"1\" class=\"dataframe\">\n",
       "  <thead>\n",
       "    <tr style=\"text-align: right;\">\n",
       "      <th>product</th>\n",
       "      <th>Garlic Oil - Vegetarian Capsule 500 mg</th>\n",
       "      <th>Water Bottle - Orange</th>\n",
       "      <th>Brass Angle Deep - Plain, No.2</th>\n",
       "      <th>Cereal Flip Lid Container/Storage Jar - Assorted Colour</th>\n",
       "      <th>Creme Soft Soap - For Hands &amp; Body</th>\n",
       "      <th>Germ - Removal Multipurpose Wipes</th>\n",
       "      <th>Multani Mati</th>\n",
       "      <th>Hand Sanitizer - 70% Alcohol Base</th>\n",
       "      <th>Biotin &amp; Collagen Volumizing Hair Shampoo + Biotin &amp; Collagen Hair Conditioner</th>\n",
       "      <th>Scrub Pad - Anti- Bacterial, Regular</th>\n",
       "      <th>...</th>\n",
       "      <th>Popcorn - French Butter &amp; Pink Salt</th>\n",
       "      <th>Brass Dhoop Aarti With Wooden Handle,No.3</th>\n",
       "      <th>Toilet Cleaning Brush - Round With Holder (Big)</th>\n",
       "      <th>Organic Powder - Garam Masala</th>\n",
       "      <th>Powder - Baking</th>\n",
       "      <th>Apple Cider Vinegar Shampoo</th>\n",
       "      <th>Wottagirl! Perfume Spray - Heaven, Classic</th>\n",
       "      <th>Rosemary</th>\n",
       "      <th>Peri-Peri Sweet Potato Chips</th>\n",
       "      <th>Green Tea - Pure Original</th>\n",
       "    </tr>\n",
       "    <tr>\n",
       "      <th>product</th>\n",
       "      <th></th>\n",
       "      <th></th>\n",
       "      <th></th>\n",
       "      <th></th>\n",
       "      <th></th>\n",
       "      <th></th>\n",
       "      <th></th>\n",
       "      <th></th>\n",
       "      <th></th>\n",
       "      <th></th>\n",
       "      <th></th>\n",
       "      <th></th>\n",
       "      <th></th>\n",
       "      <th></th>\n",
       "      <th></th>\n",
       "      <th></th>\n",
       "      <th></th>\n",
       "      <th></th>\n",
       "      <th></th>\n",
       "      <th></th>\n",
       "      <th></th>\n",
       "    </tr>\n",
       "  </thead>\n",
       "  <tbody>\n",
       "    <tr>\n",
       "      <th>Garlic Oil - Vegetarian Capsule 500 mg</th>\n",
       "      <td>1.000000</td>\n",
       "      <td>0.001015</td>\n",
       "      <td>0.026036</td>\n",
       "      <td>0.000908</td>\n",
       "      <td>0.619124</td>\n",
       "      <td>0.053850</td>\n",
       "      <td>0.827544</td>\n",
       "      <td>0.108101</td>\n",
       "      <td>0.097696</td>\n",
       "      <td>0.000452</td>\n",
       "      <td>...</td>\n",
       "      <td>0.061967</td>\n",
       "      <td>0.147656</td>\n",
       "      <td>0.019021</td>\n",
       "      <td>0.059346</td>\n",
       "      <td>0.001651</td>\n",
       "      <td>0.090112</td>\n",
       "      <td>0.307532</td>\n",
       "      <td>0.036781</td>\n",
       "      <td>0.065664</td>\n",
       "      <td>0.033211</td>\n",
       "    </tr>\n",
       "    <tr>\n",
       "      <th>Water Bottle - Orange</th>\n",
       "      <td>0.001015</td>\n",
       "      <td>1.000000</td>\n",
       "      <td>0.338951</td>\n",
       "      <td>0.963472</td>\n",
       "      <td>0.025136</td>\n",
       "      <td>0.017023</td>\n",
       "      <td>0.000000</td>\n",
       "      <td>0.022789</td>\n",
       "      <td>0.014338</td>\n",
       "      <td>0.014897</td>\n",
       "      <td>...</td>\n",
       "      <td>0.209023</td>\n",
       "      <td>0.140137</td>\n",
       "      <td>0.214740</td>\n",
       "      <td>0.075633</td>\n",
       "      <td>0.014971</td>\n",
       "      <td>0.014312</td>\n",
       "      <td>0.010640</td>\n",
       "      <td>0.022705</td>\n",
       "      <td>0.035596</td>\n",
       "      <td>0.000001</td>\n",
       "    </tr>\n",
       "  </tbody>\n",
       "</table>\n",
       "<p>2 rows × 24616 columns</p>\n",
       "</div>"
      ],
      "text/plain": [
       "product                                 Garlic Oil - Vegetarian Capsule 500 mg  \\\n",
       "product                                                                          \n",
       "Garlic Oil - Vegetarian Capsule 500 mg                                1.000000   \n",
       "Water Bottle - Orange                                                 0.001015   \n",
       "\n",
       "product                                 Water Bottle - Orange  \\\n",
       "product                                                         \n",
       "Garlic Oil - Vegetarian Capsule 500 mg               0.001015   \n",
       "Water Bottle - Orange                                1.000000   \n",
       "\n",
       "product                                 Brass Angle Deep - Plain, No.2  \\\n",
       "product                                                                  \n",
       "Garlic Oil - Vegetarian Capsule 500 mg                        0.026036   \n",
       "Water Bottle - Orange                                         0.338951   \n",
       "\n",
       "product                                 Cereal Flip Lid Container/Storage Jar - Assorted Colour  \\\n",
       "product                                                                                           \n",
       "Garlic Oil - Vegetarian Capsule 500 mg                                           0.000908         \n",
       "Water Bottle - Orange                                                            0.963472         \n",
       "\n",
       "product                                 Creme Soft Soap - For Hands & Body  \\\n",
       "product                                                                      \n",
       "Garlic Oil - Vegetarian Capsule 500 mg                            0.619124   \n",
       "Water Bottle - Orange                                             0.025136   \n",
       "\n",
       "product                                 Germ - Removal Multipurpose Wipes  \\\n",
       "product                                                                     \n",
       "Garlic Oil - Vegetarian Capsule 500 mg                           0.053850   \n",
       "Water Bottle - Orange                                            0.017023   \n",
       "\n",
       "product                                 Multani Mati  \\\n",
       "product                                                \n",
       "Garlic Oil - Vegetarian Capsule 500 mg      0.827544   \n",
       "Water Bottle - Orange                       0.000000   \n",
       "\n",
       "product                                 Hand Sanitizer - 70% Alcohol Base  \\\n",
       "product                                                                     \n",
       "Garlic Oil - Vegetarian Capsule 500 mg                           0.108101   \n",
       "Water Bottle - Orange                                            0.022789   \n",
       "\n",
       "product                                 Biotin & Collagen Volumizing Hair Shampoo + Biotin & Collagen Hair Conditioner  \\\n",
       "product                                                                                                                  \n",
       "Garlic Oil - Vegetarian Capsule 500 mg                                           0.097696                                \n",
       "Water Bottle - Orange                                                            0.014338                                \n",
       "\n",
       "product                                 Scrub Pad - Anti- Bacterial, Regular  \\\n",
       "product                                                                        \n",
       "Garlic Oil - Vegetarian Capsule 500 mg                              0.000452   \n",
       "Water Bottle - Orange                                               0.014897   \n",
       "\n",
       "product                                 ...  \\\n",
       "product                                 ...   \n",
       "Garlic Oil - Vegetarian Capsule 500 mg  ...   \n",
       "Water Bottle - Orange                   ...   \n",
       "\n",
       "product                                 Popcorn - French Butter & Pink Salt  \\\n",
       "product                                                                       \n",
       "Garlic Oil - Vegetarian Capsule 500 mg                             0.061967   \n",
       "Water Bottle - Orange                                              0.209023   \n",
       "\n",
       "product                                 Brass Dhoop Aarti With Wooden Handle,No.3  \\\n",
       "product                                                                             \n",
       "Garlic Oil - Vegetarian Capsule 500 mg                                   0.147656   \n",
       "Water Bottle - Orange                                                    0.140137   \n",
       "\n",
       "product                                 Toilet Cleaning Brush - Round With Holder (Big)  \\\n",
       "product                                                                                   \n",
       "Garlic Oil - Vegetarian Capsule 500 mg                                         0.019021   \n",
       "Water Bottle - Orange                                                          0.214740   \n",
       "\n",
       "product                                 Organic Powder - Garam Masala  \\\n",
       "product                                                                 \n",
       "Garlic Oil - Vegetarian Capsule 500 mg                       0.059346   \n",
       "Water Bottle - Orange                                        0.075633   \n",
       "\n",
       "product                                 Powder - Baking  \\\n",
       "product                                                   \n",
       "Garlic Oil - Vegetarian Capsule 500 mg         0.001651   \n",
       "Water Bottle - Orange                          0.014971   \n",
       "\n",
       "product                                 Apple Cider Vinegar Shampoo  \\\n",
       "product                                                               \n",
       "Garlic Oil - Vegetarian Capsule 500 mg                     0.090112   \n",
       "Water Bottle - Orange                                      0.014312   \n",
       "\n",
       "product                                 Wottagirl! Perfume Spray - Heaven, Classic  \\\n",
       "product                                                                              \n",
       "Garlic Oil - Vegetarian Capsule 500 mg                                    0.307532   \n",
       "Water Bottle - Orange                                                     0.010640   \n",
       "\n",
       "product                                 Rosemary  \\\n",
       "product                                            \n",
       "Garlic Oil - Vegetarian Capsule 500 mg  0.036781   \n",
       "Water Bottle - Orange                   0.022705   \n",
       "\n",
       "product                                 Peri-Peri Sweet Potato Chips  \\\n",
       "product                                                                \n",
       "Garlic Oil - Vegetarian Capsule 500 mg                      0.065664   \n",
       "Water Bottle - Orange                                       0.035596   \n",
       "\n",
       "product                                 Green Tea - Pure Original  \n",
       "product                                                            \n",
       "Garlic Oil - Vegetarian Capsule 500 mg                   0.033211  \n",
       "Water Bottle - Orange                                    0.000001  \n",
       "\n",
       "[2 rows x 24616 columns]"
      ]
     },
     "execution_count": 141,
     "metadata": {},
     "output_type": "execute_result"
    }
   ],
   "source": [
    "simil_pdcts_df.head(2)"
   ]
  },
  {
   "cell_type": "code",
   "execution_count": 142,
   "id": "d9c13364",
   "metadata": {},
   "outputs": [
    {
     "data": {
      "text/html": [
       "<div>\n",
       "<style scoped>\n",
       "    .dataframe tbody tr th:only-of-type {\n",
       "        vertical-align: middle;\n",
       "    }\n",
       "\n",
       "    .dataframe tbody tr th {\n",
       "        vertical-align: top;\n",
       "    }\n",
       "\n",
       "    .dataframe thead th {\n",
       "        text-align: right;\n",
       "    }\n",
       "</style>\n",
       "<table border=\"1\" class=\"dataframe\">\n",
       "  <thead>\n",
       "    <tr style=\"text-align: right;\">\n",
       "      <th></th>\n",
       "      <th>product</th>\n",
       "      <th>similarity</th>\n",
       "    </tr>\n",
       "  </thead>\n",
       "  <tbody>\n",
       "    <tr>\n",
       "      <th>1</th>\n",
       "      <td>Charcoal Face Pack</td>\n",
       "      <td>0.999089</td>\n",
       "    </tr>\n",
       "    <tr>\n",
       "      <th>2</th>\n",
       "      <td>Multani Mitti + Sandal Face Pack</td>\n",
       "      <td>0.998841</td>\n",
       "    </tr>\n",
       "    <tr>\n",
       "      <th>3</th>\n",
       "      <td>Cucumber Skin Toner/Astringent</td>\n",
       "      <td>0.998731</td>\n",
       "    </tr>\n",
       "    <tr>\n",
       "      <th>4</th>\n",
       "      <td>Papaya &amp; Apricot Scrub</td>\n",
       "      <td>0.998692</td>\n",
       "    </tr>\n",
       "    <tr>\n",
       "      <th>5</th>\n",
       "      <td>Activated Charcoal Facewash</td>\n",
       "      <td>0.998603</td>\n",
       "    </tr>\n",
       "  </tbody>\n",
       "</table>\n",
       "</div>"
      ],
      "text/plain": [
       "                            product  similarity\n",
       "1                Charcoal Face Pack    0.999089\n",
       "2  Multani Mitti + Sandal Face Pack    0.998841\n",
       "3    Cucumber Skin Toner/Astringent    0.998731\n",
       "4            Papaya & Apricot Scrub    0.998692\n",
       "5       Activated Charcoal Facewash    0.998603"
      ]
     },
     "execution_count": 142,
     "metadata": {},
     "output_type": "execute_result"
    }
   ],
   "source": [
    "most_simil = simil_pdcts_df.loc['Smooth Skin Oil - For Dry Skin'].reset_index()\n",
    "most_simil.columns = [\"product\",\"similarity\"]\n",
    "most_simil.sort_values(by=\"similarity\", ascending=False, inplace=True)\n",
    "most_simil.reset_index(drop=True, inplace=True)\n",
    "most_simil.iloc[1:6]"
   ]
  },
  {
   "cell_type": "code",
   "execution_count": 150,
   "id": "2d01ab25",
   "metadata": {},
   "outputs": [],
   "source": [
    "def get_recommendations(product,n):\n",
    "    if product not in simil_pdcts_df.columns:\n",
    "        print(f\"{product} does not belong to our product list\")\n",
    "    else:\n",
    "        most_simil = simil_pdcts_df.loc[product].reset_index()\n",
    "        most_simil.columns = [\"product\",\"similarity\"]\n",
    "        most_simil.sort_values(by=\"similarity\", ascending=False, inplace=True)\n",
    "        most_simil.reset_index(drop=True, inplace=True)\n",
    "        return most_simil[\"product\"].iloc[1:n+1]"
   ]
  },
  {
   "cell_type": "code",
   "execution_count": 151,
   "id": "ae6e1bfa",
   "metadata": {},
   "outputs": [
    {
     "data": {
      "text/plain": [
       "1                           Gluten-Free Singhara Atta\n",
       "2             Integrale - Whole Wheat Pennette Rigate\n",
       "3                                        Healthy Atta\n",
       "4                         Singhara Atta - Gluten Free\n",
       "5            Gluten-Free Vegetable Millet Khichdi Mix\n",
       "6             Gluten-Free Rajgira Atta/Amaranth Flour\n",
       "7     Gluten-Free Phulka Atta - Help in Control Sugar\n",
       "8                             Fettucine Italian Pasta\n",
       "9                                         Barley Atta\n",
       "10                      Rajgira Ke Atta - Gluten Free\n",
       "Name: product, dtype: object"
      ]
     },
     "execution_count": 151,
     "metadata": {},
     "output_type": "execute_result"
    }
   ],
   "source": [
    "get_recommendations('Salted Pumpkin',10)"
   ]
  },
  {
   "cell_type": "code",
   "execution_count": 152,
   "id": "95b50785",
   "metadata": {},
   "outputs": [
    {
     "name": "stdout",
     "output_type": "stream",
     "text": [
      "Shower Gel does not belong to our product list\n"
     ]
    }
   ],
   "source": [
    "get_recommendations(\"Shower Gel\", 5)"
   ]
  },
  {
   "cell_type": "code",
   "execution_count": 146,
   "id": "736bc75f-2c43-4afe-b598-dafbb1f447de",
   "metadata": {},
   "outputs": [],
   "source": [
    "# Function that takes in product name as input and outputs most similar products\n",
    "#def get_recommendations(\n",
    " #   product_name,\n",
    "  #  cosine_sim=cosine_sim,\n",
    "   # indices=indices,\n",
    "    #df=bigbasket_products_df\n",
    "#):#\n",
    "   # # Get the index of the movie that matches the title\n",
    "    #idx = indices[product_name]  # 1171 /Alien\n",
    "#\n",
    " #   # Get the pairwsie similarity scores of all movies with that movie\n",
    "  #  sim_scores = list(enumerate(cosine_sim[idx]))  # Fetching all cosine similarities for movie 1171\n",
    "#\n",
    " #   # Sort the movies based on the similarity scores\n",
    "  #  sim_scores = sorted(sim_scores, key=lambda x: x[1], reverse=True) # Sorting similar movies from highest to lowest\n",
    "#\n",
    " #   # Get the scores of the 10 most similar movies\n",
    "  #  sim_scores = sim_scores[1:11]\n",
    "#\n",
    " #   # Get the movie indices\n",
    "  #  product_indices = [i[0] for i in sim_scores]\n",
    "#\n",
    " #   # Return the top 10 most similar movies\n",
    "  #  return df[\"product\"].iloc[product_indices]"
   ]
  },
  {
   "cell_type": "code",
   "execution_count": 153,
   "id": "f94145fe-4fd8-4146-bad3-2e45f402b15f",
   "metadata": {},
   "outputs": [
    {
     "data": {
      "text/plain": [
       "1       Rectangular Container - With lid, Multicolour\n",
       "2            Round Plastic Container - With Lid, Pink\n",
       "3                               Water Bottle - Orange\n",
       "4    Round & Flat Storage Container - With lid, Green\n",
       "5                              Jar - With Lid, Yellow\n",
       "Name: product, dtype: object"
      ]
     },
     "execution_count": 153,
     "metadata": {},
     "output_type": "execute_result"
    }
   ],
   "source": [
    "product_name = \"Water Bottle - Orange\"\n",
    "\n",
    "get_recommendations(product_name,5)"
   ]
  },
  {
   "cell_type": "markdown",
   "id": "ecfe5a44",
   "metadata": {},
   "source": [
    "row3 has the same product name but the brand might not be the same."
   ]
  },
  {
   "cell_type": "code",
   "execution_count": 154,
   "id": "3e955696-1f96-48aa-9dbe-5340fd28cfef",
   "metadata": {},
   "outputs": [
    {
     "data": {
      "text/plain": [
       "1             Salsa Sweet Potato Chips\n",
       "2             Peri-Peri Beetroot Chips\n",
       "3              Barbeque Beetroot Chips\n",
       "4       Instant Popcorn - Seven Spices\n",
       "5    Instant Popcorn - Natural Healthy\n",
       "Name: product, dtype: object"
      ]
     },
     "execution_count": 154,
     "metadata": {},
     "output_type": "execute_result"
    }
   ],
   "source": [
    "product_name = \"Peri-Peri Sweet Potato Chips\"\n",
    "\n",
    "get_recommendations(product_name,5)"
   ]
  },
  {
   "cell_type": "markdown",
   "id": "1877cf1f-83d1-45c7-9232-add7e7ab32df",
   "metadata": {},
   "source": [
    "#### **Q4.** Collaborative Filtering\n",
    "    - Use the Restaurant data and build a Collaborative Filtering model\n",
    "    - Use the measures RMSE and MAE\n",
    "    - Use 3-fold cross validation"
   ]
  },
  {
   "cell_type": "code",
   "execution_count": 4,
   "id": "be5f59c3-b567-4011-9aa6-e924fb9560cf",
   "metadata": {},
   "outputs": [
    {
     "data": {
      "text/html": [
       "<div>\n",
       "<style scoped>\n",
       "    .dataframe tbody tr th:only-of-type {\n",
       "        vertical-align: middle;\n",
       "    }\n",
       "\n",
       "    .dataframe tbody tr th {\n",
       "        vertical-align: top;\n",
       "    }\n",
       "\n",
       "    .dataframe thead th {\n",
       "        text-align: right;\n",
       "    }\n",
       "</style>\n",
       "<table border=\"1\" class=\"dataframe\">\n",
       "  <thead>\n",
       "    <tr style=\"text-align: right;\">\n",
       "      <th></th>\n",
       "      <th>userID</th>\n",
       "      <th>placeID</th>\n",
       "      <th>rating</th>\n",
       "      <th>food_rating</th>\n",
       "      <th>service_rating</th>\n",
       "    </tr>\n",
       "  </thead>\n",
       "  <tbody>\n",
       "    <tr>\n",
       "      <th>0</th>\n",
       "      <td>U1077</td>\n",
       "      <td>135085</td>\n",
       "      <td>2</td>\n",
       "      <td>2</td>\n",
       "      <td>2</td>\n",
       "    </tr>\n",
       "    <tr>\n",
       "      <th>1</th>\n",
       "      <td>U1077</td>\n",
       "      <td>135038</td>\n",
       "      <td>2</td>\n",
       "      <td>2</td>\n",
       "      <td>1</td>\n",
       "    </tr>\n",
       "    <tr>\n",
       "      <th>2</th>\n",
       "      <td>U1077</td>\n",
       "      <td>132825</td>\n",
       "      <td>2</td>\n",
       "      <td>2</td>\n",
       "      <td>2</td>\n",
       "    </tr>\n",
       "    <tr>\n",
       "      <th>3</th>\n",
       "      <td>U1077</td>\n",
       "      <td>135060</td>\n",
       "      <td>1</td>\n",
       "      <td>2</td>\n",
       "      <td>2</td>\n",
       "    </tr>\n",
       "    <tr>\n",
       "      <th>4</th>\n",
       "      <td>U1068</td>\n",
       "      <td>135104</td>\n",
       "      <td>1</td>\n",
       "      <td>1</td>\n",
       "      <td>2</td>\n",
       "    </tr>\n",
       "  </tbody>\n",
       "</table>\n",
       "</div>"
      ],
      "text/plain": [
       "  userID  placeID  rating  food_rating  service_rating\n",
       "0  U1077   135085       2            2               2\n",
       "1  U1077   135038       2            2               1\n",
       "2  U1077   132825       2            2               2\n",
       "3  U1077   135060       1            2               2\n",
       "4  U1068   135104       1            1               2"
      ]
     },
     "execution_count": 4,
     "metadata": {},
     "output_type": "execute_result"
    }
   ],
   "source": [
    "# Load data with user_id, product_id and rating\n",
    "restaurant_df = pd.read_csv(\"data/restaurant/rating_final.csv\")\n",
    "\n",
    "restaurant_df.head()"
   ]
  },
  {
   "cell_type": "code",
   "execution_count": 5,
   "id": "fae7a062",
   "metadata": {},
   "outputs": [
    {
     "data": {
      "text/plain": [
       "count    1161.000000\n",
       "mean        1.168533\n",
       "std         0.697849\n",
       "min         0.000000\n",
       "25%         0.666667\n",
       "50%         1.333333\n",
       "75%         2.000000\n",
       "max         2.000000\n",
       "Name: avr_rating, dtype: float64"
      ]
     },
     "execution_count": 5,
     "metadata": {},
     "output_type": "execute_result"
    }
   ],
   "source": [
    "restaurant_df[\"avr_rating\"] = (restaurant_df[\"rating\"] + restaurant_df[\"food_rating\"] + \\\n",
    "                               restaurant_df[\"service_rating\"])/3\n",
    "restaurant_df[\"avr_rating\"].describe()"
   ]
  },
  {
   "cell_type": "code",
   "execution_count": 6,
   "id": "2c3742bb",
   "metadata": {},
   "outputs": [],
   "source": [
    "restaurant_df[\"avr_rating\"] = restaurant_df[\"avr_rating\"].round(2)\n"
   ]
  },
  {
   "cell_type": "code",
   "execution_count": 13,
   "id": "1d7a94ab",
   "metadata": {},
   "outputs": [
    {
     "data": {
      "text/plain": [
       "<Axes: xlabel='avr_rating', ylabel='Count'>"
      ]
     },
     "execution_count": 13,
     "metadata": {},
     "output_type": "execute_result"
    },
    {
     "data": {
      "image/png": "[encoded data removed]",
      "text/plain": [
       "<Figure size 640x480 with 1 Axes>"
      ]
     },
     "metadata": {},
     "output_type": "display_data"
    }
   ],
   "source": [
    "sns.histplot(restaurant_df[\"avr_rating\"], bins=10)"
   ]
  },
  {
   "cell_type": "code",
   "execution_count": 18,
   "id": "b6909c8c",
   "metadata": {},
   "outputs": [
    {
     "name": "stdout",
     "output_type": "stream",
     "text": [
      "138\n",
      "130\n"
     ]
    }
   ],
   "source": [
    "print(len(restaurant_df[\"userID\"].unique()))\n",
    "print(len(restaurant_df[\"placeID\"].unique()))"
   ]
  },
  {
   "cell_type": "code",
   "execution_count": 64,
   "id": "9a1e7b53",
   "metadata": {},
   "outputs": [
    {
     "data": {
      "text/plain": [
       "1161"
      ]
     },
     "execution_count": 64,
     "metadata": {},
     "output_type": "execute_result"
    }
   ],
   "source": [
    "len(restaurant_df)"
   ]
  },
  {
   "cell_type": "code",
   "execution_count": 65,
   "id": "b811d294",
   "metadata": {},
   "outputs": [
    {
     "data": {
      "text/plain": [
       "8.41304347826087"
      ]
     },
     "execution_count": 65,
     "metadata": {},
     "output_type": "execute_result"
    }
   ],
   "source": [
    "1161/138"
   ]
  },
  {
   "cell_type": "code",
   "execution_count": 66,
   "id": "43950764",
   "metadata": {},
   "outputs": [
    {
     "data": {
      "text/plain": [
       "8.930769230769231"
      ]
     },
     "execution_count": 66,
     "metadata": {},
     "output_type": "execute_result"
    }
   ],
   "source": [
    "1161/130"
   ]
  },
  {
   "cell_type": "markdown",
   "id": "a90eede8",
   "metadata": {},
   "source": [
    "On average, a restaurant received 8.9 ratings and a customer rated 8.4 restaurants. That may not be enough to evaluate customer's rating behaviour. "
   ]
  },
  {
   "cell_type": "code",
   "execution_count": 7,
   "id": "5fa12a01",
   "metadata": {},
   "outputs": [],
   "source": [
    "restaurants_rating = restaurant_df[[\"userID\",\"placeID\",\"avr_rating\"]]"
   ]
  },
  {
   "cell_type": "code",
   "execution_count": 2,
   "id": "d4452101-ed7f-4a2c-a7ac-b0a631a03a93",
   "metadata": {},
   "outputs": [],
   "source": [
    "# TODO - Collaborative Filtering model\n",
    "# https://surprise.readthedocs.io/en/stable/reader.html\n",
    "from surprise import Dataset\n",
    "from surprise import Reader\n",
    "from surprise import SVD\n",
    "from surprise.model_selection import cross_validate"
   ]
  },
  {
   "cell_type": "code",
   "execution_count": 8,
   "id": "de7a4691",
   "metadata": {},
   "outputs": [
    {
     "name": "stdout",
     "output_type": "stream",
     "text": [
      "<class 'pandas.core.frame.DataFrame'>\n",
      "RangeIndex: 1161 entries, 0 to 1160\n",
      "Data columns (total 3 columns):\n",
      " #   Column      Non-Null Count  Dtype  \n",
      "---  ------      --------------  -----  \n",
      " 0   userID      1161 non-null   object \n",
      " 1   placeID     1161 non-null   int64  \n",
      " 2   avr_rating  1161 non-null   float64\n",
      "dtypes: float64(1), int64(1), object(1)\n",
      "memory usage: 27.3+ KB\n"
     ]
    }
   ],
   "source": [
    "restaurants_rating.info()"
   ]
  },
  {
   "cell_type": "code",
   "execution_count": 9,
   "id": "ec755bff",
   "metadata": {},
   "outputs": [],
   "source": [
    "reader = Reader(rating_scale=(0,2))\n",
    "dataset = Dataset.load_from_df(restaurants_rating, reader)"
   ]
  },
  {
   "cell_type": "code",
   "execution_count": 12,
   "id": "076f4d5c",
   "metadata": {},
   "outputs": [
    {
     "name": "stdout",
     "output_type": "stream",
     "text": [
      "Evaluating RMSE, MAE of algorithm SVD on 3 split(s).\n",
      "\n",
      "                  Fold 1  Fold 2  Fold 3  Mean    Std     \n",
      "RMSE (testset)    0.6177  0.5916  0.6024  0.6039  0.0107  \n",
      "MAE (testset)     0.5090  0.4820  0.5072  0.4994  0.0123  \n",
      "Fit time          0.05    0.00    0.00    0.02    0.02    \n",
      "Test time         0.03    0.00    0.00    0.01    0.01    \n"
     ]
    }
   ],
   "source": [
    "svd = SVD()\n",
    "cross_validation = cross_validate(svd, dataset, measures=[\"RMSE\", \"MAE\"], cv=3, verbose=True)"
   ]
  },
  {
   "cell_type": "markdown",
   "id": "1706ce64",
   "metadata": {},
   "source": [
    "The fact that we have a RMSE higher than the MAE suggests the presence of outliers that the model has more difficulties to predict.  \n",
    "But overall, the model is not good as the error is 0.5-0.6 for a rating scale between 0 and 2.  \n",
    "This is most likely due to the small amount of ratings/user and per restaurants. We need more data.  \n",
    "Maybe we could think of increasing the scale of the rating?"
   ]
  },
  {
   "cell_type": "code",
   "execution_count": 22,
   "id": "4f545f64",
   "metadata": {},
   "outputs": [
    {
     "name": "stdout",
     "output_type": "stream",
     "text": [
      "The user U1068 is predicted to rate the restaurant 132825: 0.8072228332189926\n"
     ]
    }
   ],
   "source": [
    "trainset = dataset.build_full_trainset()\n",
    "svd.fit(trainset)\n",
    "user_id = \"U1068\"\n",
    "restaurant_id = 132825\t\n",
    "predict_rating = svd.predict(user_id,restaurant_id).est\n",
    "print(f\"The user {user_id} is predicted to rate the restaurant {restaurant_id}: {predict_rating}\")"
   ]
  }
 ],
 "metadata": {
  "kernelspec": {
   "display_name": "Essai",
   "language": "python",
   "name": "python3"
  },
  "language_info": {
   "codemirror_mode": {
    "name": "ipython",
    "version": 3
   },
   "file_extension": ".py",
   "mimetype": "text/x-python",
   "name": "python",
   "nbconvert_exporter": "python",
   "pygments_lexer": "ipython3",
   "version": "3.12.3"
  }
 },
 "nbformat": 4,
 "nbformat_minor": 5
}
